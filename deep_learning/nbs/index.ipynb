{
 "cells": [
  {
   "cell_type": "markdown",
   "metadata": {},
   "source": [
    "# Deep Learning\n",
    "> Collection of all my work related to deep learning, including personal projects and some random stuff.\n"
   ]
  },
  {
   "cell_type": "markdown",
   "metadata": {},
   "source": [
    "[https://kushajveersingh.github.io/](https://kushajveersingh.github.io/)"
   ]
  },
  {
   "cell_type": "markdown",
   "metadata": {},
   "source": [
    "## What's New"
   ]
  },
  {
   "cell_type": "markdown",
   "metadata": {},
   "source": [
    "### May 5, 2020\n",
    "* Created the repo\n",
    "* Migrated notes repo"
   ]
  },
  {
   "cell_type": "markdown",
   "metadata": {},
   "source": [
    "## In-Progress\n",
    "- TODO"
   ]
  },
  {
   "cell_type": "markdown",
   "metadata": {},
   "source": [
    "## TODO\n",
    "* TODO"
   ]
  },
  {
   "cell_type": "markdown",
   "metadata": {},
   "source": [
    "## Repository Structure\n",
    "This repository is built using [nbdev](https://nbdev.fast.ai/). The library folder is `.ignore`, as nothing important will be done here. Also, the notebooks folder is `deep_learning/nbs`.\n",
    "\n",
    "1. `deep_learning` folder\n",
    "    1. **nbs** - This folder can be ignored as it contains the notebooks needed to build the docs. Every file in `nbs` folder has the following structure.\n",
    "        \n",
    "        `deep_learning/nbs/notes_dl1_2020_lesson1.ipynb` -> file in `nbs` folder\n",
    "        \n",
    "        `deep_learning/notes/dl1_2020/lesson1.md` -> original file in `notes/dl1_2020` folder\n",
    "        \n",
    "        Based on the above syntax every notebook has a filename that corresponds to some folder in the original `deep_learning` folder.\n",
    "\n",
    "    2. **notes** - Check the [README.md](https://github.com/KushajveerSingh/deep_learning/blob/master/deep_learning/notes/README.md) of this folder for more details. It contains detailed lesson notes of fastai courses (dl1 2020) + personal scanned notes.\n",
    "        "
   ]
  },
  {
   "cell_type": "code",
   "execution_count": null,
   "metadata": {},
   "outputs": [],
   "source": []
  }
 ],
 "metadata": {
  "kernelspec": {
   "display_name": "Python 3",
   "language": "python",
   "name": "python3"
  }
 },
 "nbformat": 4,
 "nbformat_minor": 2
}
