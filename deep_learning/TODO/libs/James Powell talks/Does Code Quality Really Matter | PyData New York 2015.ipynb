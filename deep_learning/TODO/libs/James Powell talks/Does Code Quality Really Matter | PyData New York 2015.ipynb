{
 "cells": [
  {
   "cell_type": "markdown",
   "metadata": {},
   "source": [
    "# Does Code Quality Really Matter | PyData New York 2015"
   ]
  },
  {
   "cell_type": "markdown",
   "metadata": {},
   "source": [
    "We have to look at places where code quality matters and does not matter. THis is a useless question, as it is poorly specified (even worse than benchmarks). Most code is an artefact of some business process (not accounting for home recreational programmers). \n",
    "1. There exists some business process that is amenable to automation or mechanization.\n",
    "2. This problem can be 'modelled'.\n",
    "\n",
    "But this is a framework that guides use to clearer problem statements. Only by narrowing the question can we answer it meaningfully."
   ]
  },
  {
   "cell_type": "code",
   "execution_count": null,
   "metadata": {},
   "outputs": [],
   "source": []
  }
 ],
 "metadata": {
  "kernelspec": {
   "display_name": "Python 3",
   "language": "python",
   "name": "python3"
  }
 },
 "nbformat": 4,
 "nbformat_minor": 4
}
