{
 "cells": [
  {
   "cell_type": "markdown",
   "metadata": {},
   "source": [
    "# Why should I write code when I can write code that writes code?\n",
    "> The temptation to employ code-generating techniques in Python is strong. Much of what is called \"metaprogramming\" in Python refers to the various techniques through which we can write higher-order code: code that generates the code that solves our problem. This talk discusses various common approaches for code-generation, their applicability to solving real problems, and the reality of using these techniques in your work."
   ]
  },
  {
   "cell_type": "code",
   "execution_count": null,
   "metadata": {},
   "outputs": [
    {
     "name": "stdout",
     "output_type": "stream",
     "text": [
      "f(10, 20) = 30\n"
     ]
    }
   ],
   "source": [
    "# Consider a simple function\n",
    "def f(x, y):\n",
    "    return x + y\n",
    "print(f'{f(10, 20) = }')"
   ]
  },
  {
   "cell_type": "markdown",
   "metadata": {},
   "source": [
    "What happens is that python takes the source code and converts that into byte code and actually executes the byte code."
   ]
  },
  {
   "cell_type": "code",
   "execution_count": null,
   "metadata": {},
   "outputs": [
    {
     "name": "stdout",
     "output_type": "stream",
     "text": [
      "  3           0 LOAD_FAST                0 (x)\n",
      "              2 LOAD_FAST                1 (y)\n",
      "              4 BINARY_ADD\n",
      "              6 RETURN_VALUE\n"
     ]
    }
   ],
   "source": [
    "from dis import dis\n",
    "dis(f)"
   ]
  },
  {
   "cell_type": "markdown",
   "metadata": {},
   "source": [
    "WHat happpens beyond is that python takes this source code on dis transforms it into an AST. The ast looks something like this."
   ]
  },
  {
   "cell_type": "code",
   "execution_count": null,
   "metadata": {},
   "outputs": [
    {
     "data": {
      "text/plain": [
       "<_ast.Module at 0x7f24b81cec10>"
      ]
     },
     "execution_count": null,
     "metadata": {},
     "output_type": "execute_result"
    }
   ],
   "source": [
    "code = '''\n",
    "def f(x, y):\n",
    "    return x + y\n",
    "'''\n",
    "\n",
    "from ast import parse, dump\n",
    "parse(code)"
   ]
  },
  {
   "cell_type": "code",
   "execution_count": null,
   "metadata": {},
   "outputs": [
    {
     "name": "stdout",
     "output_type": "stream",
     "text": [
      "(\"Module(body=[FunctionDef(name='f', args=arguments(posonlyargs=[], \"\n",
      " \"args=[arg(arg='x', annotation=None, type_comment=None), arg(arg='y', \"\n",
      " 'annotation=None, type_comment=None)], vararg=None, kwonlyargs=[], '\n",
      " 'kw_defaults=[], kwarg=None, defaults=[]), '\n",
      " \"body=[Return(value=BinOp(left=Name(id='x', ctx=Load()), op=Add(), \"\n",
      " \"right=Name(id='y', ctx=Load())))], decorator_list=[], returns=None, \"\n",
      " 'type_comment=None)], type_ignores=[])')\n"
     ]
    }
   ],
   "source": [
    "code = '''\n",
    "def f(x, y):\n",
    "    return x + y\n",
    "'''\n",
    "\n",
    "from pprint import pprint\n",
    "pprint(dump(parse(code)))"
   ]
  },
  {
   "cell_type": "markdown",
   "metadata": {},
   "source": [
    "Once it creates the AST, it goes and tries to generate bytecode from that AST (like generating a symbol table, constant folding, optimization) but at the end you have a code object that looks like this."
   ]
  },
  {
   "cell_type": "code",
   "execution_count": null,
   "metadata": {},
   "outputs": [
    {
     "data": {
      "text/plain": [
       "<code object <module> at 0x7f249fc463a0, file \"\", line 2>"
      ]
     },
     "execution_count": null,
     "metadata": {},
     "output_type": "execute_result"
    }
   ],
   "source": [
    "code = '''\n",
    "def f(x, y):\n",
    "    return x + y\n",
    "'''\n",
    "\n",
    "ast = parse(code)\n",
    "bytecode = compile(ast, '', mode='exec')\n",
    "bytecode"
   ]
  },
  {
   "cell_type": "code",
   "execution_count": null,
   "metadata": {},
   "outputs": [
    {
     "data": {
      "text/plain": [
       "b'd\\x00d\\x01\\x84\\x00Z\\x00d\\x02S\\x00'"
      ]
     },
     "execution_count": null,
     "metadata": {},
     "output_type": "execute_result"
    }
   ],
   "source": [
    "# bytecode is exactly some bytes which tell python interpreter what to do\n",
    "bytecode.co_code"
   ]
  },
  {
   "cell_type": "code",
   "execution_count": null,
   "metadata": {},
   "outputs": [
    {
     "data": {
      "text/plain": [
       "[100, 0, 100, 1, 132, 0, 90, 0, 100, 2, 83, 0]"
      ]
     },
     "execution_count": null,
     "metadata": {},
     "output_type": "execute_result"
    }
   ],
   "source": [
    "list(bytecode.co_code)"
   ]
  },
  {
   "cell_type": "markdown",
   "metadata": {},
   "source": [
    "Bytecode is singe byte numeric values representing what is the operation that the python interpreter should do and the best way to look at that is to see what each number means."
   ]
  },
  {
   "cell_type": "code",
   "execution_count": null,
   "metadata": {},
   "outputs": [
    {
     "name": "stdout",
     "output_type": "stream",
     "text": [
      "['LOAD_CONST',\n",
      " '<0>',\n",
      " 'LOAD_CONST',\n",
      " 'POP_TOP',\n",
      " 'MAKE_FUNCTION',\n",
      " '<0>',\n",
      " 'STORE_NAME',\n",
      " '<0>',\n",
      " 'LOAD_CONST',\n",
      " 'ROT_TWO',\n",
      " 'RETURN_VALUE',\n",
      " '<0>']\n"
     ]
    }
   ],
   "source": [
    "from dis import opname\n",
    "pprint([opname[x] for x in bytecode.co_code])"
   ]
  },
  {
   "cell_type": "markdown",
   "metadata": {},
   "source": [
    "Now if we want to go deeper than that, we can think of how does it work in python. So the most naive understanding is there's a mechanism in python that looks at the bytecodes and runs them one by one. This is exactly what is done in CPython. In CPython there is a Pyeval method which does infinite looping to go through this bytecode. So if I write a function that calls another function than we can see multiple loops of Pyeval.\n",
    "\n",
    "What happens when we import a module? Here is a very siple example of what happens when you import a module for the first time in python. Python will see if it has imported the module before, if I have then return the value from sys.modules, if it is the first time then it looks for a .py file, opens it, gets the bytecode, compiles it and returns a namespace for it."
   ]
  },
  {
   "cell_type": "code",
   "execution_count": null,
   "metadata": {},
   "outputs": [
    {
     "name": "stdout",
     "output_type": "stream",
     "text": [
      "f(10, 20) = 30\n"
     ]
    }
   ],
   "source": [
    "from ast import parse\n",
    "from sys import modules\n",
    "from pathlib import Path\n",
    "\n",
    "def import_(mod):\n",
    "    if mod not in modules:\n",
    "        file = Path(mod).with_suffix('.py')\n",
    "        with open(file) as f:\n",
    "            source = f.read()\n",
    "        ast = parse(source)\n",
    "        code = compile(ast, mod, mode='exec')\n",
    "        ns = {}\n",
    "        exec(code, ns)\n",
    "        modules[mod] = ns\n",
    "    return modules[mod]\n",
    "\n",
    "f = import_('testmod')['f']\n",
    "print(f'{f(10, 20) = }')"
   ]
  },
  {
   "cell_type": "markdown",
   "metadata": {},
   "source": [
    "If we look at the building of a class."
   ]
  },
  {
   "cell_type": "code",
   "execution_count": null,
   "metadata": {},
   "outputs": [
    {
     "data": {
      "text/plain": [
       "'T.f(<__main__.T object at 0x7f93981c59a0>)'"
      ]
     },
     "execution_count": null,
     "metadata": {},
     "output_type": "execute_result"
    }
   ],
   "source": [
    "class T:\n",
    "    def f(self):\n",
    "        return f'T.f({self!r})'\n",
    "    \n",
    "T().f()"
   ]
  },
  {
   "cell_type": "markdown",
   "metadata": {},
   "source": [
    "Now to see what happens in the background is something as follows (Note the below code is not what really happens)."
   ]
  },
  {
   "cell_type": "code",
   "execution_count": null,
   "metadata": {},
   "outputs": [
    {
     "data": {
      "text/plain": [
       "'T.f(<__main__.T object at 0x7f937b412670>)'"
      ]
     },
     "execution_count": null,
     "metadata": {},
     "output_type": "execute_result"
    }
   ],
   "source": [
    "body = '''\n",
    "def f(self):\n",
    "    return f'T.f({self!r})'\n",
    "'''\n",
    "\n",
    "def build_class(name, body):\n",
    "    ns = {} # prepare\n",
    "    exec(body, ns)\n",
    "    t = type(name, (), ns) # __init__, __new__\n",
    "    return t\n",
    "\n",
    "T = build_class('T', body)\n",
    "T().f()"
   ]
  },
  {
   "cell_type": "markdown",
   "metadata": {},
   "source": [
    "What actually happens is a lot uglier. What happens is that you take the body of the function, you put it into another function, you execute that function to build the class body at runtime, you do that within a namespace."
   ]
  },
  {
   "cell_type": "markdown",
   "metadata": {},
   "source": [
    "Say you have two functions f and g."
   ]
  },
  {
   "cell_type": "code",
   "execution_count": null,
   "metadata": {},
   "outputs": [],
   "source": [
    "def f():\n",
    "    if account in active_account and user in authorized_users:\n",
    "        do_work()\n",
    "        \n",
    "def g():\n",
    "    if account in active_account and user in authorized_users:\n",
    "    do_other_work()"
   ]
  },
  {
   "cell_type": "markdown",
   "metadata": {},
   "source": [
    "Say the underlying codebase for valid users change, so you have to update both the above functions, but that is difficult. So we may write an abstraction as a function."
   ]
  },
  {
   "cell_type": "code",
   "execution_count": null,
   "metadata": {},
   "outputs": [],
   "source": [
    "def f():\n",
    "    check_authorized()\n",
    "    do_work()\n",
    "    \n",
    "def g():\n",
    "    check_authorized()\n",
    "    do_work()"
   ]
  },
  {
   "cell_type": "markdown",
   "metadata": {},
   "source": [
    "We can even use decorators to help with the problem."
   ]
  },
  {
   "cell_type": "code",
   "execution_count": null,
   "metadata": {},
   "outputs": [],
   "source": [
    "@check_authorized\n",
    "def f():\n",
    "    do_work()\n",
    "    \n",
    "@check_authorized\n",
    "def g():\n",
    "    do_other_work()"
   ]
  },
  {
   "cell_type": "markdown",
   "metadata": {},
   "source": [
    "So we are dealing with udpate anamalies here. We want our code to remain updated in different parts of our project without having to do much work. Auto code generation is one way to deal with this problem.\n",
    "\n",
    "Often people talk about code generaton as a metaprogramming approach. Most approaches of metaprogramming in python generally fall into four categories:\n",
    "* use some build-in functionality\n",
    "* hook into some built-in functionality\n",
    "* construct something dynamically \n",
    "    * (at various layers)"
   ]
  },
  {
   "cell_type": "code",
   "execution_count": null,
   "metadata": {},
   "outputs": [],
   "source": [
    "def f(x, y):\n",
    "    return x + y\n",
    "\n",
    "def g(x, y):\n",
    "    return x ** y"
   ]
  },
  {
   "cell_type": "markdown",
   "metadata": {},
   "source": [
    "A very simple functional programming approach to combine the above functions is to use a operation method."
   ]
  },
  {
   "cell_type": "code",
   "execution_count": null,
   "metadata": {},
   "outputs": [],
   "source": [
    "from operator import add, pow\n",
    "def func(x, y, op):\n",
    "    return op(x, y)"
   ]
  },
  {
   "cell_type": "markdown",
   "metadata": {},
   "source": [
    "Now if you want a function f and g which performs that functionality you can create a function inside a function."
   ]
  },
  {
   "cell_type": "code",
   "execution_count": null,
   "metadata": {},
   "outputs": [],
   "source": [
    "def create_func(op):\n",
    "    def func(x, y):\n",
    "        return op(x, y)\n",
    "    return func\n",
    "f = create_func(add)\n",
    "g = create_func(pow)"
   ]
  },
  {
   "cell_type": "markdown",
   "metadata": {},
   "source": [
    "If you dig deeper we can see the way we generate these functions in decorators are very closely tied to the way we create an instance of a class."
   ]
  },
  {
   "cell_type": "code",
   "execution_count": null,
   "metadata": {},
   "outputs": [],
   "source": []
  }
 ],
 "metadata": {
  "kernelspec": {
   "display_name": "Python 3",
   "language": "python",
   "name": "python3"
  }
 },
 "nbformat": 4,
 "nbformat_minor": 4
}
