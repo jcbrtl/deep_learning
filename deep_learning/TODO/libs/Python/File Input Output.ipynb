{
 "cells": [
  {
   "cell_type": "code",
   "execution_count": null,
   "metadata": {},
   "outputs": [],
   "source": [
    "# open is used to open a file object\n",
    "f = open('README.md', 'r')"
   ]
  },
  {
   "cell_type": "code",
   "execution_count": null,
   "metadata": {},
   "outputs": [],
   "source": [
    "# The different modes availabe are \n",
    "# r -> for reading the file\n",
    "# w -> for writing to the file\n",
    "# a -> for appending to the file i.e. adding to the last\n",
    "# r+ -> for both reading and writitng"
   ]
  },
  {
   "cell_type": "code",
   "execution_count": null,
   "metadata": {},
   "outputs": [
    {
     "data": {
      "text/plain": [
       "True"
      ]
     },
     "execution_count": null,
     "metadata": {},
     "output_type": "execute_result"
    }
   ],
   "source": [
    "# Always use with keyword to open a file as it ensures that the file is closed properly\n",
    "with open('README.md', 'r') as f:\n",
    "    read_data = f.read()    # read is used to get the contents of the opened file\n",
    "f.closed   \n",
    "# without the with keyword you should close the file as \n",
    "# f.close"
   ]
  },
  {
   "cell_type": "code",
   "execution_count": null,
   "metadata": {},
   "outputs": [
    {
     "name": "stdout",
     "output_type": "stream",
     "text": [
      "This is the first line.\n",
      "\n",
      "This is the second line.\n",
      "\n",
      "This is the last line.\n",
      "\n"
     ]
    },
    {
     "data": {
      "text/plain": [
       "True"
      ]
     },
     "execution_count": null,
     "metadata": {},
     "output_type": "execute_result"
    }
   ],
   "source": [
    "with open('Sample.txt', 'r') as f:\n",
    "    for line in f:\n",
    "        print(line)\n",
    "f.closed"
   ]
  },
  {
   "cell_type": "code",
   "execution_count": null,
   "metadata": {},
   "outputs": [
    {
     "name": "stdout",
     "output_type": "stream",
     "text": [
      "This is the first line.\n",
      "\n",
      "This is the second line.\n",
      "\n",
      "This is the last line.\n",
      "\n"
     ]
    }
   ],
   "source": [
    "with open('Sample.txt', 'r') as f:\n",
    "    first_line = f.readline()  # Introduces \\n at the end of lines\n",
    "    second_line = f.readline()\n",
    "    last_line = f.readline()\n",
    "f.closed\n",
    "\n",
    "print(first_line)\n",
    "print(second_line)\n",
    "print(last_line)"
   ]
  },
  {
   "cell_type": "code",
   "execution_count": null,
   "metadata": {},
   "outputs": [
    {
     "data": {
      "text/plain": [
       "True"
      ]
     },
     "execution_count": null,
     "metadata": {},
     "output_type": "execute_result"
    }
   ],
   "source": [
    "with open('Sample.txt', 'w') as f:\n",
    "    f.write('This is the test line\\n')\n",
    "f.closed"
   ]
  },
  {
   "cell_type": "code",
   "execution_count": null,
   "metadata": {},
   "outputs": [],
   "source": [
    "# To save complex data types like lists use JSON\n",
    "# It can take Python data hierarchies and convert them to string -> serializing\n",
    "# Reconstruct the data from string -> deserializing"
   ]
  },
  {
   "cell_type": "code",
   "execution_count": null,
   "metadata": {},
   "outputs": [
    {
     "data": {
      "text/plain": [
       "'[1, 2, \"a\"]'"
      ]
     },
     "execution_count": null,
     "metadata": {},
     "output_type": "execute_result"
    }
   ],
   "source": [
    "# To view json representation of an object\n",
    "import json\n",
    "data = [1,2,'a']\n",
    "\n",
    "json.dumps(data)"
   ]
  },
  {
   "cell_type": "code",
   "execution_count": null,
   "metadata": {},
   "outputs": [
    {
     "data": {
      "text/plain": [
       "'{\"one\": 1, \"two\": 2}'"
      ]
     },
     "execution_count": null,
     "metadata": {},
     "output_type": "execute_result"
    }
   ],
   "source": [
    "data = {'one':1, 'two':2}\n",
    "json.dumps(data)"
   ]
  },
  {
   "cell_type": "code",
   "execution_count": null,
   "metadata": {},
   "outputs": [
    {
     "data": {
      "text/plain": [
       "True"
      ]
     },
     "execution_count": null,
     "metadata": {},
     "output_type": "execute_result"
    }
   ],
   "source": [
    "# Write the json object to a file\n",
    "with open('Sample.txt', 'w') as f:\n",
    "    json.dump(data, f)\n",
    "f.closed"
   ]
  },
  {
   "cell_type": "code",
   "execution_count": null,
   "metadata": {},
   "outputs": [
    {
     "data": {
      "text/plain": [
       "{'one': 1, 'two': 2}"
      ]
     },
     "execution_count": null,
     "metadata": {},
     "output_type": "execute_result"
    }
   ],
   "source": [
    "# Get the json object from the file\n",
    "with open('Sample.txt', 'r') as f:\n",
    "    x = json.load(f)\n",
    "f.closed\n",
    "\n",
    "x"
   ]
  },
  {
   "cell_type": "code",
   "execution_count": null,
   "metadata": {},
   "outputs": [],
   "source": []
  }
 ],
 "metadata": {
  "kernelspec": {
   "display_name": "Python 3",
   "language": "python",
   "name": "python3"
  }
 },
 "nbformat": 4,
 "nbformat_minor": 2
}
