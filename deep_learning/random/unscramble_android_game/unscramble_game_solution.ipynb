{
 "cells": [
  {
   "cell_type": "code",
   "execution_count": 1,
   "metadata": {
    "ExecuteTime": {
     "end_time": "2020-05-06T08:20:19.710184Z",
     "start_time": "2020-05-06T08:20:19.706760Z"
    }
   },
   "outputs": [],
   "source": [
    "from itertools import combinations, permutations\n",
    "from collections import defaultdict\n",
    "import enchant\n",
    "dictionary = enchant.Dict(\"en_us\")"
   ]
  },
  {
   "cell_type": "code",
   "execution_count": 2,
   "metadata": {
    "ExecuteTime": {
     "end_time": "2020-05-06T08:00:51.315723Z",
     "start_time": "2020-05-06T08:00:51.304627Z"
    }
   },
   "outputs": [],
   "source": [
    "def get_subs(s:str):\n",
    "    return set([''.join(p) for r in range(2, len(s)+1) for p in permutations(s, r)])"
   ]
  },
  {
   "cell_type": "code",
   "execution_count": 3,
   "metadata": {},
   "outputs": [
    {
     "data": {
      "text/plain": [
       "{'ab', 'abc', 'ac', 'acb', 'ba', 'bac', 'bc', 'bca', 'ca', 'cab', 'cb', 'cba'}"
      ]
     },
     "execution_count": 3,
     "metadata": {},
     "output_type": "execute_result"
    }
   ],
   "source": [
    "subs = get_subs('abc')\n",
    "subs"
   ]
  },
  {
   "cell_type": "code",
   "execution_count": 4,
   "metadata": {},
   "outputs": [],
   "source": [
    "def check_subs(subs:set):\n",
    "    valid_subs = []\n",
    "    for sub in subs:\n",
    "        if dictionary.check(sub): valid_subs.append(sub)\n",
    "    return valid_subs"
   ]
  },
  {
   "cell_type": "code",
   "execution_count": 5,
   "metadata": {},
   "outputs": [
    {
     "data": {
      "text/plain": [
       "['ac', 'cab', 'ab', 'ca']"
      ]
     },
     "execution_count": 5,
     "metadata": {},
     "output_type": "execute_result"
    }
   ],
   "source": [
    "valid_subs = check_subs(subs)\n",
    "valid_subs"
   ]
  },
  {
   "cell_type": "code",
   "execution_count": 6,
   "metadata": {},
   "outputs": [
    {
     "name": "stdout",
     "output_type": "stream",
     "text": [
      "Words of length 2\n",
      "ab\n",
      "ac\n",
      "ca\n",
      "\n",
      "Words of length 3\n",
      "cab\n",
      "\n"
     ]
    }
   ],
   "source": [
    "def print_subs(valid_subs:list):\n",
    "    max_len = -1\n",
    "    for sub in valid_subs:\n",
    "        if len(sub) > max_len: max_len = len(sub)\n",
    "    \n",
    "    output = [[] for _ in range(max_len)]\n",
    "    for sub in valid_subs: output[len(sub)-1].append(sub)\n",
    "    \n",
    "    for i in range(len(output)): output[i].sort()\n",
    "        \n",
    "    for i, o in enumerate(output):\n",
    "        if len(o) == 0: continue\n",
    "        \n",
    "        print(f'Words of length {i+1}')\n",
    "        for o_ in o: print(f'{o_}')\n",
    "        print()\n",
    "    \n",
    "print_subs(valid_subs)"
   ]
  },
  {
   "cell_type": "code",
   "execution_count": 7,
   "metadata": {},
   "outputs": [],
   "source": [
    "def unscramble(s:str):\n",
    "    subs = get_subs(s)\n",
    "    valid_subs = check_subs(subs)\n",
    "    print_subs(valid_subs)"
   ]
  },
  {
   "cell_type": "code",
   "execution_count": 8,
   "metadata": {},
   "outputs": [
    {
     "name": "stdout",
     "output_type": "stream",
     "text": [
      "Words of length 2\n",
      "ab\n",
      "ac\n",
      "ca\n",
      "\n",
      "Words of length 3\n",
      "cab\n",
      "\n"
     ]
    }
   ],
   "source": [
    "unscramble('abc')"
   ]
  },
  {
   "cell_type": "code",
   "execution_count": 30,
   "metadata": {},
   "outputs": [
    {
     "name": "stdout",
     "output_type": "stream",
     "text": [
      "Words of length 2\n",
      "wt\n",
      "or\n",
      "to\n",
      "hr\n",
      "tr\n",
      "ow\n",
      "oh\n",
      "rt\n",
      "ho\n",
      "ht\n",
      "\n",
      "Words of length 3\n",
      "rot\n",
      "tow\n",
      "tho\n",
      "hot\n",
      "who\n",
      "rho\n",
      "how\n",
      "wot\n",
      "tor\n",
      "two\n",
      "row\n",
      "\n",
      "Words of length 4\n",
      "wort\n",
      "trow\n",
      "\n",
      "Words of length 5\n",
      "worth\n",
      "throw\n",
      "wroth\n",
      "\n"
     ]
    }
   ],
   "source": [
    "unscramble('otwrh')"
   ]
  },
  {
   "cell_type": "code",
   "execution_count": 10,
   "metadata": {},
   "outputs": [
    {
     "name": "stdout",
     "output_type": "stream",
     "text": [
      "Words of length 2\n",
      "cl\n",
      "co\n",
      "cu\n",
      "dc\n",
      "do\n",
      "lo\n",
      "\n",
      "Words of length 3\n",
      "cod\n",
      "col\n",
      "cud\n",
      "doc\n",
      "duo\n",
      "old\n",
      "\n",
      "Words of length 4\n",
      "clod\n",
      "cold\n",
      "loud\n",
      "ludo\n",
      "\n",
      "Words of length 5\n",
      "cloud\n",
      "could\n",
      "\n"
     ]
    }
   ],
   "source": [
    "unscramble('duloc')"
   ]
  },
  {
   "cell_type": "code",
   "execution_count": 11,
   "metadata": {},
   "outputs": [
    {
     "name": "stdout",
     "output_type": "stream",
     "text": [
      "Words of length 2\n",
      "ah\n",
      "at\n",
      "fa\n",
      "ft\n",
      "ha\n",
      "hf\n",
      "hi\n",
      "ht\n",
      "if\n",
      "it\n",
      "ta\n",
      "ti\n",
      "\n",
      "Words of length 3\n",
      "aft\n",
      "fat\n",
      "fit\n",
      "hat\n",
      "hit\n",
      "\n",
      "Words of length 4\n",
      "fiat\n",
      "haft\n",
      "\n",
      "Words of length 5\n",
      "faith\n",
      "\n"
     ]
    }
   ],
   "source": [
    "unscramble('tiafh')"
   ]
  },
  {
   "cell_type": "code",
   "execution_count": 12,
   "metadata": {},
   "outputs": [
    {
     "name": "stdout",
     "output_type": "stream",
     "text": [
      "Words of length 2\n",
      "be\n",
      "bl\n",
      "lb\n",
      "tb\n",
      "\n",
      "Words of length 3\n",
      "bee\n",
      "bet\n",
      "eel\n",
      "lee\n",
      "let\n",
      "tee\n",
      "tel\n",
      "\n",
      "Words of length 4\n",
      "beet\n",
      "belt\n",
      "\n",
      "Words of length 5\n",
      "betel\n",
      "\n",
      "Words of length 6\n",
      "beetle\n",
      "\n"
     ]
    }
   ],
   "source": [
    "unscramble('lebtee')"
   ]
  },
  {
   "cell_type": "code",
   "execution_count": null,
   "metadata": {},
   "outputs": [],
   "source": []
  }
 ],
 "metadata": {
  "kernelspec": {
   "display_name": "Python 3",
   "language": "python",
   "name": "python3"
  },
  "language_info": {
   "codemirror_mode": {
    "name": "ipython",
    "version": 3
   },
   "file_extension": ".py",
   "mimetype": "text/x-python",
   "name": "python",
   "nbconvert_exporter": "python",
   "pygments_lexer": "ipython3",
   "version": "3.8.2"
  },
  "latex_envs": {
   "LaTeX_envs_menu_present": true,
   "autoclose": true,
   "autocomplete": true,
   "bibliofile": "biblio.bib",
   "cite_by": "apalike",
   "current_citInitial": 1,
   "eqLabelWithNumbers": true,
   "eqNumInitial": 1,
   "hotkeys": {
    "equation": "Ctrl-E",
    "itemize": "Ctrl-I"
   },
   "labels_anchors": false,
   "latex_user_defs": false,
   "report_style_numbering": false,
   "user_envs_cfg": false
  },
  "toc": {
   "base_numbering": 1,
   "nav_menu": {},
   "number_sections": true,
   "sideBar": true,
   "skip_h1_title": false,
   "title_cell": "Table of Contents",
   "title_sidebar": "Contents",
   "toc_cell": false,
   "toc_position": {},
   "toc_section_display": true,
   "toc_window_display": false
  },
  "varInspector": {
   "cols": {
    "lenName": "20",
    "lenType": "25",
    "lenVar": "50"
   },
   "kernels_config": {
    "python": {
     "delete_cmd_postfix": "",
     "delete_cmd_prefix": "del ",
     "library": "var_list.py",
     "varRefreshCmd": "print(var_dic_list())"
    },
    "r": {
     "delete_cmd_postfix": ") ",
     "delete_cmd_prefix": "rm(",
     "library": "var_list.r",
     "varRefreshCmd": "cat(var_dic_list()) "
    }
   },
   "types_to_exclude": [
    "module",
    "function",
    "builtin_function_or_method",
    "instance",
    "_Feature"
   ],
   "window_display": false
  }
 },
 "nbformat": 4,
 "nbformat_minor": 4
}
