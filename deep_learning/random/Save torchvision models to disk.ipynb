{
 "cells": [
  {
   "cell_type": "code",
   "execution_count": null,
   "metadata": {},
   "outputs": [],
   "source": [
    "import torch\n",
    "import torchvision.models as models"
   ]
  },
  {
   "cell_type": "code",
   "execution_count": null,
   "metadata": {},
   "outputs": [
    {
     "name": "stderr",
     "output_type": "stream",
     "text": [
      "Downloading: \"https://download.pytorch.org/models/alexnet-owt-4df8aa71.pth\" to /home/kushaj/.torch/models/alexnet-owt-4df8aa71.pth\n",
      "100%|██████████| 244418560/244418560 [03:41<00:00, 1103257.46it/s]\n"
     ]
    }
   ],
   "source": [
    "alexnet = models.alexnet(pretrained=True)"
   ]
  },
  {
   "cell_type": "code",
   "execution_count": null,
   "metadata": {},
   "outputs": [
    {
     "name": "stderr",
     "output_type": "stream",
     "text": [
      "Downloading: \"https://download.pytorch.org/models/vgg11-bbd30ac9.pth\" to /home/kushaj/.torch/models/vgg11-bbd30ac9.pth\n",
      "100%|██████████| 531456000/531456000 [05:48<00:00, 1524847.95it/s]\n"
     ]
    }
   ],
   "source": [
    "vgg11 = models.vgg11(pretrained=True)"
   ]
  },
  {
   "cell_type": "code",
   "execution_count": null,
   "metadata": {},
   "outputs": [
    {
     "name": "stderr",
     "output_type": "stream",
     "text": [
      "Downloading: \"https://download.pytorch.org/models/vgg13-c768596a.pth\" to /home/kushaj/.torch/models/vgg13-c768596a.pth\n",
      "100%|██████████| 532194478/532194478 [11:09<00:00, 794603.61it/s] \n"
     ]
    }
   ],
   "source": [
    "vgg13 = models.vgg13(pretrained=True)"
   ]
  },
  {
   "cell_type": "code",
   "execution_count": null,
   "metadata": {},
   "outputs": [
    {
     "name": "stderr",
     "output_type": "stream",
     "text": [
      "Downloading: \"https://download.pytorch.org/models/vgg16-397923af.pth\" to /home/kushaj/.torch/models/vgg16-397923af.pth\n",
      "100%|██████████| 553433881/553433881 [12:35<00:00, 733005.21it/s]\n"
     ]
    }
   ],
   "source": [
    "vgg16 = models.vgg16(pretrained=True)"
   ]
  },
  {
   "cell_type": "code",
   "execution_count": null,
   "metadata": {},
   "outputs": [
    {
     "name": "stderr",
     "output_type": "stream",
     "text": [
      "Downloading: \"https://download.pytorch.org/models/vgg19-dcbb9e9d.pth\" to /home/kushaj/.torch/models/vgg19-dcbb9e9d.pth\n",
      "100%|██████████| 574673361/574673361 [14:00<00:00, 683660.43it/s] \n"
     ]
    }
   ],
   "source": [
    "vgg19 = models.vgg19(pretrained=True)"
   ]
  },
  {
   "cell_type": "code",
   "execution_count": null,
   "metadata": {},
   "outputs": [
    {
     "name": "stderr",
     "output_type": "stream",
     "text": [
      "Downloading: \"https://download.pytorch.org/models/vgg11_bn-6002323d.pth\" to /home/kushaj/.torch/models/vgg11_bn-6002323d.pth\n",
      "100%|██████████| 531503671/531503671 [08:09<00:00, 1086565.38it/s]\n"
     ]
    }
   ],
   "source": [
    "vgg11_bn = models.vgg11_bn(pretrained=True)"
   ]
  },
  {
   "cell_type": "code",
   "execution_count": null,
   "metadata": {},
   "outputs": [
    {
     "name": "stderr",
     "output_type": "stream",
     "text": [
      "Downloading: \"https://download.pytorch.org/models/vgg13_bn-abd245e5.pth\" to /home/kushaj/.torch/models/vgg13_bn-abd245e5.pth\n",
      "100%|██████████| 532246301/532246301 [06:18<00:00, 1406063.32it/s]\n"
     ]
    }
   ],
   "source": [
    "resnet18 = models"
   ]
  },
  {
   "cell_type": "code",
   "execution_count": null,
   "metadata": {},
   "outputs": [
    {
     "name": "stderr",
     "output_type": "stream",
     "text": [
      "Downloading: \"https://download.pytorch.org/models/vgg16_bn-6c64b313.pth\" to /home/kushaj/.torch/models/vgg16_bn-6c64b313.pth\n",
      "100%|██████████| 553507836/553507836 [08:58<00:00, 1028559.24it/s]\n"
     ]
    }
   ],
   "source": [
    "vgg16_bn = models.vgg16_bn(pretrained=True)"
   ]
  },
  {
   "cell_type": "code",
   "execution_count": null,
   "metadata": {},
   "outputs": [
    {
     "name": "stderr",
     "output_type": "stream",
     "text": [
      "Downloading: \"https://download.pytorch.org/models/vgg19_bn-c79401a0.pth\" to /home/kushaj/.torch/models/vgg19_bn-c79401a0.pth\n",
      "100%|██████████| 574769405/574769405 [13:27<00:00, 711552.65it/s] \n"
     ]
    }
   ],
   "source": [
    "vgg19_bn = models.vgg19_bn(pretrained=True)"
   ]
  },
  {
   "cell_type": "code",
   "execution_count": null,
   "metadata": {},
   "outputs": [
    {
     "name": "stderr",
     "output_type": "stream",
     "text": [
      "Downloading: \"https://download.pytorch.org/models/resnet18-5c106cde.pth\" to /home/kushaj/.torch/models/resnet18-5c106cde.pth\n",
      "100%|██████████| 46827520/46827520 [00:39<00:00, 1194119.50it/s]\n"
     ]
    }
   ],
   "source": [
    "resnet18 = models.resnet18(pretrained=True)"
   ]
  },
  {
   "cell_type": "code",
   "execution_count": null,
   "metadata": {},
   "outputs": [
    {
     "name": "stderr",
     "output_type": "stream",
     "text": [
      "Downloading: \"https://download.pytorch.org/models/resnet34-333f7ec4.pth\" to /home/kushaj/.torch/models/resnet34-333f7ec4.pth\n",
      "100%|██████████| 87306240/87306240 [01:32<00:00, 942875.82it/s] \n"
     ]
    }
   ],
   "source": [
    "resnet34 = models.resnet34(pretrained=True)"
   ]
  },
  {
   "cell_type": "code",
   "execution_count": null,
   "metadata": {},
   "outputs": [
    {
     "name": "stderr",
     "output_type": "stream",
     "text": [
      "Downloading: \"https://download.pytorch.org/models/resnet50-19c8e357.pth\" to /home/kushaj/.torch/models/resnet50-19c8e357.pth\n",
      "100%|██████████| 102502400/102502400 [00:58<00:00, 1764076.24it/s]\n"
     ]
    }
   ],
   "source": [
    "resnet50 = models.resnet50(pretrained=True)"
   ]
  },
  {
   "cell_type": "code",
   "execution_count": null,
   "metadata": {},
   "outputs": [
    {
     "name": "stderr",
     "output_type": "stream",
     "text": [
      "Downloading: \"https://download.pytorch.org/models/resnet101-5d3b4d8f.pth\" to /home/kushaj/.torch/models/resnet101-5d3b4d8f.pth\n",
      "100%|██████████| 178728960/178728960 [01:35<00:00, 1868877.10it/s]\n"
     ]
    }
   ],
   "source": [
    "resnet101 = models.resnet101(pretrained=True)"
   ]
  },
  {
   "cell_type": "code",
   "execution_count": null,
   "metadata": {},
   "outputs": [
    {
     "name": "stderr",
     "output_type": "stream",
     "text": [
      "Downloading: \"https://download.pytorch.org/models/resnet152-b121ed2d.pth\" to /home/kushaj/.torch/models/resnet152-b121ed2d.pth\n",
      "100%|██████████| 241530880/241530880 [04:42<00:00, 855158.92it/s]\n"
     ]
    }
   ],
   "source": [
    "resnet152 = models.resnet152(pretrained=True)"
   ]
  },
  {
   "cell_type": "code",
   "execution_count": null,
   "metadata": {},
   "outputs": [],
   "source": [
    "squeezenet1_0 = models.squeezenet1_0(pretrained=True)"
   ]
  },
  {
   "cell_type": "code",
   "execution_count": null,
   "metadata": {},
   "outputs": [
    {
     "name": "stderr",
     "output_type": "stream",
     "text": [
      "Downloading: \"https://download.pytorch.org/models/squeezenet1_1-f364aa15.pth\" to /home/kushaj/.torch/models/squeezenet1_1-f364aa15.pth\n",
      "100%|██████████| 4966400/4966400 [00:08<00:00, 598292.95it/s]\n"
     ]
    }
   ],
   "source": [
    "squeezenet1_1 = models.squeezenet1_1(pretrained=True)"
   ]
  },
  {
   "cell_type": "code",
   "execution_count": null,
   "metadata": {},
   "outputs": [
    {
     "name": "stderr",
     "output_type": "stream",
     "text": [
      "/home/kushaj/anaconda3/lib/python3.7/site-packages/torchvision/models/densenet.py:212: UserWarning: nn.init.kaiming_normal is now deprecated in favor of nn.init.kaiming_normal_.\n",
      "  nn.init.kaiming_normal(m.weight.data)\n",
      "Downloading: \"https://download.pytorch.org/models/densenet121-a639ec97.pth\" to /home/kushaj/.torch/models/densenet121-a639ec97.pth\n",
      "100%|██████████| 32342954/32342954 [00:50<00:00, 643294.33it/s]\n"
     ]
    }
   ],
   "source": [
    "densenet121 = models.densenet121(pretrained=True)"
   ]
  },
  {
   "cell_type": "code",
   "execution_count": null,
   "metadata": {},
   "outputs": [
    {
     "name": "stderr",
     "output_type": "stream",
     "text": [
      "Downloading: \"https://download.pytorch.org/models/densenet161-8d451a50.pth\" to /home/kushaj/.torch/models/densenet161-8d451a50.pth\n",
      "100%|██████████| 115730790/115730790 [02:32<00:00, 756706.58it/s]\n"
     ]
    }
   ],
   "source": [
    "densenet161 = models.densenet161(pretrained=True)"
   ]
  },
  {
   "cell_type": "code",
   "execution_count": null,
   "metadata": {},
   "outputs": [
    {
     "name": "stderr",
     "output_type": "stream",
     "text": [
      "Downloading: \"https://download.pytorch.org/models/densenet169-b2777c0a.pth\" to /home/kushaj/.torch/models/densenet169-b2777c0a.pth\n",
      "100%|██████████| 57365526/57365526 [01:44<00:00, 548924.85it/s]\n"
     ]
    }
   ],
   "source": [
    "densenet169 = models.densenet169(pretrained=True)"
   ]
  },
  {
   "cell_type": "code",
   "execution_count": null,
   "metadata": {},
   "outputs": [
    {
     "name": "stderr",
     "output_type": "stream",
     "text": [
      "Downloading: \"https://download.pytorch.org/models/densenet201-c1103571.pth\" to /home/kushaj/.torch/models/densenet201-c1103571.pth\n",
      "100%|██████████| 81131730/81131730 [01:52<00:00, 721865.57it/s] \n"
     ]
    }
   ],
   "source": [
    "densenet201 = models.densenet201(pretrained=True)"
   ]
  },
  {
   "cell_type": "code",
   "execution_count": null,
   "metadata": {},
   "outputs": [
    {
     "name": "stderr",
     "output_type": "stream",
     "text": [
      "Downloading: \"https://download.pytorch.org/models/inception_v3_google-1a9a5a14.pth\" to /home/kushaj/.torch/models/inception_v3_google-1a9a5a14.pth\n",
      "100%|██████████| 108857766/108857766 [02:00<00:00, 900975.35it/s]\n"
     ]
    }
   ],
   "source": [
    "inceptionv3 = models.inception_v3(pretrained=True)"
   ]
  },
  {
   "cell_type": "code",
   "execution_count": null,
   "metadata": {},
   "outputs": [],
   "source": [
    "torch.save(alexnet, \"alexnet.pth\")\n",
    "\n",
    "torch.save(vgg11, \"vgg11.pth\")\n",
    "torch.save(vgg13, \"vgg13.pth\")\n",
    "torch.save(vgg16, \"vgg16.pth\")\n",
    "torch.save(vgg19, \"vgg19.pth\")\n",
    "\n",
    "torch.save(vgg11_bn, \"vgg11_bn.pth\")\n",
    "torch.save(vgg13_bn, \"vgg13_bn.pth\")\n",
    "torch.save(vgg16_bn, \"vgg16_bn.pth\")\n",
    "torch.save(vgg19_bn, \"vgg19_bn.pth\")\n",
    "\n",
    "torch.save(resnet18, \"resnet18.pth\")\n",
    "torch.save(resnet34, \"resnet34.pth\")\n",
    "torch.save(resnet50, \"resnet50.pth\")\n",
    "torch.save(resnet101, \"resnet101.pth\")\n",
    "torch.save(resnet152, \"resnet152.pth\")\n",
    "\n",
    "torch.save(squeezenet1_0, \"squeezenet1_0.pth\")\n",
    "torch.save(squeezenet1_1, \"squeezenet1_1.pth\")\n",
    "\n",
    "torch.save(densenet121, \"densenet121.pth\")\n",
    "torch.save(densenet169, \"densenet169.pth\")\n",
    "torch.save(densenet201, \"densenet201.pth\")\n",
    "torch.save(densenet161, \"densenet161.pth\")\n",
    "\n",
    "torch.save(inceptionv3, \"inceptionv3.pth\")"
   ]
  },
  {
   "cell_type": "code",
   "execution_count": null,
   "metadata": {},
   "outputs": [],
   "source": []
  }
 ],
 "metadata": {
  "kernelspec": {
   "display_name": "Python 3",
   "language": "python",
   "name": "python3"
  }
 },
 "nbformat": 4,
 "nbformat_minor": 2
}
