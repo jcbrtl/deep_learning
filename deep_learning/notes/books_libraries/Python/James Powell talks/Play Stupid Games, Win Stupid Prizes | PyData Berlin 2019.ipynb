{
 "cells": [
  {
   "cell_type": "markdown",
   "metadata": {},
   "source": [
    "# Play Stupid Games, Win Stupid Prizes | PyData Berlin 2019"
   ]
  },
  {
   "cell_type": "markdown",
   "metadata": {},
   "source": [
    "Follow up talk on metaprogramming talk given, \"Why SHould I write code when I can write code that writes code\". \n",
    "\n",
    "Identifying update anomalies requires knowing what you're doing."
   ]
  },
  {
   "cell_type": "code",
   "execution_count": null,
   "metadata": {},
   "outputs": [],
   "source": [
    "for _ in range(10):\n",
    "    def f(x, y):\n",
    "        return x + y"
   ]
  },
  {
   "cell_type": "markdown",
   "metadata": {},
   "source": [
    "All the statements in python are executable i.e. they generate bytecode except three pass, global, nonlocal. So to discuss metaprogramming where we want to reduce repeated code consider the following example where we have four functions that perform very similar operation."
   ]
  },
  {
   "cell_type": "code",
   "execution_count": null,
   "metadata": {},
   "outputs": [],
   "source": [
    "def my_add(x, y):\n",
    "    return x + y\n",
    "\n",
    "def my_sub(x, y):\n",
    "    return x - y\n",
    "\n",
    "def my_mul(x, y):\n",
    "    return x * y\n",
    "\n",
    "def my_div(x, y):\n",
    "    return x / y"
   ]
  },
  {
   "cell_type": "markdown",
   "metadata": {},
   "source": [
    "How can I reduce the size of the encoding. As if I add something to a function I have to write it all functions. So the first solution you can come up is writing a function binop."
   ]
  },
  {
   "cell_type": "code",
   "execution_count": null,
   "metadata": {},
   "outputs": [],
   "source": [
    "from operator import add, mul, sub, truediv\n",
    "def binop(x, y, op):\n",
    "    return int(op(x, y))\n",
    "\n",
    "my_add = lambda x, y: bineop(x, y, add)"
   ]
  },
  {
   "cell_type": "markdown",
   "metadata": {},
   "source": [
    "I can use a decorator to reduce the code even further."
   ]
  },
  {
   "cell_type": "code",
   "execution_count": null,
   "metadata": {},
   "outputs": [
    {
     "data": {
      "text/plain": [
       "__main__.A"
      ]
     },
     "execution_count": null,
     "metadata": {},
     "output_type": "execute_result"
    }
   ],
   "source": [
    "class A: pass\n",
    "x = A()\n",
    "type(x)"
   ]
  },
  {
   "cell_type": "code",
   "execution_count": null,
   "metadata": {},
   "outputs": [],
   "source": []
  }
 ],
 "metadata": {
  "kernelspec": {
   "display_name": "Python 3",
   "language": "python",
   "name": "python3"
  }
 },
 "nbformat": 4,
 "nbformat_minor": 4
}
