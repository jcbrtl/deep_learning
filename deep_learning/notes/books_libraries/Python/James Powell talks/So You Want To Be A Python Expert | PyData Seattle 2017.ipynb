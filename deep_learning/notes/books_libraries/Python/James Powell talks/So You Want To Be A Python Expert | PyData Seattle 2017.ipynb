{
 "cells": [
  {
   "cell_type": "markdown",
   "metadata": {},
   "source": [
    "# So You Want To Be A Python Expert? | PyData Seattle 2017"
   ]
  },
  {
   "cell_type": "markdown",
   "metadata": {},
   "source": [
    "I discuss four features of Python, and how experts use these features. Let us start our discussion by discussing the data-model.\n",
    "\n",
    "I have some class that I want to represent as python object."
   ]
  },
  {
   "cell_type": "code",
   "execution_count": null,
   "metadata": {},
   "outputs": [],
   "source": [
    "class Polynomial:\n",
    "    pass\n",
    "\n",
    "p1 = Polynomial()\n",
    "p2 = Polynomial()\n",
    "\n",
    "p1.coeffs = 1, 2, 3 # x2 + 2x + 3\n",
    "p2.coeffs = 3, 4, 3 # 3x2 + 4x + 3"
   ]
  },
  {
   "cell_type": "markdown",
   "metadata": {},
   "source": [
    "Now just a side note I could have written the above code in a more compact way by adding an `__init__` method."
   ]
  },
  {
   "cell_type": "code",
   "execution_count": null,
   "metadata": {},
   "outputs": [],
   "source": [
    "class Polynomial:\n",
    "    def __init__(self, *coeffs):\n",
    "        self.coeffs = coeffs\n",
    "        \n",
    "p1 = Polynomial(1, 2, 3)\n",
    "p2 = Polynomial(3, 4, 3)"
   ]
  },
  {
   "cell_type": "code",
   "execution_count": null,
   "metadata": {},
   "outputs": [
    {
     "data": {
      "text/plain": [
       "<__main__.Polynomial at 0x7f65c08dfe20>"
      ]
     },
     "execution_count": null,
     "metadata": {},
     "output_type": "execute_result"
    }
   ],
   "source": [
    "p1"
   ]
  },
  {
   "cell_type": "code",
   "execution_count": null,
   "metadata": {},
   "outputs": [
    {
     "data": {
      "text/plain": [
       "<__main__.Polynomial at 0x7f65c08dfe20>"
      ]
     },
     "execution_count": null,
     "metadata": {},
     "output_type": "execute_result"
    }
   ],
   "source": [
    "p1"
   ]
  },
  {
   "cell_type": "markdown",
   "metadata": {},
   "source": [
    "Now when I look at the print statement I see that it is so ugly. I am missing `__repr__` method to represent the representation of my python object."
   ]
  },
  {
   "cell_type": "code",
   "execution_count": null,
   "metadata": {},
   "outputs": [],
   "source": [
    "class Polynomial:\n",
    "    def __init__(self, *coeffs):\n",
    "        self.coeffs = coeffs\n",
    "        \n",
    "    def __repr__(self):\n",
    "        return f'Polynomial(*{self.coeffs!r})'\n",
    "    \n",
    "p1 = Polynomial(1, 2, 3)\n",
    "p2 = Polynomial(3, 4, 3)"
   ]
  },
  {
   "cell_type": "code",
   "execution_count": null,
   "metadata": {},
   "outputs": [
    {
     "data": {
      "text/plain": [
       "Polynomial(*(1, 2, 3))"
      ]
     },
     "execution_count": null,
     "metadata": {},
     "output_type": "execute_result"
    }
   ],
   "source": [
    "p1"
   ]
  },
  {
   "cell_type": "code",
   "execution_count": null,
   "metadata": {},
   "outputs": [
    {
     "data": {
      "text/plain": [
       "Polynomial(*(3, 4, 3))"
      ]
     },
     "execution_count": null,
     "metadata": {},
     "output_type": "execute_result"
    }
   ],
   "source": [
    "p2"
   ]
  },
  {
   "cell_type": "code",
   "execution_count": null,
   "metadata": {},
   "outputs": [
    {
     "ename": "TypeError",
     "evalue": "unsupported operand type(s) for +: 'Polynomial' and 'Polynomial'",
     "output_type": "error",
     "traceback": [
      "\u001b[0;31m---------------------------------------------------------------------------\u001b[0m",
      "\u001b[0;31mTypeError\u001b[0m                                 Traceback (most recent call last)",
      "\u001b[0;32m<ipython-input-10-a0c3d63f397c>\u001b[0m in \u001b[0;36m<module>\u001b[0;34m\u001b[0m\n\u001b[0;32m----> 1\u001b[0;31m \u001b[0mp1\u001b[0m \u001b[0;34m+\u001b[0m \u001b[0mp2\u001b[0m\u001b[0;34m\u001b[0m\u001b[0;34m\u001b[0m\u001b[0m\n\u001b[0m",
      "\u001b[0;31mTypeError\u001b[0m: unsupported operand type(s) for +: 'Polynomial' and 'Polynomial'"
     ]
    }
   ],
   "source": [
    "p1 + p2"
   ]
  },
  {
   "cell_type": "markdown",
   "metadata": {},
   "source": [
    "This dosen't make sense. I know that I can add polynomials. I have another method called `__add__` to do that."
   ]
  },
  {
   "cell_type": "code",
   "execution_count": null,
   "metadata": {},
   "outputs": [],
   "source": [
    "class Polynomial:\n",
    "    def __init__(self, *coeffs):\n",
    "        self.coeffs = coeffs\n",
    "        \n",
    "    def __repr__(self):\n",
    "        return f'Polynomial(*{self.coeffs!r})'\n",
    "    \n",
    "    def __add__(self, other):\n",
    "        return Polynomial(*(x+y for x, y in zip(self.coeffs, other.coeffs)))\n",
    "    \n",
    "p1 = Polynomial(1, 2, 3)\n",
    "p2 = Polynomial(3, 4, 3)"
   ]
  },
  {
   "cell_type": "code",
   "execution_count": null,
   "metadata": {},
   "outputs": [
    {
     "data": {
      "text/plain": [
       "Polynomial(*(4, 6, 6))"
      ]
     },
     "execution_count": null,
     "metadata": {},
     "output_type": "execute_result"
    }
   ],
   "source": [
    "p1 + p2"
   ]
  },
  {
   "cell_type": "markdown",
   "metadata": {},
   "source": [
    "Now we begin some pattern. We have some behaviour that I want to implement and I write some `__function__` called dunder methods or data model methods. Whenever we have to implement this we observe that there is a top-level function or top-level syntax and then there is corresponding underscore function.\n",
    "* x + y    ->   \\_\\_add\\_\\_\n",
    "* init x   ->   \\_\\_init\\_\\_\n",
    "\n",
    "We know in python there is a function called len and we can implement that in class also using `__len__`."
   ]
  },
  {
   "cell_type": "code",
   "execution_count": null,
   "metadata": {},
   "outputs": [],
   "source": [
    "class Polynomial:\n",
    "    def __init__(self, *coeffs):\n",
    "        self.coeffs = coeffs\n",
    "        \n",
    "    def __repr__(self):\n",
    "        return f'Polynomial(*{self.coeffs!r})'\n",
    "    \n",
    "    def __add__(self, other):\n",
    "        return Polynomial(*(x+y for x, y in zip(self.coeffs, other.coeffs)))\n",
    "    \n",
    "    def __len__(self):\n",
    "        return len(self.coeffs)\n",
    "    \n",
    "p1 = Polynomial(1, 2, 3)\n",
    "p2 = Polynomial(3, 4, 3)"
   ]
  },
  {
   "cell_type": "code",
   "execution_count": null,
   "metadata": {},
   "outputs": [
    {
     "data": {
      "text/plain": [
       "(3, 3)"
      ]
     },
     "execution_count": null,
     "metadata": {},
     "output_type": "execute_result"
    }
   ],
   "source": [
    "len(p1), len(p2)"
   ]
  },
  {
   "cell_type": "markdown",
   "metadata": {},
   "source": [
    "The python data model is a means by which you can implement protocols. Those protocols have some abstract meaning depending on the object itself. We can think of this as a protocol as like many protocols when we implement something like len we do that by delegating back to the protocol. repr is implemented by calling repr in the function and same for add. "
   ]
  },
  {
   "cell_type": "markdown",
   "metadata": {},
   "source": [
    "## metaclasses\n",
    "Imagine there are two groups working on one piece of software. One group is a core infrastructure group and they write library code (library.py). The other group is a developer group and they write user code (user.py). The developer group takes the code written by core group and uses that library code to accomplish actual business objectives. Let's say this library provides classes and these classes are expected to be subclassed in the user code. "
   ]
  },
  {
   "cell_type": "code",
   "execution_count": null,
   "metadata": {},
   "outputs": [],
   "source": [
    "# library.py\n",
    "class Base:\n",
    "    pass\n",
    "\n",
    "# user.py\n",
    "class Derived(Base):\n",
    "    pass"
   ]
  },
  {
   "cell_type": "markdown",
   "metadata": {},
   "source": [
    "Adding one function to each file as follows."
   ]
  },
  {
   "cell_type": "code",
   "execution_count": null,
   "metadata": {},
   "outputs": [],
   "source": [
    "# library.py\n",
    "class Base:\n",
    "    def foo(self):\n",
    "        return f'foo'\n",
    "    \n",
    "# user.py\n",
    "class Derived(Base):\n",
    "    def bar(self):\n",
    "        return self.foo()"
   ]
  },
  {
   "cell_type": "markdown",
   "metadata": {},
   "source": [
    "Let's say you write user code and you cannot in any way alter or modify the core code. You can use it but cannot change it. Where can the user code break i.e. where does return `self.foo()` break. The answer is if there is no foo method. Now how you can insure that if there is no foo method in the core library than your code fails at any time rather than when the foo method is called. One simple way is to write a test. Anything simpler you can do.\n",
    "\n",
    "You can use hasattr."
   ]
  },
  {
   "cell_type": "code",
   "execution_count": null,
   "metadata": {},
   "outputs": [],
   "source": [
    "# user.py\n",
    "assert hasattr(Base, 'foo'), \"you broke it you fool!\""
   ]
  },
  {
   "cell_type": "markdown",
   "metadata": {},
   "source": [
    "We can see that we are adding a form of constraint. We are forcing some constraints on the library level. In other words the Derived class is enforcing constraint on the base class, the base class has to have these characteristics in order for me to run and be happy. And if it dosen't have these characteristics than I am going to fail and not run.\n",
    "\n",
    "Let's flip the script a little bit. Let's say we have a case that looks like this."
   ]
  },
  {
   "cell_type": "code",
   "execution_count": null,
   "metadata": {},
   "outputs": [],
   "source": [
    "# library.py\n",
    "class Base:\n",
    "    def foo(self):\n",
    "        return self.bar()\n",
    "    \n",
    "# user.py\n",
    "class Derived(Base):\n",
    "    def bar(self):\n",
    "        return 'bar'"
   ]
  },
  {
   "cell_type": "markdown",
   "metadata": {},
   "source": [
    "Let's say you are the core infrastructure writer and you have to deal with those meatheads in the business unit using your code and abusing your code. They have no idea what they are doing. And you write your base class under the assumption that some responsible developer in the business unit will go and implement this bar method because if they don't then everything falls apart. You cannot change the code on the user level. How do you make sure that the user does not screw up i.e. bar method is implemented by the user.\n",
    "\n",
    "There are three common questions to this. One of them is metaclasses.\n",
    "\n",
    "In python a class is a runtime executable code, which means I can do something like this."
   ]
  },
  {
   "cell_type": "code",
   "execution_count": null,
   "metadata": {},
   "outputs": [],
   "source": [
    "for _ in range(10):\n",
    "    class Base: pass"
   ]
  },
  {
   "cell_type": "code",
   "execution_count": null,
   "metadata": {},
   "outputs": [],
   "source": [
    " class Base:\n",
    "    for _ in range(10):\n",
    "        def bar(self): pass"
   ]
  },
  {
   "cell_type": "markdown",
   "metadata": {},
   "source": [
    "Let me define a class in a function and analyze it using dis module."
   ]
  },
  {
   "cell_type": "code",
   "execution_count": null,
   "metadata": {},
   "outputs": [
    {
     "name": "stdout",
     "output_type": "stream",
     "text": [
      "  2           0 LOAD_BUILD_CLASS\n",
      "              2 LOAD_CONST               1 (<code object Base at 0x7f65c0b83660, file \"<ipython-input-23-c0baff5fae0e>\", line 2>)\n",
      "              4 LOAD_CONST               2 ('Base')\n",
      "              6 MAKE_FUNCTION            0\n",
      "              8 LOAD_CONST               2 ('Base')\n",
      "             10 CALL_FUNCTION            2\n",
      "             12 STORE_FAST               0 (Base)\n",
      "             14 LOAD_CONST               0 (None)\n",
      "             16 RETURN_VALUE\n",
      "\n",
      "Disassembly of <code object Base at 0x7f65c0b83660, file \"<ipython-input-23-c0baff5fae0e>\", line 2>:\n",
      "  2           0 LOAD_NAME                0 (__name__)\n",
      "              2 STORE_NAME               1 (__module__)\n",
      "              4 LOAD_CONST               0 ('_.<locals>.Base')\n",
      "              6 STORE_NAME               2 (__qualname__)\n",
      "\n",
      "  3           8 LOAD_CONST               1 (None)\n",
      "             10 RETURN_VALUE\n"
     ]
    }
   ],
   "source": [
    "def _():\n",
    "    class Base:\n",
    "        pass\n",
    "    \n",
    "from dis import dis\n",
    "dis(_)"
   ]
  },
  {
   "cell_type": "markdown",
   "metadata": {},
   "source": [
    "We see a LOAD_BUILD_CLASS which a actual executable runtime instruction in the python interpreter for creating a class. As we discussed that in python there are protocols that we can use to hook into various aspects of python. It turns out that there is a hook that actually allows you to do things with the process of building class. The method is called `__build_class__` in the builtins module."
   ]
  },
  {
   "cell_type": "code",
   "execution_count": null,
   "metadata": {},
   "outputs": [],
   "source": [
    "old_bc = __build_class__\n",
    "import builtins\n",
    "\n",
    "def my_bc(*a, **k):\n",
    "    # Here I can patch into what python does when building classes\n",
    "    print(f'my buildclass -> {a} {k}')\n",
    "    return old_bc(*a, **k) \n",
    "\n",
    "builtins.__build_class__ = my_bc"
   ]
  },
  {
   "cell_type": "code",
   "execution_count": null,
   "metadata": {},
   "outputs": [
    {
     "name": "stdout",
     "output_type": "stream",
     "text": [
      "my buildclass -> (<function Derived at 0x7f65c05ae820>, 'Derived', <class '__main__.Base'>) {}\n"
     ]
    }
   ],
   "source": [
    "# user.py\n",
    "class Derived(Base):\n",
    "    def bar(self):\n",
    "        return 'bar'"
   ]
  },
  {
   "cell_type": "markdown",
   "metadata": {},
   "source": [
    "Now I can add my assert in the building of the class."
   ]
  },
  {
   "cell_type": "code",
   "execution_count": null,
   "metadata": {},
   "outputs": [
    {
     "name": "stdout",
     "output_type": "stream",
     "text": [
      "check if bar method is defined\n"
     ]
    }
   ],
   "source": [
    "# library.py\n",
    "class Base:\n",
    "    def foo(self):\n",
    "        return self.bar()\n",
    "    \n",
    "import builtins\n",
    "old_bc = __build_class__\n",
    "\n",
    "def my_bc(fun, name, base=None, **k):\n",
    "    if base is Base:\n",
    "        print('check if bar method is defined')\n",
    "    if base is not None:\n",
    "        return old_bc(fun, name, base, **k)\n",
    "    return old_bc(fun, name, **k)\n",
    "\n",
    "builtins.__build_class__ = my_bc\n",
    "\n",
    "# user.py\n",
    "class Derived(Base):\n",
    "    def bar(self):\n",
    "        return 'bar'"
   ]
  },
  {
   "cell_type": "markdown",
   "metadata": {},
   "source": [
    "This is a clear example of python being a protocol oriented language and you can literally hook into anything in python. We now explore how metaclasses work."
   ]
  },
  {
   "cell_type": "code",
   "execution_count": null,
   "metadata": {},
   "outputs": [
    {
     "name": "stdout",
     "output_type": "stream",
     "text": [
      "BaseMeta.__new__(<class '__main__.BaseMeta'>, Base, (), {'__module__': '__main__', '__qualname__': 'Base', 'foo': <function Base.foo at 0x7ff6c868d9d0>})\n",
      "BaseMeta.__new__(<class '__main__.BaseMeta'>, Derived, (<class '__main__.Base'>,), {'__module__': '__main__', '__qualname__': 'Derived', 'bar': <function Derived.bar at 0x7ff6c868dc10>})\n"
     ]
    }
   ],
   "source": [
    "# library.py\n",
    "class BaseMeta(type):\n",
    "    def __new__(cls, name, bases, body):\n",
    "        print(f'BaseMeta.__new__({cls}, {name}, {bases}, {body})')\n",
    "        return super().__new__(cls, name, bases, body)\n",
    "\n",
    "class Base(metaclass=BaseMeta):\n",
    "    def foo(self):\n",
    "        return self.bar()\n",
    "    \n",
    "# user.py\n",
    "class Derived(Base):\n",
    "    def bar(self):\n",
    "        return 'bar'"
   ]
  },
  {
   "cell_type": "markdown",
   "metadata": {},
   "source": [
    "Metaclasses are classes that derive from `type` that have some special methods on them that you have to read the documentation inorder to understand but fundamentally allow you to intercept the construction of derived classes. We see that a dictionary is returned so to check if a method exists I can simply do an assert."
   ]
  },
  {
   "cell_type": "code",
   "execution_count": null,
   "metadata": {},
   "outputs": [
    {
     "ename": "TypeError",
     "evalue": "bad user class",
     "output_type": "error",
     "traceback": [
      "\u001b[0;31m---------------------------------------------------------------------------\u001b[0m",
      "\u001b[0;31mTypeError\u001b[0m                                 Traceback (most recent call last)",
      "\u001b[0;32m<ipython-input-6-537b2e7d5c86>\u001b[0m in \u001b[0;36m<module>\u001b[0;34m\u001b[0m\n\u001b[1;32m      8\u001b[0m         \u001b[0;32mreturn\u001b[0m \u001b[0msuper\u001b[0m\u001b[0;34m(\u001b[0m\u001b[0;34m)\u001b[0m\u001b[0;34m.\u001b[0m\u001b[0m__new__\u001b[0m\u001b[0;34m(\u001b[0m\u001b[0mcls\u001b[0m\u001b[0;34m,\u001b[0m \u001b[0mname\u001b[0m\u001b[0;34m,\u001b[0m \u001b[0mbases\u001b[0m\u001b[0;34m,\u001b[0m \u001b[0mbody\u001b[0m\u001b[0;34m)\u001b[0m\u001b[0;34m\u001b[0m\u001b[0;34m\u001b[0m\u001b[0m\n\u001b[1;32m      9\u001b[0m \u001b[0;34m\u001b[0m\u001b[0m\n\u001b[0;32m---> 10\u001b[0;31m \u001b[0;32mclass\u001b[0m \u001b[0mBase\u001b[0m\u001b[0;34m(\u001b[0m\u001b[0mmetaclass\u001b[0m\u001b[0;34m=\u001b[0m\u001b[0mBaseMeta\u001b[0m\u001b[0;34m)\u001b[0m\u001b[0;34m:\u001b[0m\u001b[0;34m\u001b[0m\u001b[0;34m\u001b[0m\u001b[0m\n\u001b[0m\u001b[1;32m     11\u001b[0m     \u001b[0;32mdef\u001b[0m \u001b[0mfoo\u001b[0m\u001b[0;34m(\u001b[0m\u001b[0mself\u001b[0m\u001b[0;34m)\u001b[0m\u001b[0;34m:\u001b[0m\u001b[0;34m\u001b[0m\u001b[0;34m\u001b[0m\u001b[0m\n\u001b[1;32m     12\u001b[0m         \u001b[0;32mreturn\u001b[0m \u001b[0mself\u001b[0m\u001b[0;34m.\u001b[0m\u001b[0mbar\u001b[0m\u001b[0;34m(\u001b[0m\u001b[0;34m)\u001b[0m\u001b[0;34m\u001b[0m\u001b[0;34m\u001b[0m\u001b[0m\n",
      "\u001b[0;32m<ipython-input-6-537b2e7d5c86>\u001b[0m in \u001b[0;36m__new__\u001b[0;34m(cls, name, bases, body)\u001b[0m\n\u001b[1;32m      5\u001b[0m     \u001b[0;32mdef\u001b[0m \u001b[0m__new__\u001b[0m\u001b[0;34m(\u001b[0m\u001b[0mcls\u001b[0m\u001b[0;34m,\u001b[0m \u001b[0mname\u001b[0m\u001b[0;34m,\u001b[0m \u001b[0mbases\u001b[0m\u001b[0;34m,\u001b[0m \u001b[0mbody\u001b[0m\u001b[0;34m)\u001b[0m\u001b[0;34m:\u001b[0m\u001b[0;34m\u001b[0m\u001b[0;34m\u001b[0m\u001b[0m\n\u001b[1;32m      6\u001b[0m         \u001b[0;32mif\u001b[0m \u001b[0;32mnot\u001b[0m \u001b[0;34m'bar'\u001b[0m \u001b[0;32min\u001b[0m \u001b[0mbody\u001b[0m\u001b[0;34m:\u001b[0m\u001b[0;34m\u001b[0m\u001b[0;34m\u001b[0m\u001b[0m\n\u001b[0;32m----> 7\u001b[0;31m             \u001b[0;32mraise\u001b[0m \u001b[0mTypeError\u001b[0m\u001b[0;34m(\u001b[0m\u001b[0;34m\"bad user class\"\u001b[0m\u001b[0;34m)\u001b[0m\u001b[0;34m\u001b[0m\u001b[0;34m\u001b[0m\u001b[0m\n\u001b[0m\u001b[1;32m      8\u001b[0m         \u001b[0;32mreturn\u001b[0m \u001b[0msuper\u001b[0m\u001b[0;34m(\u001b[0m\u001b[0;34m)\u001b[0m\u001b[0;34m.\u001b[0m\u001b[0m__new__\u001b[0m\u001b[0;34m(\u001b[0m\u001b[0mcls\u001b[0m\u001b[0;34m,\u001b[0m \u001b[0mname\u001b[0m\u001b[0;34m,\u001b[0m \u001b[0mbases\u001b[0m\u001b[0;34m,\u001b[0m \u001b[0mbody\u001b[0m\u001b[0;34m)\u001b[0m\u001b[0;34m\u001b[0m\u001b[0;34m\u001b[0m\u001b[0m\n\u001b[1;32m      9\u001b[0m \u001b[0;34m\u001b[0m\u001b[0m\n",
      "\u001b[0;31mTypeError\u001b[0m: bad user class"
     ]
    }
   ],
   "source": [
    "# In this case there is no `bar` method in `Base`\n",
    "\n",
    "# library.py\n",
    "class BaseMeta(type):\n",
    "    def __new__(cls, name, bases, body):\n",
    "        if not 'bar' in body:\n",
    "            raise TypeError(\"bad user class\")\n",
    "        return super().__new__(cls, name, bases, body)\n",
    "\n",
    "class Base(metaclass=BaseMeta):\n",
    "    def foo(self):\n",
    "        return self.bar()\n",
    "    \n",
    "# user.py\n",
    "class Derived(Base):\n",
    "    def bar(self):\n",
    "        return 'bar'"
   ]
  },
  {
   "cell_type": "code",
   "execution_count": null,
   "metadata": {},
   "outputs": [
    {
     "ename": "TypeError",
     "evalue": "bad user class",
     "output_type": "error",
     "traceback": [
      "\u001b[0;31m---------------------------------------------------------------------------\u001b[0m",
      "\u001b[0;31mTypeError\u001b[0m                                 Traceback (most recent call last)",
      "\u001b[0;32m<ipython-input-7-485b548f4e91>\u001b[0m in \u001b[0;36m<module>\u001b[0;34m\u001b[0m\n\u001b[1;32m     15\u001b[0m \u001b[0;34m\u001b[0m\u001b[0m\n\u001b[1;32m     16\u001b[0m \u001b[0;31m# user.py\u001b[0m\u001b[0;34m\u001b[0m\u001b[0;34m\u001b[0m\u001b[0;34m\u001b[0m\u001b[0m\n\u001b[0;32m---> 17\u001b[0;31m \u001b[0;32mclass\u001b[0m \u001b[0mDerived\u001b[0m\u001b[0;34m(\u001b[0m\u001b[0mBase\u001b[0m\u001b[0;34m)\u001b[0m\u001b[0;34m:\u001b[0m\u001b[0;34m\u001b[0m\u001b[0;34m\u001b[0m\u001b[0m\n\u001b[0m\u001b[1;32m     18\u001b[0m     \u001b[0;32mdef\u001b[0m \u001b[0mba\u001b[0m\u001b[0;34m(\u001b[0m\u001b[0mself\u001b[0m\u001b[0;34m)\u001b[0m\u001b[0;34m:\u001b[0m\u001b[0;34m\u001b[0m\u001b[0;34m\u001b[0m\u001b[0m\n\u001b[1;32m     19\u001b[0m         \u001b[0;32mreturn\u001b[0m \u001b[0;34m'bar'\u001b[0m\u001b[0;34m\u001b[0m\u001b[0;34m\u001b[0m\u001b[0m\n",
      "\u001b[0;32m<ipython-input-7-485b548f4e91>\u001b[0m in \u001b[0;36m__new__\u001b[0;34m(cls, name, bases, body)\u001b[0m\n\u001b[1;32m      5\u001b[0m     \u001b[0;32mdef\u001b[0m \u001b[0m__new__\u001b[0m\u001b[0;34m(\u001b[0m\u001b[0mcls\u001b[0m\u001b[0;34m,\u001b[0m \u001b[0mname\u001b[0m\u001b[0;34m,\u001b[0m \u001b[0mbases\u001b[0m\u001b[0;34m,\u001b[0m \u001b[0mbody\u001b[0m\u001b[0;34m)\u001b[0m\u001b[0;34m:\u001b[0m\u001b[0;34m\u001b[0m\u001b[0;34m\u001b[0m\u001b[0m\n\u001b[1;32m      6\u001b[0m         \u001b[0;32mif\u001b[0m \u001b[0;32mnot\u001b[0m \u001b[0;34m'bar'\u001b[0m \u001b[0;32min\u001b[0m \u001b[0mbody\u001b[0m\u001b[0;34m:\u001b[0m\u001b[0;34m\u001b[0m\u001b[0;34m\u001b[0m\u001b[0m\n\u001b[0;32m----> 7\u001b[0;31m             \u001b[0;32mraise\u001b[0m \u001b[0mTypeError\u001b[0m\u001b[0;34m(\u001b[0m\u001b[0;34m\"bad user class\"\u001b[0m\u001b[0;34m)\u001b[0m\u001b[0;34m\u001b[0m\u001b[0;34m\u001b[0m\u001b[0m\n\u001b[0m\u001b[1;32m      8\u001b[0m         \u001b[0;32mreturn\u001b[0m \u001b[0msuper\u001b[0m\u001b[0;34m(\u001b[0m\u001b[0;34m)\u001b[0m\u001b[0;34m.\u001b[0m\u001b[0m__new__\u001b[0m\u001b[0;34m(\u001b[0m\u001b[0mcls\u001b[0m\u001b[0;34m,\u001b[0m \u001b[0mname\u001b[0m\u001b[0;34m,\u001b[0m \u001b[0mbases\u001b[0m\u001b[0;34m,\u001b[0m \u001b[0mbody\u001b[0m\u001b[0;34m)\u001b[0m\u001b[0;34m\u001b[0m\u001b[0;34m\u001b[0m\u001b[0m\n\u001b[1;32m      9\u001b[0m \u001b[0;34m\u001b[0m\u001b[0m\n",
      "\u001b[0;31mTypeError\u001b[0m: bad user class"
     ]
    }
   ],
   "source": [
    "# In this case there was not bar method in Base\n",
    "\n",
    "# library.py\n",
    "class BaseMeta(type):\n",
    "    def __new__(cls, name, bases, body):\n",
    "        if not 'bar' in body:\n",
    "            raise TypeError(\"bad user class\")\n",
    "        return super().__new__(cls, name, bases, body)\n",
    "\n",
    "class Base(metaclass=BaseMeta):\n",
    "    def foo(self):\n",
    "        return self.bar()\n",
    "    \n",
    "    def bar(self): pass\n",
    "    \n",
    "# user.py\n",
    "class Derived(Base):\n",
    "    def ba(self):\n",
    "        return 'bar'"
   ]
  },
  {
   "cell_type": "markdown",
   "metadata": {},
   "source": [
    "The second is even easier. In python metaclasses have a bad reputation because even those people who understand where they're useful see that metaclasses have a lot of complexity to them. The above implementation is a bit clumpsy so in python 3.6 they added a new feature called `__init_subclass__` and it allows you to hook into the process when a subclass is created."
   ]
  },
  {
   "cell_type": "code",
   "execution_count": null,
   "metadata": {},
   "outputs": [
    {
     "name": "stdout",
     "output_type": "stream",
     "text": [
      "__init_subclass__((), {})\n"
     ]
    }
   ],
   "source": [
    "# library.py\n",
    "class Base:\n",
    "    def foo(self):\n",
    "        return self.bar()\n",
    "    \n",
    "    def __init_subclass__(self, *a, **kw):\n",
    "        print(f'__init_subclass__({a}, {kw})')\n",
    "        super().__init_subclass__(*a, **kw)\n",
    "        \n",
    "# user.py\n",
    "class Derived(Base):\n",
    "    def bar(self):\n",
    "        return 'bar'"
   ]
  },
  {
   "cell_type": "markdown",
   "metadata": {},
   "source": [
    "## Decorators\n",
    "It is @dec  before some function."
   ]
  },
  {
   "cell_type": "code",
   "execution_count": null,
   "metadata": {},
   "outputs": [],
   "source": [
    "def add(x, y=10):\n",
    "    return x + y"
   ]
  },
  {
   "cell_type": "code",
   "execution_count": null,
   "metadata": {},
   "outputs": [
    {
     "data": {
      "text/plain": [
       "30"
      ]
     },
     "execution_count": null,
     "metadata": {},
     "output_type": "execute_result"
    }
   ],
   "source": [
    "add(10, 20)"
   ]
  },
  {
   "cell_type": "code",
   "execution_count": null,
   "metadata": {},
   "outputs": [
    {
     "data": {
      "text/plain": [
       "b'|\\x00|\\x01\\x17\\x00S\\x00'"
      ]
     },
     "execution_count": null,
     "metadata": {},
     "output_type": "execute_result"
    }
   ],
   "source": [
    "add.__code__.co_code"
   ]
  },
  {
   "cell_type": "code",
   "execution_count": null,
   "metadata": {},
   "outputs": [
    {
     "data": {
      "text/plain": [
       "2"
      ]
     },
     "execution_count": null,
     "metadata": {},
     "output_type": "execute_result"
    }
   ],
   "source": [
    "add.__code__.co_nlocals"
   ]
  },
  {
   "cell_type": "code",
   "execution_count": null,
   "metadata": {},
   "outputs": [
    {
     "data": {
      "text/plain": [
       "('x', 'y')"
      ]
     },
     "execution_count": null,
     "metadata": {},
     "output_type": "execute_result"
    }
   ],
   "source": [
    "add.__code__.co_varnames"
   ]
  },
  {
   "cell_type": "markdown",
   "metadata": {},
   "source": [
    "Let's say I want to time this function. So what are my options."
   ]
  },
  {
   "cell_type": "code",
   "execution_count": null,
   "metadata": {},
   "outputs": [
    {
     "name": "stdout",
     "output_type": "stream",
     "text": [
      "add(10) = 20, add(10) = 20\n",
      "time taken: 0.00034499168395996094\n"
     ]
    }
   ],
   "source": [
    "from time import time\n",
    "\n",
    "def add(x, y=10):\n",
    "    return x + y\n",
    "\n",
    "before = time()\n",
    "print(f'{add(10) = }, {add(10) = }')\n",
    "after = time()\n",
    "print(f'time taken: {after - before}')"
   ]
  },
  {
   "cell_type": "markdown",
   "metadata": {},
   "source": [
    "But the above method is a bit tedious as I have to write it to all places in my code. I could write that only in the function."
   ]
  },
  {
   "cell_type": "code",
   "execution_count": null,
   "metadata": {},
   "outputs": [
    {
     "name": "stdout",
     "output_type": "stream",
     "text": [
      "elapsed: 2.384185791015625e-07\n",
      "elapsed: 2.384185791015625e-07\n",
      "add(10) = 20, add(10) = 20\n"
     ]
    }
   ],
   "source": [
    "def add(x, y=10):\n",
    "    before = time()\n",
    "    rv = x + y\n",
    "    after = time()\n",
    "    print(f'elapsed: {after - before}')\n",
    "    return rv\n",
    "\n",
    "print(f'{add(10) = }, {add(10) = }')"
   ]
  },
  {
   "cell_type": "markdown",
   "metadata": {},
   "source": [
    "But now what if I have many functions like add, sub, multiple. Then I would have to duplicate the above code in all those functions. So the next solution would be to write a time function."
   ]
  },
  {
   "cell_type": "code",
   "execution_count": null,
   "metadata": {},
   "outputs": [
    {
     "name": "stdout",
     "output_type": "stream",
     "text": [
      "elapsed: 4.76837158203125e-07\n",
      "20\n"
     ]
    }
   ],
   "source": [
    "def timer(func, x, y):\n",
    "    before = time()\n",
    "    rv = func(x, y)\n",
    "    after = time()\n",
    "    print(f'elapsed: {after - before}')\n",
    "    return rv\n",
    "\n",
    "def add(x, y=10):\n",
    "    return x + y\n",
    "\n",
    "def sub(x, y=10):\n",
    "    return x - y\n",
    "\n",
    "# Now I have to add some code to the user code\n",
    "print(f'{timer(add, 10, 10)}')"
   ]
  },
  {
   "cell_type": "markdown",
   "metadata": {},
   "source": [
    "Now I know everything works live in the python environment. So I can also add a function inside the timer function."
   ]
  },
  {
   "cell_type": "code",
   "execution_count": null,
   "metadata": {},
   "outputs": [
    {
     "name": "stdout",
     "output_type": "stream",
     "text": [
      "elapsed: 7.152557373046875e-07\n",
      "20\n"
     ]
    }
   ],
   "source": [
    "def timer(func):\n",
    "    def f(x, y=10): # this function is a wrapper that calls the timing calls on the orignal function\n",
    "        before = time()\n",
    "        rv = func(x, y)\n",
    "        after = time()\n",
    "        print(f'elapsed: {after - before}')\n",
    "        return rv\n",
    "    return f\n",
    "\n",
    "add = timer(add)\n",
    "sub = timer(sub)\n",
    "\n",
    "# Now we can see that this added the time functionality to the above functions\n",
    "print(f'{add(10)}')"
   ]
  },
  {
   "cell_type": "markdown",
   "metadata": {},
   "source": [
    "Python makes this a little bit easier using decorators."
   ]
  },
  {
   "cell_type": "code",
   "execution_count": null,
   "metadata": {},
   "outputs": [
    {
     "name": "stdout",
     "output_type": "stream",
     "text": [
      "elapsed: 7.152557373046875e-07\n"
     ]
    },
    {
     "data": {
      "text/plain": [
       "20"
      ]
     },
     "execution_count": null,
     "metadata": {},
     "output_type": "execute_result"
    }
   ],
   "source": [
    "@timer\n",
    "def add(x, y=10):\n",
    "    return x + y\n",
    "\n",
    "add(10)"
   ]
  },
  {
   "cell_type": "markdown",
   "metadata": {},
   "source": [
    "So a decorator is just a syntax for `add = timer(add)`. Also, you would use def `f(*args, **kwargs)` so that it can used to wrap any function. Higher order decorators are also possible. "
   ]
  },
  {
   "cell_type": "code",
   "execution_count": null,
   "metadata": {},
   "outputs": [
    {
     "name": "stdout",
     "output_type": "stream",
     "text": [
      "Running for 1 time\n",
      "Running for 2 time\n"
     ]
    },
    {
     "data": {
      "text/plain": [
       "5"
      ]
     },
     "execution_count": null,
     "metadata": {},
     "output_type": "execute_result"
    }
   ],
   "source": [
    "# Decorator to run a function multiple number of times.\n",
    "def decor(n):\n",
    "    def inner(func):\n",
    "        def wrapper(*args, **kwargs):\n",
    "            for i in range(n):\n",
    "                print(f'Running for {i+1} time')\n",
    "                rv = func(*args, **kwargs)\n",
    "            return rv\n",
    "        return wrapper\n",
    "    return inner\n",
    "\n",
    "@decor(2)\n",
    "def add(x, y):\n",
    "    return x + y\n",
    "\n",
    "add(2, 3)"
   ]
  },
  {
   "cell_type": "markdown",
   "metadata": {},
   "source": [
    "## Generators"
   ]
  },
  {
   "cell_type": "code",
   "execution_count": null,
   "metadata": {},
   "outputs": [],
   "source": [
    "# What is the difference between add1 and add2\n",
    "def add1(x, y):\n",
    "    return x + y\n",
    "\n",
    "class Adder:\n",
    "    def __call__(self, x, y):\n",
    "        return x + y\n",
    "add2 = Adder()"
   ]
  },
  {
   "cell_type": "code",
   "execution_count": null,
   "metadata": {},
   "outputs": [
    {
     "data": {
      "text/plain": [
       "30"
      ]
     },
     "execution_count": null,
     "metadata": {},
     "output_type": "execute_result"
    }
   ],
   "source": [
    "add1(10, 20)"
   ]
  },
  {
   "cell_type": "code",
   "execution_count": null,
   "metadata": {},
   "outputs": [
    {
     "data": {
      "text/plain": [
       "30"
      ]
     },
     "execution_count": null,
     "metadata": {},
     "output_type": "execute_result"
    }
   ],
   "source": [
    "add2(10, 20)"
   ]
  },
  {
   "cell_type": "code",
   "execution_count": null,
   "metadata": {},
   "outputs": [
    {
     "data": {
      "text/plain": [
       "function"
      ]
     },
     "execution_count": null,
     "metadata": {},
     "output_type": "execute_result"
    }
   ],
   "source": [
    "type(add1)"
   ]
  },
  {
   "cell_type": "code",
   "execution_count": null,
   "metadata": {},
   "outputs": [
    {
     "data": {
      "text/plain": [
       "__main__.Adder"
      ]
     },
     "execution_count": null,
     "metadata": {},
     "output_type": "execute_result"
    }
   ],
   "source": [
    "type(add2)"
   ]
  },
  {
   "cell_type": "markdown",
   "metadata": {},
   "source": [
    "Looking from inside add1 is very syntactically similar to add2, but it is much easier to write. The difference is that in case of add2 we can add stateful behaviour. Consider a function that takes a long time to run, say a function that loads data from database. Or in our case a function that sleeps for 5 seconds and then returns the result."
   ]
  },
  {
   "cell_type": "code",
   "execution_count": null,
   "metadata": {},
   "outputs": [
    {
     "data": {
      "text/plain": [
       "[0, 1, 2, 3, 4, 5, 6, 7, 8, 9]"
      ]
     },
     "execution_count": null,
     "metadata": {},
     "output_type": "execute_result"
    }
   ],
   "source": [
    "from time import sleep\n",
    "def load_data():\n",
    "    rv = []\n",
    "    for i in range(10):\n",
    "        sleep(.5)\n",
    "        rv.append(i)\n",
    "    return rv\n",
    "\n",
    "load_data()"
   ]
  },
  {
   "cell_type": "markdown",
   "metadata": {},
   "source": [
    "Now it takes 5 seconds to run, but what if I only care about the first value. In that case it also takes 5 seconds. In case of memory it also requires linear memory. iF I only care about the first value then still it requires linear memory. Let me rewrite the above as a class."
   ]
  },
  {
   "cell_type": "code",
   "execution_count": null,
   "metadata": {},
   "outputs": [],
   "source": [
    "class Compute:\n",
    "    def __call__(self):\n",
    "        rv = []\n",
    "        for i in range(10):\n",
    "            sleep(.5)\n",
    "            rv.append(i)\n",
    "        return rv\n",
    "compute = Compute()"
   ]
  },
  {
   "cell_type": "markdown",
   "metadata": {},
   "source": [
    "I have this seen this pattern before in the as a basic looping mechanism and we know in python we see top-level syntax or top-level functions have underscore functions that implement them. So we can add`__iter__` and `next`."
   ]
  },
  {
   "cell_type": "code",
   "execution_count": null,
   "metadata": {},
   "outputs": [
    {
     "name": "stdout",
     "output_type": "stream",
     "text": [
      "0\n",
      "1\n",
      "2\n",
      "3\n",
      "4\n",
      "5\n",
      "6\n",
      "7\n",
      "8\n",
      "9\n"
     ]
    }
   ],
   "source": [
    "class Compute:\n",
    "    def __iter__(self):\n",
    "        self.last = 0\n",
    "        return self\n",
    "    \n",
    "    def __next__(self):\n",
    "        rv = self.last\n",
    "        self.last += 1\n",
    "        if self.last > 10:\n",
    "            raise StopIteration()\n",
    "        sleep(.5)\n",
    "        return rv\n",
    "\n",
    "for val in Compute():\n",
    "    print(val)"
   ]
  },
  {
   "cell_type": "markdown",
   "metadata": {},
   "source": [
    "It gives you one value at a time and also there is no storage involved. But it looks very ugly. There is a much simpler way to write it using generator syntax."
   ]
  },
  {
   "cell_type": "code",
   "execution_count": null,
   "metadata": {},
   "outputs": [
    {
     "name": "stdout",
     "output_type": "stream",
     "text": [
      "0\n",
      "1\n",
      "2\n",
      "3\n",
      "4\n",
      "5\n",
      "6\n",
      "7\n",
      "8\n",
      "9\n"
     ]
    }
   ],
   "source": [
    "def compute():\n",
    "    for i in range(10):\n",
    "        sleep(.5)\n",
    "        yield i\n",
    "        \n",
    "for val in compute():\n",
    "    print(val)"
   ]
  },
  {
   "cell_type": "markdown",
   "metadata": {},
   "source": [
    "As a final example consider the case in API design when you say run the following methods in a specific order. "
   ]
  },
  {
   "cell_type": "code",
   "execution_count": null,
   "metadata": {},
   "outputs": [],
   "source": [
    "class Api:\n",
    "    def run_this_first():  first()\n",
    "    def run this_second(): second()\n",
    "    def run_this_third():  third()\n",
    "        \n",
    "# Now nothing stops you from doint this\n",
    "Api().run_this_second() # and then see a break"
   ]
  },
  {
   "cell_type": "markdown",
   "metadata": {},
   "source": [
    "Now if we look at the generator formulation, we see it performs a computation it not only returns the computation but it also returns the control back to the user to do something with the result. This is the generator code where we let the library do some work, then let user do some work and I interleave them them. This is the actual core conceptualization behind what the generators are built upon, the idea of coroutines. Subroutines can be thought of any piece of code that runs from some starting point to end point, they have one starting entry point and one exit point and that's it. For generators, coroutines, we see interleaving of the user code and library code.\n",
    "\n",
    "Now for the above case, we cannot have a single function that runs the three functions because the API want to allows use to some interleaving. To solve the above problem we can see a generator solution as."
   ]
  },
  {
   "cell_type": "code",
   "execution_count": null,
   "metadata": {},
   "outputs": [],
   "source": [
    "def api():\n",
    "    first()\n",
    "    yield\n",
    "    second()\n",
    "    yield\n",
    "    thried()"
   ]
  },
  {
   "cell_type": "markdown",
   "metadata": {},
   "source": [
    "## Context Manager\n",
    "Very simple metaphor. In C you might have heard of resource allocation is initialization. It's the idea that there is always some desire to do some setup and teardown and you want to combine it. Opening a file is a perfect example of this, because if you open a file you need to close the file."
   ]
  },
  {
   "cell_type": "code",
   "execution_count": null,
   "metadata": {},
   "outputs": [],
   "source": [
    "with open('ctx.py') as f:\n",
    "    pass"
   ]
  },
  {
   "cell_type": "markdown",
   "metadata": {},
   "source": [
    "So how do we write our own context manager. There is some top-level syntax and underlying underscore functions that implements them."
   ]
  },
  {
   "cell_type": "code",
   "execution_count": null,
   "metadata": {},
   "outputs": [],
   "source": [
    "class ctx:\n",
    "    def __enter(self):\n",
    "        pass\n",
    "    \n",
    "    def __exit__(self, *args):\n",
    "        pass"
   ]
  },
  {
   "cell_type": "markdown",
   "metadata": {},
   "source": [
    "Now as an example suppose you are creating a context manager that opens a sql table and then drops it after finishing."
   ]
  },
  {
   "cell_type": "code",
   "execution_count": null,
   "metadata": {},
   "outputs": [
    {
     "name": "stdout",
     "output_type": "stream",
     "text": [
      "(1, 1)\n"
     ]
    }
   ],
   "source": [
    "class temptable:\n",
    "    def __init__(self, cur):\n",
    "        self.cur = cur\n",
    "        \n",
    "    def __enter__(self):\n",
    "        self.cur.execute('create table points(x int, y int)')\n",
    "    \n",
    "    def __exit__(self, *args):\n",
    "        self.cur.execute('drop table points')\n",
    "        \n",
    "\n",
    "from sqlite3 import connect\n",
    "\n",
    "with connect('test.db') as conn:\n",
    "    cur = conn.cursor()\n",
    "    with temptable(cur):\n",
    "        cur.execute('insert into points (x,y) values(1,1)')\n",
    "        for row in cur.execute('select x, y from points'):\n",
    "            print(row)"
   ]
  },
  {
   "cell_type": "markdown",
   "metadata": {},
   "source": [
    "We can see that the `__exit__` must always be called after `__enter__`. So we see there is some sequencing and we saw that sequencing using generators. SO I can improve the above example using generator."
   ]
  },
  {
   "cell_type": "code",
   "execution_count": null,
   "metadata": {},
   "outputs": [
    {
     "name": "stdout",
     "output_type": "stream",
     "text": [
      "(1, 1)\n"
     ]
    }
   ],
   "source": [
    "def template(cur):\n",
    "    cur.execute('create table points(x int, y int)')\n",
    "    yield\n",
    "    cur.execute('drop table points')\n",
    "    \n",
    "class contextmanager:\n",
    "    def __init__(self, cur): self.cur = cur\n",
    "    def __enter__(self): \n",
    "        self.gen = template(self.cur)\n",
    "        next(self.gen)\n",
    "    def __exit__(self, *args): \n",
    "        next(self.gen, None)\n",
    "        \n",
    "with connect('test.db') as conn:\n",
    "    cur = conn.cursor()\n",
    "    with contextmanager(cur):\n",
    "        cur.execute('insert into points (x,y) values(1,1)')\n",
    "        for row in cur.execute('select x, y from points'):\n",
    "            print(row)"
   ]
  },
  {
   "cell_type": "markdown",
   "metadata": {},
   "source": [
    "Now we can extend the contextmanager class to work for any generator."
   ]
  },
  {
   "cell_type": "code",
   "execution_count": null,
   "metadata": {},
   "outputs": [
    {
     "name": "stdout",
     "output_type": "stream",
     "text": [
      "(1, 1)\n"
     ]
    }
   ],
   "source": [
    "def temptable(cur):\n",
    "    cur.execute('create table points(x int, y int)')\n",
    "    yield\n",
    "    cur.execute('drop table points')\n",
    "\n",
    "class contextmanager:\n",
    "    def __init__(self, gen):\n",
    "        self.gen = gen\n",
    "        \n",
    "    def __call__(self, *args, **kwargs):\n",
    "        self.args, self.kwargs = args, kwargs\n",
    "        return self\n",
    "    \n",
    "    def __enter__(self):\n",
    "        self.gen_inst = self.gen(*self.args, **self.kwargs)\n",
    "        next(self.gen_inst)\n",
    "        \n",
    "    def __exit__(self, *args):\n",
    "        next(self.gen_inst, None)\n",
    "\n",
    "from sqlite3 import connect\n",
    "with connect('test.db') as conn:\n",
    "    cur = conn.cursor()\n",
    "    with contextmanager(temptable)(cur):\n",
    "        cur.execute('insert into points (x,y) values(1,1)')\n",
    "        for row in cur.execute('select x, y from points'):\n",
    "            print(row)"
   ]
  },
  {
   "cell_type": "markdown",
   "metadata": {},
   "source": [
    "Now contextmanager(temptable)(cur) looks ugly so we can change that as temptable = contextmanager(temptable). It is the same as writing a decorator."
   ]
  },
  {
   "cell_type": "code",
   "execution_count": null,
   "metadata": {},
   "outputs": [
    {
     "name": "stdout",
     "output_type": "stream",
     "text": [
      "(1, 1)\n"
     ]
    }
   ],
   "source": [
    "class contextmanager:\n",
    "    def __init__(self, gen):\n",
    "        self.gen = gen\n",
    "        \n",
    "    def __call__(self, *args, **kwargs):\n",
    "        self.args, self.kwargs = args, kwargs\n",
    "        return self\n",
    "    \n",
    "    def __enter__(self):\n",
    "        self.gen_inst = self.gen(*self.args, **self.kwargs)\n",
    "        next(self.gen_inst)\n",
    "        \n",
    "    def __exit__(self, *args):\n",
    "        next(self.gen_inst, None)\n",
    "\n",
    "def temptable(cur):\n",
    "    cur.execute('create table points(x int, y int)')\n",
    "    yield\n",
    "    cur.execute('drop table points')\n",
    "temptable = contextmanager(temptable)\n",
    "\n",
    "from sqlite3 import connect\n",
    "with connect('test.db') as conn:\n",
    "    cur = conn.cursor()\n",
    "    with temptable(cur):\n",
    "        cur.execute('insert into points (x,y) values(1,1)')\n",
    "        for row in cur.execute('select x, y from points'):\n",
    "            print(row)"
   ]
  },
  {
   "cell_type": "markdown",
   "metadata": {},
   "source": [
    "We can write the code as a decorator. Also, we don't have to write the contextmanager class as all of that is written in contextlib."
   ]
  },
  {
   "cell_type": "code",
   "execution_count": null,
   "metadata": {},
   "outputs": [
    {
     "name": "stdout",
     "output_type": "stream",
     "text": [
      "(1, 1)\n"
     ]
    }
   ],
   "source": [
    "from contextlib import contextmanager\n",
    "\n",
    "@contextmanager\n",
    "def temptable(cur):\n",
    "    cur.execute('create table points(x int, y int)')\n",
    "    yield\n",
    "    cur.execute('drop table points')\n",
    "\n",
    "from sqlite3 import connect\n",
    "with connect('test.db') as conn:\n",
    "    cur = conn.cursor()\n",
    "    with temptable(cur):\n",
    "        cur.execute('insert into points (x,y) values(1,1)')\n",
    "        for row in cur.execute('select x, y from points'):\n",
    "            print(row)"
   ]
  },
  {
   "cell_type": "markdown",
   "metadata": {},
   "source": [
    "So contextmanager is just a decorator that just turns a generator into a context manager and we can make some changes to the generator as follows for completeness."
   ]
  },
  {
   "cell_type": "code",
   "execution_count": null,
   "metadata": {},
   "outputs": [
    {
     "name": "stdout",
     "output_type": "stream",
     "text": [
      "(1, 1)\n"
     ]
    }
   ],
   "source": [
    "from contextlib import contextmanager\n",
    "\n",
    "@contextmanager\n",
    "def temptable(cur):\n",
    "    cur.execute('create table points(x int, y int)')\n",
    "    try:\n",
    "        yield\n",
    "    finally:\n",
    "        cur.execute('drop table points')\n",
    "\n",
    "from sqlite3 import connect\n",
    "with connect('test.db') as conn:\n",
    "    cur = conn.cursor()\n",
    "    with temptable(cur):\n",
    "        cur.execute('insert into points (x,y) values(1,1)')\n",
    "        for row in cur.execute('select x, y from points'):\n",
    "            print(row)"
   ]
  },
  {
   "cell_type": "code",
   "execution_count": null,
   "metadata": {},
   "outputs": [],
   "source": []
  }
 ],
 "metadata": {
  "kernelspec": {
   "display_name": "Python 3",
   "language": "python",
   "name": "python3"
  }
 },
 "nbformat": 4,
 "nbformat_minor": 4
}
