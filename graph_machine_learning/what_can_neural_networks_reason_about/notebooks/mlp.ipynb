{
 "cells": [
  {
   "cell_type": "code",
   "execution_count": 1,
   "metadata": {},
   "outputs": [],
   "source": [
    "import sys\n",
    "sys.path.append('../src')\n",
    "\n",
    "from pytorch_lightning import Trainer\n",
    "from model_mlp import MLPModule\n",
    "from min_max_mlp_data import MinMaxDiffModule"
   ]
  },
  {
   "cell_type": "code",
   "execution_count": 2,
   "metadata": {},
   "outputs": [
    {
     "name": "stderr",
     "output_type": "stream",
     "text": [
      "GPU available: True, used: True\n",
      "TPU available: False, using: 0 TPU cores\n",
      "LOCAL_RANK: 0 - CUDA_VISIBLE_DEVICES: [0]\n"
     ]
    }
   ],
   "source": [
    "data = MinMaxDiffModule(50000)\n",
    "model = MLPModule()\n",
    "trainer = Trainer(check_val_every_n_epoch=5, gpus=1, max_epochs=150)"
   ]
  },
  {
   "cell_type": "code",
   "execution_count": 3,
   "metadata": {},
   "outputs": [
    {
     "name": "stderr",
     "output_type": "stream",
     "text": [
      "\n",
      "  | Name         | Type             | Params\n",
      "--------------------------------------------------\n",
      "0 | model        | MLP              | 353 K \n",
      "1 | loss         | CrossEntropyLoss | 0     \n",
      "2 | val_accuracy | Accuracy         | 0     \n"
     ]
    },
    {
     "name": "stdout",
     "output_type": "stream",
     "text": [
      "\r",
      "Validation sanity check: 0it [00:00, ?it/s]"
     ]
    },
    {
     "name": "stderr",
     "output_type": "stream",
     "text": [
      "/home/kushaj/miniconda3/envs/dl/lib/python3.8/site-packages/pytorch_lightning/utilities/distributed.py:45: UserWarning: The dataloader, val dataloader 0, does not have many workers which may be a bottleneck. Consider increasing the value of the `num_workers` argument` (try 24 which is the number of cpus on this machine) in the `DataLoader` init to improve performance.\n",
      "  warnings.warn(*args, **kwargs)\n"
     ]
    },
    {
     "name": "stdout",
     "output_type": "stream",
     "text": [
      "Epoch 0:  15%|█▌        | 61/395 [00:00<00:01, 307.84it/s, loss=2.909, v_num=0]"
     ]
    },
    {
     "name": "stderr",
     "output_type": "stream",
     "text": [
      "/home/kushaj/miniconda3/envs/dl/lib/python3.8/site-packages/pytorch_lightning/utilities/distributed.py:45: UserWarning: The dataloader, train dataloader, does not have many workers which may be a bottleneck. Consider increasing the value of the `num_workers` argument` (try 24 which is the number of cpus on this machine) in the `DataLoader` init to improve performance.\n",
      "  warnings.warn(*args, **kwargs)\n"
     ]
    },
    {
     "name": "stdout",
     "output_type": "stream",
     "text": [
      "Epoch 4: 100%|██████████| 390/390 [00:01<00:00, 276.91it/s, loss=2.786, v_num=0]\n",
      "Epoch 4: : 395it [00:01, 274.22it/s, loss=2.786, v_num=0, val_loss=2.81, acc=0.103]\n",
      "Epoch 9: 100%|██████████| 390/390 [00:01<00:00, 267.20it/s, loss=2.720, v_num=0, val_loss=2.81, acc=0.103]\n",
      "Epoch 9: : 395it [00:01, 263.46it/s, loss=2.720, v_num=0, val_loss=2.81, acc=0.0934]                      \n",
      "Epoch 14: 100%|██████████| 390/390 [00:01<00:00, 271.41it/s, loss=2.678, v_num=0, val_loss=2.81, acc=0.0934]\n",
      "Epoch 14: : 395it [00:01, 269.20it/s, loss=2.678, v_num=0, val_loss=2.85, acc=0.0926]                       \n",
      "Epoch 19: 100%|██████████| 390/390 [00:01<00:00, 263.59it/s, loss=2.617, v_num=0, val_loss=2.85, acc=0.0926]\n",
      "Epoch 19: : 395it [00:01, 258.93it/s, loss=2.617, v_num=0, val_loss=2.91, acc=0.0854]                       \n",
      "Epoch 24: 100%|██████████| 390/390 [00:01<00:00, 270.84it/s, loss=2.538, v_num=0, val_loss=2.91, acc=0.0854]\n",
      "Epoch 24: : 395it [00:01, 269.62it/s, loss=2.538, v_num=0, val_loss=3.04, acc=0.0762]                       \n",
      "Epoch 29: 100%|██████████| 390/390 [00:01<00:00, 270.07it/s, loss=2.395, v_num=0, val_loss=3.04, acc=0.0762]\n",
      "Epoch 29: : 395it [00:01, 268.65it/s, loss=2.395, v_num=0, val_loss=3.16, acc=0.0804]                       \n",
      "Epoch 32:  51%|█████     | 198/390 [00:00<00:00, 265.97it/s, loss=2.306, v_num=0, val_loss=3.16, acc=0.0804]\n"
     ]
    },
    {
     "name": "stderr",
     "output_type": "stream",
     "text": [
      "/home/kushaj/miniconda3/envs/dl/lib/python3.8/site-packages/pytorch_lightning/utilities/distributed.py:45: UserWarning: Detected KeyboardInterrupt, attempting graceful shutdown...\n",
      "  warnings.warn(*args, **kwargs)\n"
     ]
    },
    {
     "data": {
      "text/plain": [
       "1"
      ]
     },
     "execution_count": 3,
     "metadata": {},
     "output_type": "execute_result"
    }
   ],
   "source": [
    "trainer.fit(model, datamodule=data)"
   ]
  },
  {
   "cell_type": "code",
   "execution_count": null,
   "metadata": {},
   "outputs": [],
   "source": []
  }
 ],
 "metadata": {
  "kernelspec": {
   "display_name": "Python 3",
   "language": "python",
   "name": "python3"
  },
  "language_info": {
   "codemirror_mode": {
    "name": "ipython",
    "version": 3
   },
   "file_extension": ".py",
   "mimetype": "text/x-python",
   "name": "python",
   "nbconvert_exporter": "python",
   "pygments_lexer": "ipython3",
   "version": "3.8.5"
  }
 },
 "nbformat": 4,
 "nbformat_minor": 4
}
