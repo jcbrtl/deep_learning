{
 "cells": [
  {
   "cell_type": "markdown",
   "metadata": {},
   "source": [
    "# Sloth & ENVy | PyData New York 2019\n",
    "> 'Don't show up to this talk, it's going to be stupid. You won't learn anything, and if you do learn something, I promise it will be dumb.' - Diego Torres Quintanilla, PyData NYC Executive Chair"
   ]
  },
  {
   "cell_type": "markdown",
   "metadata": {},
   "source": [
    "A thought question, \"Did you know that the software you use and rely upon everyday was written and designed just by some person?\" and ,\"Did you know that the software you use and rely upon everyday has code you can read and fully understand?\" and ,\"Did you know that the software you use and rely upon everyday is probably written in C or relies on some core libraries that were written in C, in which case the System V Application Binary Interface (or 'ABI') for AMD64 specifies that the entry point can have one of three possible signatures as follows\n",
    "\n",
    "    * int main()\n",
    "    * int main(int, char*[])\n",
    "    * int main(int, char*[], char*[])\n",
    "    \n",
    "The last can be extended as `int main(int argc, char *argv[], char* envp[]) {}`. envp is a pointer to the environment"
   ]
  },
  {
   "cell_type": "markdown",
   "metadata": {},
   "source": [
    "What do I mean by an environment? I mean the thing when you type `env` in terminal."
   ]
  },
  {
   "cell_type": "code",
   "execution_count": null,
   "metadata": {},
   "outputs": [
    {
     "name": "stdout",
     "output_type": "stream",
     "text": [
      "LESSOPEN=| /usr/bin/lesspipe %s\n",
      "CONDA_PROMPT_MODIFIER=(torch) \n",
      "USER=kushaj\n",
      "LANGUAGE=en_IN:en\n",
      "TEXTDOMAIN=im-config\n",
      "CONDA_MKL_INTERFACE_LAYER_BACKUP=\n",
      "XDG_SEAT=seat0\n",
      "MPLBACKEND=module://ipykernel.pylab.backend_inline\n",
      "SSH_AGENT_PID=1741\n",
      "XDG_SESSION_TYPE=x11\n",
      "LD_LIBRARY_PATH=/usr/local/cuda-10.1/lib64\n",
      "SHLVL=1\n",
      "CONDA_SHLVL=2\n",
      "OLDPWD=/home/kushaj/Desktop/Temp\n",
      "QT4_IM_MODULE=xim\n",
      "HOME=/home/kushaj\n",
      "DESKTOP_SESSION=ubuntu\n",
      "GIO_LAUNCHED_DESKTOP_FILE=/etc/xdg/autostart/org.gnome.SettingsDaemon.MediaKeys.desktop\n",
      "GNOME_SHELL_SESSION_MODE=ubuntu\n",
      "GTK_MODULES=gail:atk-bridge\n",
      "PAGER=cat\n",
      "PS1=(torch) \\u@\\h: \n",
      "DBUS_SESSION_BUS_ADDRESS=unix:path=/run/user/1000/bus\n",
      "COLORTERM=truecolor\n",
      "GIO_LAUNCHED_DESKTOP_FILE_PID=1946\n",
      "_CE_M=\n",
      "TERMINATOR_DBUS_NAME=net.tenshu.Terminator20x1a6021154d881c\n",
      "MANDATORY_PATH=/usr/share/gconf/ubuntu.mandatory.path\n",
      "IM_CONFIG_PHASE=2\n",
      "INFOPATH=/usr/local/texlive/2019/texmf-dist/doc/info:\n",
      "LOGNAME=kushaj\n",
      "GTK_IM_MODULE=ibus\n",
      "DESKTOP_AUTOSTART_ID=10fe220e7fc4becbab158588059531334000000016450007\n",
      "_=/home/kushaj/anaconda3/envs/torch/bin/jupyter\n",
      "DEFAULTS_PATH=/usr/share/gconf/ubuntu.default.path\n",
      "USERNAME=kushaj\n",
      "XDG_SESSION_ID=2\n",
      "TERM=xterm-color\n",
      "_CE_CONDA=\n",
      "GNOME_DESKTOP_SESSION_ID=this-is-deprecated\n",
      "WINDOWPATH=2\n",
      "PATH=/home/kushaj/gems/bin:/usr/local/texlive/2019/bin/x86_64-linux:/usr/local/cuda-10.1/bin:/usr/local/cuda-10.1/NsightCompute-2019.3:/home/kushaj/anaconda3/envs/torch/bin:/home/kushaj/anaconda3/condabin:/usr/local/sbin:/usr/local/bin:/usr/sbin:/usr/bin:/sbin:/bin:/usr/games:/usr/local/games:/snap/bin:/home/kushaj/hugo/v56\n",
      "SESSION_MANAGER=local/kushaj:@/tmp/.ICE-unix/1645,unix/kushaj:/tmp/.ICE-unix/1645\n",
      "XDG_MENU_PREFIX=gnome-\n",
      "XDG_RUNTIME_DIR=/run/user/1000\n",
      "DISPLAY=:0\n",
      "LANG=en_IN\n",
      "CONDA_PREFIX_1=/home/kushaj/anaconda3\n",
      "TERMINATOR_DBUS_PATH=/net/tenshu/Terminator2\n",
      "XDG_CURRENT_DESKTOP=ubuntu:GNOME\n",
      "LS_COLORS=rs=0:di=01;34:ln=01;36:mh=00:pi=40;33:so=01;35:do=01;35:bd=40;33;01:cd=40;33;01:or=40;31;01:mi=00:su=37;41:sg=30;43:ca=30;41:tw=30;42:ow=34;42:st=37;44:ex=01;32:*.tar=01;31:*.tgz=01;31:*.arc=01;31:*.arj=01;31:*.taz=01;31:*.lha=01;31:*.lz4=01;31:*.lzh=01;31:*.lzma=01;31:*.tlz=01;31:*.txz=01;31:*.tzo=01;31:*.t7z=01;31:*.zip=01;31:*.z=01;31:*.Z=01;31:*.dz=01;31:*.gz=01;31:*.lrz=01;31:*.lz=01;31:*.lzo=01;31:*.xz=01;31:*.zst=01;31:*.tzst=01;31:*.bz2=01;31:*.bz=01;31:*.tbz=01;31:*.tbz2=01;31:*.tz=01;31:*.deb=01;31:*.rpm=01;31:*.jar=01;31:*.war=01;31:*.ear=01;31:*.sar=01;31:*.rar=01;31:*.alz=01;31:*.ace=01;31:*.zoo=01;31:*.cpio=01;31:*.7z=01;31:*.rz=01;31:*.cab=01;31:*.wim=01;31:*.swm=01;31:*.dwm=01;31:*.esd=01;31:*.jpg=01;35:*.jpeg=01;35:*.mjpg=01;35:*.mjpeg=01;35:*.gif=01;35:*.bmp=01;35:*.pbm=01;35:*.pgm=01;35:*.ppm=01;35:*.tga=01;35:*.xbm=01;35:*.xpm=01;35:*.tif=01;35:*.tiff=01;35:*.png=01;35:*.svg=01;35:*.svgz=01;35:*.mng=01;35:*.pcx=01;35:*.mov=01;35:*.mpg=01;35:*.mpeg=01;35:*.m2v=01;35:*.mkv=01;35:*.webm=01;35:*.ogm=01;35:*.mp4=01;35:*.m4v=01;35:*.mp4v=01;35:*.vob=01;35:*.qt=01;35:*.nuv=01;35:*.wmv=01;35:*.asf=01;35:*.rm=01;35:*.rmvb=01;35:*.flc=01;35:*.avi=01;35:*.fli=01;35:*.flv=01;35:*.gl=01;35:*.dl=01;35:*.xcf=01;35:*.xwd=01;35:*.yuv=01;35:*.cgm=01;35:*.emf=01;35:*.ogv=01;35:*.ogx=01;35:*.aac=00;36:*.au=00;36:*.flac=00;36:*.m4a=00;36:*.mid=00;36:*.midi=00;36:*.mka=00;36:*.mp3=00;36:*.mpc=00;36:*.ogg=00;36:*.ra=00;36:*.wav=00;36:*.oga=00;36:*.opus=00;36:*.spx=00;36:*.xspf=00;36:\n",
      "XDG_SESSION_DESKTOP=ubuntu\n",
      "XMODIFIERS=@im=ibus\n",
      "XAUTHORITY=/run/user/1000/gdm/Xauthority\n",
      "KERNEL_LAUNCH_TIMEOUT=40\n",
      "SSH_AUTH_SOCK=/run/user/1000/keyring/ssh\n",
      "CONDA_PYTHON_EXE=/home/kushaj/anaconda3/bin/python\n",
      "TERMINATOR_UUID=urn:uuid:bcf3882e-c743-425a-b8ee-d6c8e8ea3970\n",
      "SHELL=/bin/bash\n",
      "QT_ACCESSIBILITY=1\n",
      "GDMSESSION=ubuntu\n",
      "GIT_PYTHON_REFRESH=quiet\n",
      "LESSCLOSE=/usr/bin/lesspipe %s %s\n",
      "GEM_HOME=/home/kushaj/gems\n",
      "CONDA_DEFAULT_ENV=torch\n",
      "TEXTDOMAINDIR=/usr/share/locale/\n",
      "GPG_AGENT_INFO=/run/user/1000/gnupg/S.gpg-agent:0:1\n",
      "XDG_VTNR=2\n",
      "QT_IM_MODULE=ibus\n",
      "GIT_PAGER=cat\n",
      "PWD=/home/kushaj/Desktop/Temp/libs/James Powell talks\n",
      "CLICOLOR=1\n",
      "CLUTTER_IM_MODULE=xim\n",
      "CONDA_EXE=/home/kushaj/anaconda3/bin/conda\n",
      "XDG_DATA_DIRS=/usr/share/ubuntu:/usr/local/share/:/usr/share/:/var/lib/snapd/desktop\n",
      "XDG_CONFIG_DIRS=/etc/xdg/xdg-ubuntu:/etc/xdg\n",
      "JPY_PARENT_PID=4441\n",
      "CONDA_PREFIX=/home/kushaj/anaconda3/envs/torch\n",
      "MKL_INTERFACE_LAYER=LP64,GNU\n",
      "VTE_VERSION=5202\n",
      "MANPATH=/usr/local/texlive/2019/texmf-dist/doc/man:\n"
     ]
    }
   ],
   "source": [
    "!env"
   ]
  },
  {
   "cell_type": "markdown",
   "metadata": {},
   "source": [
    "If you want to get a more closer view you can do something as below. It is just a giant set of null-terminated strings where each string has some equal sign in it and the first part of the string is key and the other part is the value. It is some key-value that each program has access to."
   ]
  },
  {
   "cell_type": "code",
   "execution_count": null,
   "metadata": {},
   "outputs": [
    {
     "name": "stdout",
     "output_type": "stream",
     "text": [
      "\u001b[K:\u001b[KN=| /usr/bin/lesspipe %s\u001b[7m^@\u001b[mCONDA_PROMPT_MODIFIER=(torch) \u001b[7m^@\u001b[mUSER=kushaj\u001b[7m^@\u001b[mLANGUAGE=en_IN:en\u001b[7m^@\u001b[mTEXTDOMAIN=im-config\u001b[7m^@\u001b[mCONDA_MKL_INTERFACE_LAYER_BACKUP=\u001b[7m^@\u001b[mXDG_SEAT=seat0\u001b[7m^@\u001b[mMPLBACKEND=module://ipykernel.pylab.backend_inline\u001b[7m^@\u001b[mSSH_AGENT_PID=1741\u001b[7m^@\u001b[mXDG_SESSION_TYPE=x11\u001b[7m^@\u001b[mLD_LIBRARY_PATH=/usr/local/cuda-10.1/lib64\u001b[7m^@\u001b[mSHLVL=1\u001b[7m^@\u001b[mCONDA_SHLVL=2\u001b[7m^@\u001b[mOLDPWD=/home/kushaj/Desktop/Temp\u001b[7m^@\u001b[mQT4_IM_MODULE=xim\u001b[7m^@\u001b[mHOME=/home/kushaj\u001b[7m^@\u001b[mDESKTOP_SESSION=ubuntu\u001b[7m^@\u001b[mGIO_LAUNCHED_DESKTOP_FILE=/etc/xdg/autostart/org.gnome.SettingsDaemon.MediaKeys.desktop\u001b[7m^@\u001b[mGNOME_SHELL_SESSION_MODE=ubuntu\u001b[7m^@\u001b[mGTK_MODULES=gail:atk-bridge\u001b[7m^@\u001b[mPAGER=cat\u001b[7m^@\u001b[mPS1=(torch) \\u@\\h: \u001b[7m^@\u001b[mDBUS_SESSION_BUS_ADDRESS=unix:path=/run/user/1000/bus\u001b[7m^@\u001b[mCOLORTERM=truecolor\u001b[7m^@\u001b[mGIO_LAUNCHED_DESKTOP_FILE_PID=1946\u001b[7m^@\u001b[m_CE_M=\u001b[7m^@\u001b[mTERMINATOR_DBUS_NAME=net.tenshu.Terminator20x1a6021154d881c\u001b[7m^@\u001b[mMANDATORY_PATH=/usr/share/gconf/ubuntu.mandatory.path\u001b[7m^@\u001b[mIM_CONFIG_PHASE=2\u001b[7m^@\u001b[mINFOPATH=/usr/local/texlive/2019/texmf-dist/doc/info:\u001b[7m^@\u001b[mLOGNAME=kushaj\u001b[7m^@\u001b[mGTK_IM_MODULE=ibus\u001b[7m^@\u001b[mDESKTOP_AUTOSTART_ID=10fe220e7fc4becbab158588059531334000000016450007\u001b[7m^@\u001b[m_=/home/kushaj/anaconda3/envs/torch/bin/jupyter\u001b[7m^@\u001b[mDEFAULTS_PATH=/usr/share/gconf/ubuntu.default.path\u001b[7m^@\u001b[mUSERNAME=kushaj\u001b[7m^@\u001b[mXDG_SESSION_ID=2\u001b[7m^@\u001b[mTERM=xterm-color\u001b[7m^@\u001b[m_CE_CONDA=\u001b[7m^@\u001b[mGNOME_DESKTOP_SESSION_ID=this-is-deprecated\u001b[7m^@\u001b[mWINDOWPATH=2\u001b[7m^@\u001b[mPATH=/home/kushaj/gems/bin:/usr/local/texlive/2019/bin/x86_64-linux:/usr/local/cuda-10.1/bin:/usr/local/cuda-10.1/NsightCompute-2019.3:/home/kushaj/anaconda3/envs/torch/bin:/home/kushaj/anaconda3/condabin:/usr/local/sbin:/usr/local/bin:/usr/sbin:/usr/bin:/sbin:/bin:/usr/games:/usr/local/games:/snap/bin:/home/kushaj/hugo/v56\u001b[7m^@\u001b[mSESSION_MANAGER=local/kushaj:@/tmp/.ICE-unix/1645,unix/kushaj:/tmp/.ICE-unix/1645\u001b[7m^@\u001b[mXDG_MENU_PREFIX=gnome-\u001b[7m^@\u001b[mXDG_RUNTIME_DIR=/run/user/1000\u001b[7m^@\u001b[mDISPLAY=:0\u001b[7m^@\u001b[mLANG=en_IN\u001b[7m^@\u001b[mCONDA_PREFIX_1=/home/kushaj/anaconda3\u001b[7m^@\u001b[mTERMINATOR_DBUS_PATH=/net/tenshu/Terminator2\u001b[7m^@\u001b[mXDG_CURRENT_\u001b[7m/proc/self/environ\u001b[m\u001b[K\u0007"
     ]
    }
   ],
   "source": [
    "!less /proc/self/environ"
   ]
  },
  {
   "cell_type": "code",
   "execution_count": null,
   "metadata": {},
   "outputs": [
    {
     "name": "stdout",
     "output_type": "stream",
     "text": [
      "/home/kushaj/gems/bin:/usr/local/texlive/2019/bin/x86_64-linux:/usr/local/cuda-10.1/bin:/usr/local/cuda-10.1/NsightCompute-2019.3:/home/kushaj/anaconda3/envs/torch/bin:/home/kushaj/anaconda3/condabin:/usr/local/sbin:/usr/local/bin:/usr/sbin:/usr/bin:/sbin:/bin:/usr/games:/usr/local/games:/snap/bin:/home/kushaj/hugo/v56\n"
     ]
    }
   ],
   "source": [
    "!echo $PATH"
   ]
  },
  {
   "cell_type": "markdown",
   "metadata": {},
   "source": [
    "The path identifies what happens when you type the name of a binary that gets run when you want to run something."
   ]
  },
  {
   "cell_type": "markdown",
   "metadata": {},
   "source": [
    "When you look at your path it is just a colon(:) separated set of directories. What if you have a directory with a colon in it's name that you want to add in your path? The answer is you can't.\n",
    "\n",
    "Sometimes you would have wondered which python you are using."
   ]
  },
  {
   "cell_type": "code",
   "execution_count": null,
   "metadata": {},
   "outputs": [
    {
     "name": "stdout",
     "output_type": "stream",
     "text": [
      "/home/kushaj/anaconda3/envs/torch/bin/python\n"
     ]
    }
   ],
   "source": [
    "!which python"
   ]
  },
  {
   "cell_type": "code",
   "execution_count": null,
   "metadata": {},
   "outputs": [
    {
     "name": "stdout",
     "output_type": "stream",
     "text": [
      "/usr/bin/which\n"
     ]
    }
   ],
   "source": [
    "!which which"
   ]
  },
  {
   "cell_type": "code",
   "execution_count": null,
   "metadata": {},
   "outputs": [
    {
     "name": "stdout",
     "output_type": "stream",
     "text": [
      "/usr/bin/which\n"
     ]
    }
   ],
   "source": [
    "!which /usr/bin/which"
   ]
  },
  {
   "cell_type": "markdown",
   "metadata": {},
   "source": [
    "You should prefer `python3.8 -m pip install` instead of `pip install`. The reason is that this ensures you are using the correct pip. In the first case you pick the python and that looks at the path so see that you are using a conda installed pip and thus uses the pip in conda. But you cannot use `python -m conda install`.\n",
    "\n",
    "Now if I look at the C file.\n",
    "```c\n",
    "#include<stdio.h>\n",
    "#include<stdlib.h>\n",
    "\n",
    "int main(int argc, char *argv[], char* envp[]){}\n",
    "```\n",
    "\n",
    "Now where does this envp come from and what is its purpose. So we look at the binary and we disassemble. We know that every C program starts with `<_start>` and it runs a bunch of stuff."
   ]
  },
  {
   "cell_type": "code",
   "execution_count": null,
   "metadata": {},
   "outputs": [
    {
     "name": "stdout",
     "output_type": "stream",
     "text": [
      "00000000000004f0 <_start>:\n",
      " 4f0:\t31 ed                \txor    %ebp,%ebp\n",
      " 4f2:\t49 89 d1             \tmov    %rdx,%r9\n",
      " 4f5:\t5e                   \tpop    %rsi\n",
      " 4f6:\t48 89 e2             \tmov    %rsp,%rdx\n",
      " 4f9:\t48 83 e4 f0          \tand    $0xfffffffffffffff0,%rsp\n",
      " 4fd:\t50                   \tpush   %rax\n",
      " 4fe:\t54                   \tpush   %rsp\n",
      " 4ff:\t4c 8d 05 7a 01 00 00 \tlea    0x17a(%rip),%r8        # 680 <__libc_csu_fini>\n",
      " 506:\t48 8d 0d 03 01 00 00 \tlea    0x103(%rip),%rcx        # 610 <__libc_csu_init>\n",
      " 50d:\t48 8d 3d e6 00 00 00 \tlea    0xe6(%rip),%rdi        # 5fa <main>\n",
      " 514:\tff 15 c6 0a 20 00    \tcallq  *0x200ac6(%rip)        # 200fe0 <__libc_start_main@GLIBC_2.2.5>\n",
      " 51a:\tf4                   \thlt    \n",
      " 51b:\t0f 1f 44 00 00       \tnopl   0x0(%rax,%rax,1)\n",
      "\n",
      "0000000000000520 <deregister_tm_clones>:\n"
     ]
    }
   ],
   "source": [
    "!objdump -S a.out | grep -A 15 '<_start>'"
   ]
  },
  {
   "cell_type": "markdown",
   "metadata": {},
   "source": [
    "One interesting thing is that the int main that you write which can have three possible signatures is not what actually runs when you launch the binary. What actually runs is libc_start_main which then calls your main, which is the reason why you can have three different signatures in your C file with different number of arguments. Now if you dig into the source code of libc, you can see that there is a main function that is called and in that function there is an environ variable that stores the value of env. And this is the reason why you can use environ in python."
   ]
  },
  {
   "cell_type": "code",
   "execution_count": null,
   "metadata": {},
   "outputs": [],
   "source": [
    "from os import environ, getenv, putenv"
   ]
  },
  {
   "cell_type": "code",
   "execution_count": null,
   "metadata": {},
   "outputs": [
    {
     "data": {
      "text/plain": [
       "environ{'CLUTTER_IM_MODULE': 'xim',\n",
       "        'CONDA_SHLVL': '2',\n",
       "        'LD_LIBRARY_PATH': '/usr/local/cuda-10.1/lib64',\n",
       "        'LS_COLORS': 'rs=0:di=01;34:ln=01;36:mh=00:pi=40;33:so=01;35:do=01;35:bd=40;33;01:cd=40;33;01:or=40;31;01:mi=00:su=37;41:sg=30;43:ca=30;41:tw=30;42:ow=34;42:st=37;44:ex=01;32:*.tar=01;31:*.tgz=01;31:*.arc=01;31:*.arj=01;31:*.taz=01;31:*.lha=01;31:*.lz4=01;31:*.lzh=01;31:*.lzma=01;31:*.tlz=01;31:*.txz=01;31:*.tzo=01;31:*.t7z=01;31:*.zip=01;31:*.z=01;31:*.Z=01;31:*.dz=01;31:*.gz=01;31:*.lrz=01;31:*.lz=01;31:*.lzo=01;31:*.xz=01;31:*.zst=01;31:*.tzst=01;31:*.bz2=01;31:*.bz=01;31:*.tbz=01;31:*.tbz2=01;31:*.tz=01;31:*.deb=01;31:*.rpm=01;31:*.jar=01;31:*.war=01;31:*.ear=01;31:*.sar=01;31:*.rar=01;31:*.alz=01;31:*.ace=01;31:*.zoo=01;31:*.cpio=01;31:*.7z=01;31:*.rz=01;31:*.cab=01;31:*.wim=01;31:*.swm=01;31:*.dwm=01;31:*.esd=01;31:*.jpg=01;35:*.jpeg=01;35:*.mjpg=01;35:*.mjpeg=01;35:*.gif=01;35:*.bmp=01;35:*.pbm=01;35:*.pgm=01;35:*.ppm=01;35:*.tga=01;35:*.xbm=01;35:*.xpm=01;35:*.tif=01;35:*.tiff=01;35:*.png=01;35:*.svg=01;35:*.svgz=01;35:*.mng=01;35:*.pcx=01;35:*.mov=01;35:*.mpg=01;35:*.mpeg=01;35:*.m2v=01;35:*.mkv=01;35:*.webm=01;35:*.ogm=01;35:*.mp4=01;35:*.m4v=01;35:*.mp4v=01;35:*.vob=01;35:*.qt=01;35:*.nuv=01;35:*.wmv=01;35:*.asf=01;35:*.rm=01;35:*.rmvb=01;35:*.flc=01;35:*.avi=01;35:*.fli=01;35:*.flv=01;35:*.gl=01;35:*.dl=01;35:*.xcf=01;35:*.xwd=01;35:*.yuv=01;35:*.cgm=01;35:*.emf=01;35:*.ogv=01;35:*.ogx=01;35:*.aac=00;36:*.au=00;36:*.flac=00;36:*.m4a=00;36:*.mid=00;36:*.midi=00;36:*.mka=00;36:*.mp3=00;36:*.mpc=00;36:*.ogg=00;36:*.ra=00;36:*.wav=00;36:*.oga=00;36:*.opus=00;36:*.spx=00;36:*.xspf=00;36:',\n",
       "        'CONDA_EXE': '/home/kushaj/anaconda3/bin/conda',\n",
       "        'LESSCLOSE': '/usr/bin/lesspipe %s %s',\n",
       "        'TERMINATOR_UUID': 'urn:uuid:bcf3882e-c743-425a-b8ee-d6c8e8ea3970',\n",
       "        'XDG_MENU_PREFIX': 'gnome-',\n",
       "        'LANG': 'en_IN',\n",
       "        'DISPLAY': ':0',\n",
       "        'OLDPWD': '/home/kushaj/Desktop/Temp',\n",
       "        'GNOME_SHELL_SESSION_MODE': 'ubuntu',\n",
       "        'COLORTERM': 'truecolor',\n",
       "        'GEM_HOME': '/home/kushaj/gems',\n",
       "        'DESKTOP_AUTOSTART_ID': '10fe220e7fc4becbab158588059531334000000016450007',\n",
       "        'USERNAME': 'kushaj',\n",
       "        'CONDA_PREFIX': '/home/kushaj/anaconda3/envs/torch',\n",
       "        'XDG_VTNR': '2',\n",
       "        'GIO_LAUNCHED_DESKTOP_FILE_PID': '1946',\n",
       "        'SSH_AUTH_SOCK': '/run/user/1000/keyring/ssh',\n",
       "        'MANDATORY_PATH': '/usr/share/gconf/ubuntu.mandatory.path',\n",
       "        '_CE_M': '',\n",
       "        'XDG_SESSION_ID': '2',\n",
       "        'USER': 'kushaj',\n",
       "        'CONDA_PREFIX_1': '/home/kushaj/anaconda3',\n",
       "        'DESKTOP_SESSION': 'ubuntu',\n",
       "        'QT4_IM_MODULE': 'xim',\n",
       "        'TEXTDOMAINDIR': '/usr/share/locale/',\n",
       "        'DEFAULTS_PATH': '/usr/share/gconf/ubuntu.default.path',\n",
       "        'PWD': '/home/kushaj/Desktop/Temp/libs',\n",
       "        'HOME': '/home/kushaj',\n",
       "        'CONDA_PYTHON_EXE': '/home/kushaj/anaconda3/bin/python',\n",
       "        'TEXTDOMAIN': 'im-config',\n",
       "        'SSH_AGENT_PID': '1741',\n",
       "        'QT_ACCESSIBILITY': '1',\n",
       "        'XDG_SESSION_TYPE': 'x11',\n",
       "        'XDG_DATA_DIRS': '/usr/share/ubuntu:/usr/local/share/:/usr/share/:/var/lib/snapd/desktop',\n",
       "        'MKL_INTERFACE_LAYER': 'LP64,GNU',\n",
       "        '_CE_CONDA': '',\n",
       "        'CONDA_MKL_INTERFACE_LAYER_BACKUP': '',\n",
       "        'TERMINATOR_DBUS_NAME': 'net.tenshu.Terminator20x1a6021154d881c',\n",
       "        'XDG_SESSION_DESKTOP': 'ubuntu',\n",
       "        'CONDA_PROMPT_MODIFIER': '(torch) ',\n",
       "        'GTK_MODULES': 'gail:atk-bridge',\n",
       "        'TERMINATOR_DBUS_PATH': '/net/tenshu/Terminator2',\n",
       "        'WINDOWPATH': '2',\n",
       "        'VTE_VERSION': '5202',\n",
       "        'TERM': 'xterm-color',\n",
       "        'SHELL': '/bin/bash',\n",
       "        'QT_IM_MODULE': 'ibus',\n",
       "        'XMODIFIERS': '@im=ibus',\n",
       "        'IM_CONFIG_PHASE': '2',\n",
       "        'XDG_CURRENT_DESKTOP': 'ubuntu:GNOME',\n",
       "        'GPG_AGENT_INFO': '/run/user/1000/gnupg/S.gpg-agent:0:1',\n",
       "        'GIO_LAUNCHED_DESKTOP_FILE': '/etc/xdg/autostart/org.gnome.SettingsDaemon.MediaKeys.desktop',\n",
       "        'XDG_SEAT': 'seat0',\n",
       "        'SHLVL': '1',\n",
       "        'LANGUAGE': 'en_IN:en',\n",
       "        'MANPATH': '/usr/local/texlive/2019/texmf-dist/doc/man:',\n",
       "        'GDMSESSION': 'ubuntu',\n",
       "        'GNOME_DESKTOP_SESSION_ID': 'this-is-deprecated',\n",
       "        'LOGNAME': 'kushaj',\n",
       "        'DBUS_SESSION_BUS_ADDRESS': 'unix:path=/run/user/1000/bus',\n",
       "        'XDG_RUNTIME_DIR': '/run/user/1000',\n",
       "        'XAUTHORITY': '/run/user/1000/gdm/Xauthority',\n",
       "        'XDG_CONFIG_DIRS': '/etc/xdg/xdg-ubuntu:/etc/xdg',\n",
       "        'PATH': '/home/kushaj/gems/bin:/usr/local/texlive/2019/bin/x86_64-linux:/usr/local/cuda-10.1/bin:/usr/local/cuda-10.1/NsightCompute-2019.3:/home/kushaj/anaconda3/envs/torch/bin:/home/kushaj/anaconda3/condabin:/usr/local/sbin:/usr/local/bin:/usr/sbin:/usr/bin:/sbin:/bin:/usr/games:/usr/local/games:/snap/bin:/home/kushaj/hugo/v56',\n",
       "        'PS1': '(torch) \\\\u@\\\\h: ',\n",
       "        'CONDA_DEFAULT_ENV': 'torch',\n",
       "        'INFOPATH': '/usr/local/texlive/2019/texmf-dist/doc/info:',\n",
       "        'SESSION_MANAGER': 'local/kushaj:@/tmp/.ICE-unix/1645,unix/kushaj:/tmp/.ICE-unix/1645',\n",
       "        'LESSOPEN': '| /usr/bin/lesspipe %s',\n",
       "        'GTK_IM_MODULE': 'ibus',\n",
       "        '_': '/home/kushaj/anaconda3/envs/torch/bin/jupyter',\n",
       "        'KERNEL_LAUNCH_TIMEOUT': '40',\n",
       "        'GIT_PYTHON_REFRESH': 'quiet',\n",
       "        'JPY_PARENT_PID': '4441',\n",
       "        'CLICOLOR': '1',\n",
       "        'PAGER': 'cat',\n",
       "        'GIT_PAGER': 'cat',\n",
       "        'MPLBACKEND': 'module://ipykernel.pylab.backend_inline'}"
      ]
     },
     "execution_count": null,
     "metadata": {},
     "output_type": "execute_result"
    }
   ],
   "source": [
    "# Shows all the environment variables in your environment\n",
    "environ"
   ]
  },
  {
   "cell_type": "markdown",
   "metadata": {},
   "source": [
    "The next question we ask, is we know that there are no data structures in C. So when we looked at environ using `less /proc/self/environ`, we noticed that it is a string. Now we know that in python we have a dict which has constant time loopup which string has a linear time loopup. So wouldn't it be faster to implement environ using python dict. To check this we write a simple script to check the times, as we are mostly told that the most important thing is your Big O complexity. And we see that C program is faster. But as we reach to 100,000 environment variables the time complexity of linear starts catching up and we see that C program becomes slower in that case.\n",
    "\n",
    "In modern python we are told that getters and setters are not pythonic. But the interesting things is that with python 3.7 in sys module we have getters and setters. "
   ]
  },
  {
   "cell_type": "markdown",
   "metadata": {},
   "source": [
    "What is the difference between `from math import log` and `import math; math.log(x)`. Which of these is right? The difference is very subtle and it ties back to the environment store. The difference is that one of these is early binding and the other is late binding. In other words when you say `from math import log` it is the same as doing below."
   ]
  },
  {
   "cell_type": "code",
   "execution_count": null,
   "metadata": {},
   "outputs": [],
   "source": [
    "import math\n",
    "log = math.log\n",
    "log(1)"
   ]
  },
  {
   "cell_type": "markdown",
   "metadata": {},
   "source": [
    "But the meaningful difference is are you capturing the value of that function as of the line when you did the import or you are capturing the value of the function whenever you are calling that function out of that module. Are you getting the most recent value or the least recent value."
   ]
  },
  {
   "cell_type": "markdown",
   "metadata": {},
   "source": [
    "One of the general guidelines with environment variables is that don't change them over the course of the program because you don't know when some program might call getter or setter. So set the environment variables at the start and don't change them in your main process."
   ]
  },
  {
   "cell_type": "code",
   "execution_count": null,
   "metadata": {},
   "outputs": [],
   "source": []
  }
 ],
 "metadata": {
  "kernelspec": {
   "display_name": "Python 3",
   "language": "python",
   "name": "python3"
  }
 },
 "nbformat": 4,
 "nbformat_minor": 4
}
