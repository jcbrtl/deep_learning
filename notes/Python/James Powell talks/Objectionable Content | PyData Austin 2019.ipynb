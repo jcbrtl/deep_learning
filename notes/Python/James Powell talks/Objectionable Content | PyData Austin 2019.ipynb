{
 "cells": [
  {
   "cell_type": "markdown",
   "metadata": {},
   "source": [
    "# Objectionable Content| PyData Austin 2019\n",
    "> Building systems in Python, the Python object model; no machine learning."
   ]
  },
  {
   "cell_type": "markdown",
   "metadata": {},
   "source": [
    "While working with Python you may have created some functions, played around with keyword arguments or created some classes. But you may have never had to write a large system design. This large system design is essential the moment your analytical work is over and you want to do something real with it (or something in business context). \n",
    "\n",
    "So the problem at hand is to model a circuit where we will calculate currents. So when we start me might start by modeling that circuit as a tuple. When we start we get a tuple type and some fields associated with it. When we have to interact with the fields of the tuple we can see that it can be a bit unpleasant as we have to use direct field accessing as we might not know what position indexs mean. Then at some time we do tuple destructuring to give names to these position indexes."
   ]
  },
  {
   "cell_type": "code",
   "execution_count": null,
   "metadata": {},
   "outputs": [
    {
     "data": {
      "text/plain": [
       "tuple"
      ]
     },
     "execution_count": null,
     "metadata": {},
     "output_type": "execute_result"
    }
   ],
   "source": [
    "component = 'register', '10-232-1412', 'honhai', 10\n",
    "type(component)"
   ]
  },
  {
   "cell_type": "code",
   "execution_count": null,
   "metadata": {},
   "outputs": [
    {
     "data": {
      "text/plain": [
       "'register'"
      ]
     },
     "execution_count": null,
     "metadata": {},
     "output_type": "execute_result"
    }
   ],
   "source": [
    "# To access the fields\n",
    "component[0]"
   ]
  },
  {
   "cell_type": "code",
   "execution_count": null,
   "metadata": {},
   "outputs": [
    {
     "data": {
      "text/plain": [
       "('register', '10-232-1412', 'honhai', 10)"
      ]
     },
     "execution_count": null,
     "metadata": {},
     "output_type": "execute_result"
    }
   ],
   "source": [
    "# tuple destructuring\n",
    "type_, number, manufacturer, resistance = component\n",
    "\n",
    "type_, number, manufacturer, resistance"
   ]
  },
  {
   "cell_type": "markdown",
   "metadata": {},
   "source": [
    "The problem with the above is that we still need to know the structure of the code to destructure the tuple and if the original definition of the tuple and the destructuring are far away than it may be difficult to keep them in sync.\n",
    "\n",
    "Next we may try something a little bit fancier. It might say we want to be able to access the fields of this object directly and I want to have some self-documenting behavior. So instead I will use a dictionary."
   ]
  },
  {
   "cell_type": "code",
   "execution_count": null,
   "metadata": {},
   "outputs": [
    {
     "data": {
      "text/plain": [
       "'register'"
      ]
     },
     "execution_count": null,
     "metadata": {},
     "output_type": "execute_result"
    }
   ],
   "source": [
    "component = {\n",
    "    'type':         'register',\n",
    "    'number':       '10-232-1412',\n",
    "    'manufacturer': 'honhai',\n",
    "    'resistance':   10,\n",
    "}\n",
    "\n",
    "component['type']"
   ]
  },
  {
   "cell_type": "markdown",
   "metadata": {},
   "source": [
    "That kind of works there is nothing much fancy there. To access the fields I can use square brackets, it is a little bit clumsy and have those quotes. But it is better than having the tuple as if I had to add fields later I don't have to change all the code that I have written and visually it is close to self-documenting.\n",
    "\n",
    "Next I may something very silly where I may try to access the object by using the dot syntax rather than using square brackets. So I can create a new dict class and override some methods."
   ]
  },
  {
   "cell_type": "code",
   "execution_count": null,
   "metadata": {},
   "outputs": [
    {
     "data": {
      "text/plain": [
       "'register'"
      ]
     },
     "execution_count": null,
     "metadata": {},
     "output_type": "execute_result"
    }
   ],
   "source": [
    "class attrdict(dict):\n",
    "    __getattr__ = dict.__getitem__\n",
    "    __setattr__ = dict.__setitem__\n",
    "    __delattr__ = dict.__delitem__\n",
    "\n",
    "component = attrdict({\n",
    "    'type':         'register',\n",
    "    'number':       '10-232-1412',\n",
    "    'manufacturer': 'honhai',\n",
    "    'resistance':   10,\n",
    "})\n",
    "\n",
    "component.type"
   ]
  },
  {
   "cell_type": "markdown",
   "metadata": {},
   "source": [
    "**Note**:- The above is a really bad idea and don't ever do that.\n",
    "\n",
    "But maybe it is not so silly. If we create it as a normal python object (regular class with init method)."
   ]
  },
  {
   "cell_type": "code",
   "execution_count": null,
   "metadata": {},
   "outputs": [],
   "source": [
    "class Resistor:\n",
    "    def __init__(self, number, manufacturer, resistance):\n",
    "        self.number = number\n",
    "        self.manufacturer = manufacturer\n",
    "        self.resistance = resistance\n",
    "r = Resistor('10-232-1412', 'honhai', 10)"
   ]
  },
  {
   "cell_type": "markdown",
   "metadata": {},
   "source": [
    "If we look inside this class we see there is a `__dict__` attribute and it is pretty much the same dictionary as the dictionary we saw above. This dict object is storing the instance state."
   ]
  },
  {
   "cell_type": "code",
   "execution_count": null,
   "metadata": {},
   "outputs": [
    {
     "data": {
      "text/plain": [
       "{'number': '10-232-1412', 'manufacturer': 'honhai', 'resistance': 10}"
      ]
     },
     "execution_count": null,
     "metadata": {},
     "output_type": "execute_result"
    }
   ],
   "source": [
    "r.__dict__"
   ]
  },
  {
   "cell_type": "code",
   "execution_count": null,
   "metadata": {},
   "outputs": [
    {
     "ename": "AttributeError",
     "evalue": "'dict' object has no attribute 'number'",
     "output_type": "error",
     "traceback": [
      "\u001b[0;31m---------------------------------------------------------------------------\u001b[0m",
      "\u001b[0;31mAttributeError\u001b[0m                            Traceback (most recent call last)",
      "\u001b[0;32m<ipython-input-10-188e952d2b84>\u001b[0m in \u001b[0;36m<module>\u001b[0;34m\u001b[0m\n\u001b[0;32m----> 1\u001b[0;31m \u001b[0mr\u001b[0m\u001b[0;34m.\u001b[0m\u001b[0m__dict__\u001b[0m\u001b[0;34m.\u001b[0m\u001b[0mnumber\u001b[0m\u001b[0;34m\u001b[0m\u001b[0;34m\u001b[0m\u001b[0m\n\u001b[0m",
      "\u001b[0;31mAttributeError\u001b[0m: 'dict' object has no attribute 'number'"
     ]
    }
   ],
   "source": [
    "r.__dict__.number"
   ]
  },
  {
   "cell_type": "code",
   "execution_count": null,
   "metadata": {},
   "outputs": [
    {
     "data": {
      "text/plain": [
       "'10-232-1412'"
      ]
     },
     "execution_count": null,
     "metadata": {},
     "output_type": "execute_result"
    }
   ],
   "source": [
    "r.__dict__['number']"
   ]
  },
  {
   "cell_type": "markdown",
   "metadata": {},
   "source": [
    "Now don't try to convert this dict to an attrdict.\n",
    "\n",
    "The next argument that we might make is that it not that different from the way python dictionaries are actually implemented under the covers. Now if we try this, we have a large system with large number of these Resistor objects because we are modeling humongous circuits and we see that it is using a lot of memory. Now we check the size of the object and we see that it is 64 bytes of data which is pretty big for one individual piece of data that really doesn't store a lot of information."
   ]
  },
  {
   "cell_type": "code",
   "execution_count": null,
   "metadata": {},
   "outputs": [
    {
     "data": {
      "text/plain": [
       "64"
      ]
     },
     "execution_count": null,
     "metadata": {},
     "output_type": "execute_result"
    }
   ],
   "source": [
    "from sys import getsizeof\n",
    "getsizeof(Resistor(None, None, None))"
   ]
  },
  {
   "cell_type": "markdown",
   "metadata": {},
   "source": [
    "Now if we were to really do some kind of memory analysis of the program we could go pretty far. We can use the `tracemelloc` module which can take snapshots and you can see what got allocated between those two snapshots."
   ]
  },
  {
   "cell_type": "code",
   "execution_count": null,
   "metadata": {},
   "outputs": [],
   "source": [
    "from tracemalloc import start, take_snapshot\n",
    "\n",
    "start()\n",
    "before = take_snapshot()\n",
    "r = Resistor('10-232-1412', 'honhai', 10)\n",
    "after = take_snapshot()\n",
    "\n",
    "# works in .py script\n",
    "for stat in (stat for stat in after.compare_to(before, 'lineno') if stat.traceback[0].filename == __file__):\n",
    "    print(stat)"
   ]
  },
  {
   "cell_type": "markdown",
   "metadata": {},
   "source": [
    "The output for above is \n",
    "```python\n",
    "check_tracemalloc.py:11: size=64 B (+64 B), count=1 (+1), average=64 B\n",
    "check_tracemalloc.py:5: size=40 B (+40 B), count=1 (+1), average=40 B\n",
    "```\n",
    "\n",
    "So we can see that additional 64 bytes of space is allocated. Also, the moment anybody gives you a project and asks you to reduce the memory consumption and that project is done in Python, just run away from that job as most of those projects are dead ends. The reason is that there are some structures within python interpreter like FreeLists in your attribute lookup mechanism that never get deallocated. So a python program may not deallocate all the memory that it does not require but it will just ht a high-water mark and stay at that water mark.\n",
    "\n",
    "So we will not continue this example as this is a dead end.\n",
    "\n",
    "So the typical answer to our problem is using **slots** in which a python object no longer has an instance dictionary and so you save all that memory from that extra dictionary and instead you have explicit locations for where the instant state of that type is stored. The problem is that this mechanism cannot store anything outside of its scope i.e. outside of number, manufacturer, resistance."
   ]
  },
  {
   "cell_type": "code",
   "execution_count": null,
   "metadata": {},
   "outputs": [
    {
     "data": {
      "text/plain": [
       "False"
      ]
     },
     "execution_count": null,
     "metadata": {},
     "output_type": "execute_result"
    }
   ],
   "source": [
    "class Resistor:\n",
    "    __slots__ = 'number', 'manufacturer', 'resistance'    \n",
    "    def __init__(self, number, manufacturer, resistance):\n",
    "        self.number = number\n",
    "        self.manufacturer = manufacturer\n",
    "        self.resistance = resistance\n",
    "r = Resistor('10-232-1412', 'honhai', 10)\n",
    "\n",
    "hasattr(r, '__dict__')"
   ]
  },
  {
   "cell_type": "code",
   "execution_count": null,
   "metadata": {},
   "outputs": [
    {
     "data": {
      "text/plain": [
       "72"
      ]
     },
     "execution_count": null,
     "metadata": {},
     "output_type": "execute_result"
    }
   ],
   "source": [
    "getsizeof(Resistor(None, None, None))"
   ]
  },
  {
   "cell_type": "code",
   "execution_count": null,
   "metadata": {},
   "outputs": [
    {
     "ename": "AttributeError",
     "evalue": "'Resistor' object has no attribute 'abs'",
     "output_type": "error",
     "traceback": [
      "\u001b[0;31m---------------------------------------------------------------------------\u001b[0m",
      "\u001b[0;31mAttributeError\u001b[0m                            Traceback (most recent call last)",
      "\u001b[0;32m<ipython-input-34-86aebef1c244>\u001b[0m in \u001b[0;36m<module>\u001b[0;34m\u001b[0m\n\u001b[0;32m----> 1\u001b[0;31m \u001b[0mr\u001b[0m\u001b[0;34m.\u001b[0m\u001b[0mabs\u001b[0m \u001b[0;34m=\u001b[0m \u001b[0;36m10\u001b[0m\u001b[0;34m\u001b[0m\u001b[0;34m\u001b[0m\u001b[0m\n\u001b[0m",
      "\u001b[0;31mAttributeError\u001b[0m: 'Resistor' object has no attribute 'abs'"
     ]
    }
   ],
   "source": [
    "r.abs = 10"
   ]
  },
  {
   "cell_type": "markdown",
   "metadata": {},
   "source": [
    "So we lose that dynamic nature in exchange of space. But for our example we can see it is not true, as it uses more memory. \n",
    "\n",
    "**Note**:- So don't waste your time with memory analysis in Python.\n",
    "\n",
    "So what you should do instead is consider python as an orchestration language (orchestration is the automated configuration, coordination and management of computer systems). A language which takes components written in other languages like C, C++ and orchestrates their mechanisms inside those components. We reserve the manipulation of the business entities or the manipulation of the experiment to the python level and the actual core computation use to this library in C, C++. So those entities turn into restricted computation domains (like numpy.ndarray). If you think about this for a second, every object in python is boxed there is no distinction in python between boxed and unboxed objects and also is heap-allocated and takes a large amount of space. Whereas for numpy.ndarray's they are contiguous machine types so they are unboxed.\n",
    "\n",
    "**So you often design your system so that you have business entities that are unboxed entities that you put into a computation domain (like np, pd) and in that computation domain you unbox that entity.**"
   ]
  },
  {
   "cell_type": "code",
   "execution_count": null,
   "metadata": {},
   "outputs": [
    {
     "name": "stdout",
     "output_type": "stream",
     "text": [
      "(1, 2, 3)\n",
      "[2 4 6]\n",
      "(2, 4, 6)\n"
     ]
    }
   ],
   "source": [
    "from numpy import array\n",
    "\n",
    "# Create your boxed objects in python\n",
    "x, y, z = 1, 2, 3\n",
    "print(f'{x, y, z}')\n",
    "\n",
    "# Transfer those objects to underlying computaton domain\n",
    "values = array([x, y, z])\n",
    "\n",
    "# Do the core computation using the computation domain\n",
    "values *= 2\n",
    "print(f'{values}')\n",
    "\n",
    "# Get the result in python\n",
    "x, y, z = values\n",
    "print(f'{x, y, z}')"
   ]
  },
  {
   "cell_type": "markdown",
   "metadata": {},
   "source": [
    "So whenever you are working in a production environment and you are working with python objects it will be slow and require large amount of memory because python objects are heap-allocated.\n",
    "\n",
    "So when you do these things in python you end up with a manager class that manages everything."
   ]
  },
  {
   "cell_type": "code",
   "execution_count": null,
   "metadata": {},
   "outputs": [
    {
     "data": {
      "text/plain": [
       "(5.333333333333333, <__main__.Resistor at 0x7fd858f14c10>)"
      ]
     },
     "execution_count": null,
     "metadata": {},
     "output_type": "execute_result"
    }
   ],
   "source": [
    "from pandas import DataFrame\n",
    "\n",
    "# Individual python object that represents this boxed entitiy\n",
    "# This is not computation dependent, as you just need to look\n",
    "# up number, manufacturere and find the resistance\n",
    "class Resistor:\n",
    "    def __init__(self, number, manufacturer, resistance):\n",
    "        self.number = number\n",
    "        self.manufacturer = manufacturer\n",
    "        self.resistance = resistance\n",
    "\n",
    "# Computation entity. This product represents that entity. I\n",
    "# can add a __getitem__ method that can convert this unboxed\n",
    "# to python boxed object.\n",
    "class Product:\n",
    "    def __init__(self, *components):\n",
    "        self.components = DataFrame(\n",
    "            [[x.manufacturer, x.resistance] for x in components],\n",
    "            columns=['manufacturer', 'resistance'], \n",
    "            index=[x.number for x in components])\n",
    "    \n",
    "    def __getitem__(self, number):\n",
    "        x = self.components.loc[number]\n",
    "        return Resistor(number, x.manufacturer, x.resistance)\n",
    "    \n",
    "p = Product(\n",
    "    Resistor('10-423-1234', 'honhai', 1),\n",
    "    Resistor('10-423-1249', 'samsung', 5),\n",
    "    Resistor('10-423-1230', 'honhai', 10),\n",
    ")\n",
    "\n",
    "p.components.resistance.mean(), p['10-423-1234']"
   ]
  },
  {
   "cell_type": "markdown",
   "metadata": {},
   "source": [
    "Now going back to our tuple example. **You never should be just using a tuple to represent any data in our program, instead use namedtuple.**"
   ]
  },
  {
   "cell_type": "code",
   "execution_count": null,
   "metadata": {},
   "outputs": [
    {
     "data": {
      "text/plain": [
       "Resistor(number='10-232-1412', manufacturer='honhai', resistance=10)"
      ]
     },
     "execution_count": null,
     "metadata": {},
     "output_type": "execute_result"
    }
   ],
   "source": [
    "from collections import namedtuple\n",
    "Resistor = namedtuple('Resistor', 'number manufacturer resistance')\n",
    "\n",
    "r = Resistor('10-232-1412', 'honhai', 10)\n",
    "r"
   ]
  },
  {
   "cell_type": "markdown",
   "metadata": {},
   "source": [
    "So now let's start digging into the *basic python model*. It is used to implement protocols. There are some protocol that represent initialization and there's some syntax associated with that and there's some close correspondence between the syntax that invokes a protocol and the way that we go and implement that protocol. "
   ]
  },
  {
   "cell_type": "code",
   "execution_count": null,
   "metadata": {},
   "outputs": [],
   "source": [
    "r = Register(None, None, None) # does the initiailization"
   ]
  },
  {
   "cell_type": "code",
   "execution_count": null,
   "metadata": {},
   "outputs": [
    {
     "name": "stdout",
     "output_type": "stream",
     "text": [
      "Resistor(number='10-232-1412', manufacturer='honhai', resistance=10)\n"
     ]
    }
   ],
   "source": [
    "# Lets say we want to get human readable representation of the class\n",
    "print(r)"
   ]
  },
  {
   "cell_type": "code",
   "execution_count": null,
   "metadata": {},
   "outputs": [
    {
     "name": "stdout",
     "output_type": "stream",
     "text": [
      "Resistor(number='10-232-1412', manufacturer='honhai', resistance=10)\n"
     ]
    }
   ],
   "source": [
    "print(repr(r))"
   ]
  },
  {
   "cell_type": "code",
   "execution_count": null,
   "metadata": {},
   "outputs": [
    {
     "data": {
      "text/plain": [
       "Resistor(10-232-1412, honhai, 10)"
      ]
     },
     "execution_count": null,
     "metadata": {},
     "output_type": "execute_result"
    }
   ],
   "source": [
    "# Now if I want to change this representation I have to modify the __repr__ method\n",
    "class Resistor:\n",
    "    def __init__(self, number, manufacturer, resistance):\n",
    "        self.number = number\n",
    "        self.manufacturer = manufacturer\n",
    "        self.resistance = resistance\n",
    "    \n",
    "    def __repr__(self):\n",
    "        return f'Resistor({self.number}, {self.manufacturer}, {self.resistance})'\n",
    "\n",
    "r = Resistor('10-232-1412', 'honhai', 10)\n",
    "r"
   ]
  },
  {
   "cell_type": "markdown",
   "metadata": {},
   "source": [
    "Now if we follow the python data model docs we see there are some guidelines for these protocols. These are called protocols because usually what you are doing is taking some fixed mechanism by which you answer a question or perform some operation, you are hooking into it to add some small amendment or some small modification and then you are dispatching back to that same protocol on either constituent object or on base class. Now one of the rules for the `__repr__` method is that you should be able to cut and paste the result into a terminal and you should be able to get a new object. So I have to modify the repr method as follows. "
   ]
  },
  {
   "cell_type": "code",
   "execution_count": null,
   "metadata": {},
   "outputs": [
    {
     "data": {
      "text/plain": [
       "Resistor(\"10-232-1412\", \"honhai\", 10)"
      ]
     },
     "execution_count": null,
     "metadata": {},
     "output_type": "execute_result"
    }
   ],
   "source": [
    "class Resistor:\n",
    "    def __init__(self, number, manufacturer, resistance):\n",
    "        self.number = number\n",
    "        self.manufacturer = manufacturer\n",
    "        self.resistance = resistance\n",
    "    \n",
    "    def __repr__(self):\n",
    "        return f'Resistor(\"{self.number}\", \"{self.manufacturer}\", {self.resistance})'\n",
    "\n",
    "r = Resistor('10-232-1412', 'honhai', 10)\n",
    "r"
   ]
  },
  {
   "cell_type": "markdown",
   "metadata": {},
   "source": [
    "Now the problem you may face is that what if there are quotes in the attributes. Then you may have to do some fancy stuff. But the solution to that is to call repr inside repr and this is the general guideline when you are implementing this repr function. This is shown below."
   ]
  },
  {
   "cell_type": "code",
   "execution_count": null,
   "metadata": {},
   "outputs": [
    {
     "data": {
      "text/plain": [
       "Resistor('10-232-1412', 'honhai', 10)"
      ]
     },
     "execution_count": null,
     "metadata": {},
     "output_type": "execute_result"
    }
   ],
   "source": [
    "class Resistor:\n",
    "    def __init__(self, number, manufacturer, resistance):\n",
    "        self.number = number\n",
    "        self.manufacturer = manufacturer\n",
    "        self.resistance = resistance\n",
    "    \n",
    "    def __repr__(self):\n",
    "        return (f'Resistor({self.number!r}, {self.manufacturer!r}, {self.resistance!r})')\n",
    "        # !r is equivalent to use __repr__ as shown below\n",
    "        # return f'Resistor({self.number!r}, {self.manufacturer!r}, {repr(self.resistance)})'\n",
    "    \n",
    "r = Resistor('10-232-1412', 'honhai', 10)\n",
    "r"
   ]
  },
  {
   "cell_type": "markdown",
   "metadata": {},
   "source": [
    "You may have seen angle brackets in some representation like when you open a file."
   ]
  },
  {
   "cell_type": "code",
   "execution_count": null,
   "metadata": {},
   "outputs": [
    {
     "name": "stdout",
     "output_type": "stream",
     "text": [
      "<_io.TextIOWrapper name='check_tracemalloc.py' mode='r' encoding='UTF-8'>\n"
     ]
    }
   ],
   "source": [
    "with open('check_tracemalloc.py') as f:\n",
    "    print(f)"
   ]
  },
  {
   "cell_type": "markdown",
   "metadata": {},
   "source": [
    "The reason for the angle bracket is that it shows that you cannot copy this representation to a terminal and replicate the object. This makes sense as there are may buffers or file pointer that are necessary to open the file but not after that. So when you see angle brackets it means you cannot copy and paste that representation to a terminal and replicate that object."
   ]
  },
  {
   "cell_type": "markdown",
   "metadata": {},
   "source": [
    "Now what if I add a potentiometer that subclasses my resistor."
   ]
  },
  {
   "cell_type": "code",
   "execution_count": null,
   "metadata": {},
   "outputs": [
    {
     "data": {
      "text/plain": [
       "Resistor('10-232-1412', 'honhai', 10)"
      ]
     },
     "execution_count": null,
     "metadata": {},
     "output_type": "execute_result"
    }
   ],
   "source": [
    "class Potentiometer(Resistor):\n",
    "    pass\n",
    "\n",
    "p = Potentiometer('10-232-1412', 'honhai', 10)\n",
    "p"
   ]
  },
  {
   "cell_type": "markdown",
   "metadata": {},
   "source": [
    "When I print the potentiometer I see that it prints Resistor but that is wrong. The reason is I hardcoded the name of the object in my repr method. So I have to change that."
   ]
  },
  {
   "cell_type": "code",
   "execution_count": null,
   "metadata": {},
   "outputs": [
    {
     "data": {
      "text/plain": [
       "Potentiometer('10-232-1412', 'honhai', 10)"
      ]
     },
     "execution_count": null,
     "metadata": {},
     "output_type": "execute_result"
    }
   ],
   "source": [
    "class Resistor:\n",
    "    def __init__(self, number, manufacturer, resistance):\n",
    "        self.number = number\n",
    "        self.manufacturer = manufacturer\n",
    "        self.resistance = resistance    \n",
    "    def __repr__(self):\n",
    "        return (f'{type(self).__name__}({self.number!r}, {self.manufacturer!r}, {self.resistance!r})')\n",
    "\n",
    "class Potentiometer(Resistor):\n",
    "    pass\n",
    "\n",
    "p = Potentiometer('10-232-1412', 'honhai', 10)\n",
    "p"
   ]
  },
  {
   "cell_type": "markdown",
   "metadata": {},
   "source": [
    "This is still now enough. We still have to add some boilercode. This can be seen by the next example where we add new attribute to the potentiometer class."
   ]
  },
  {
   "cell_type": "code",
   "execution_count": null,
   "metadata": {},
   "outputs": [
    {
     "data": {
      "text/plain": [
       "Potentiometer('10-232-1412','honhai',15,10,20)"
      ]
     },
     "execution_count": null,
     "metadata": {},
     "output_type": "execute_result"
    }
   ],
   "source": [
    "class Potentiometer(Resistor):\n",
    "    def __init__(self, number, manufacturer, resistance, min_resistance, max_resistance):\n",
    "        if not min_resistance <= resistance <= max_resistance:\n",
    "            raise ValueError('resistance out of bounds')\n",
    "        self.min_resistance = min_resistance\n",
    "        self.max_resistance = max_resistance\n",
    "        super().__init__(number, manufacturer, resistance)\n",
    "    \n",
    "    def __repr__(self):\n",
    "        return (f'{type(self).__name__}({self.number!r},'\n",
    "                                      f'{self.manufacturer!r},'\n",
    "                                      f'{self.resistance!r},'\n",
    "                                      f'{self.min_resistance!r},'\n",
    "                                      f'{self.max_resistance!r})')\n",
    "\n",
    "p = Potentiometer('10-232-1412', 'honhai', 15, 10, 20)\n",
    "p "
   ]
  },
  {
   "cell_type": "markdown",
   "metadata": {},
   "source": [
    "This added boilerplate is unavoidable because the only other way you can avoid is this is you create your own protocols or object systems like shown below. (i.e. by adding `__fields__` and just for fun I will add `__slots__`."
   ]
  },
  {
   "cell_type": "code",
   "execution_count": null,
   "metadata": {},
   "outputs": [
    {
     "data": {
      "text/plain": [
       "Potentiometer('10-232-1412', 'honhai', 15, 10, 20)"
      ]
     },
     "execution_count": null,
     "metadata": {},
     "output_type": "execute_result"
    }
   ],
   "source": [
    "class Resistor:\n",
    "    __slots__ = __fields__ = 'number', 'manufacturer', 'resistance'\n",
    "    def __init__(self, number, manufacturer, resistance):\n",
    "        self.number = number\n",
    "        self.manufacturer = manufacturer\n",
    "        self.resistance = resistance\n",
    "    \n",
    "    def __repr__(self):\n",
    "        fields = ', '.join(repr(getattr(self, f)) for f in self.__fields__)\n",
    "        return f'{type(self).__name__}({fields})'\n",
    "    \n",
    "class Potentiometer(Resistor):\n",
    "    __slots__ = __fields__ = *Resistor.__fields__, 'min_resistance', 'max_resistance'\n",
    "    def __init__(self, number, manufacturer, resistance, min_resistance, max_resistance):\n",
    "        if not min_resistance <= resistance <= max_resistance:\n",
    "            raise ValueError('resistance out of bounds')\n",
    "        self.min_resistance = min_resistance\n",
    "        self.max_resistance = max_resistance\n",
    "        super().__init__(number, manufacturer, resistance)\n",
    "        \n",
    "p = Potentiometer('10-232-1412', 'honhai', 15, 10, 20)\n",
    "p "
   ]
  },
  {
   "cell_type": "markdown",
   "metadata": {},
   "source": [
    "Now you created your own protocol system i.e. a set of rules that all objects that inherit from this base class should have. One of the rule is to have `__fields__` attribute and for that you will have to add some checks. \n",
    "\n",
    "Was this all worth it? Probably no in this case. You could have given all this work to an intern to write the boilerplate. But if you are creating a library then you have to create these object system."
   ]
  },
  {
   "cell_type": "markdown",
   "metadata": {},
   "source": [
    "Now if you really want to be clever you could try to use python's introspective nature in order to now build your own object system like shown below."
   ]
  },
  {
   "cell_type": "code",
   "execution_count": null,
   "metadata": {},
   "outputs": [
    {
     "data": {
      "text/plain": [
       "Potentiometer('10-232-1412', 'honhai', 15, 10, 20)"
      ]
     },
     "execution_count": null,
     "metadata": {},
     "output_type": "execute_result"
    }
   ],
   "source": [
    "from inspect import signature\n",
    "\n",
    "class Resistor:\n",
    "    def __init__(self, number, manufacturer, resistance):\n",
    "        self.number = number\n",
    "        self.manufacturer = manufacturer\n",
    "        self.resistance = resistance\n",
    "    \n",
    "    def __repr__(self):\n",
    "        fields = signature(self.__init__).parameters\n",
    "        values = ', '.join(repr(getattr(self, f)) for f in fields)\n",
    "        return f'{type(self).__name__}({values})'\n",
    "    \n",
    "class Potentiometer(Resistor):\n",
    "    def __init__(self, number, manufacturer, resistance, min_resistance, max_resistance):\n",
    "        if not min_resistance <= resistance <= max_resistance:\n",
    "            raise ValueError('resistance out of bounds')\n",
    "        self.min_resistance = min_resistance\n",
    "        self.max_resistance = max_resistance\n",
    "        super().__init__(number, manufacturer, resistance)\n",
    "        \n",
    "p = Potentiometer('10-232-1412', 'honhai', 15, 10, 20)\n",
    "p "
   ]
  },
  {
   "cell_type": "markdown",
   "metadata": {},
   "source": [
    "The problem with the above approach is read-only fields. A read-only field is one that cannot be assigned as new value after initialization."
   ]
  },
  {
   "cell_type": "code",
   "execution_count": null,
   "metadata": {},
   "outputs": [],
   "source": [
    "class A:\n",
    "    def __init__(self, name):\n",
    "        self.name = name\n",
    "a = A('kushaj')\n",
    "\n",
    "a.kushaj = 'something else' # This is not allowed"
   ]
  },
  {
   "cell_type": "code",
   "execution_count": null,
   "metadata": {},
   "outputs": [
    {
     "ename": "AttributeError",
     "evalue": "can't set attribute",
     "output_type": "error",
     "traceback": [
      "\u001b[0;31m---------------------------------------------------------------------------\u001b[0m",
      "\u001b[0;31mAttributeError\u001b[0m                            Traceback (most recent call last)",
      "\u001b[0;32m<ipython-input-85-47088507b07a>\u001b[0m in \u001b[0;36m<module>\u001b[0;34m\u001b[0m\n\u001b[1;32m      9\u001b[0m \u001b[0;34m\u001b[0m\u001b[0m\n\u001b[1;32m     10\u001b[0m \u001b[0ma\u001b[0m \u001b[0;34m=\u001b[0m \u001b[0mA\u001b[0m\u001b[0;34m(\u001b[0m\u001b[0;34m'kushaj'\u001b[0m\u001b[0;34m)\u001b[0m\u001b[0;34m\u001b[0m\u001b[0;34m\u001b[0m\u001b[0m\n\u001b[0;32m---> 11\u001b[0;31m \u001b[0ma\u001b[0m\u001b[0;34m.\u001b[0m\u001b[0mname\u001b[0m \u001b[0;34m=\u001b[0m \u001b[0;34m'something else'\u001b[0m\u001b[0;34m\u001b[0m\u001b[0;34m\u001b[0m\u001b[0m\n\u001b[0m",
      "\u001b[0;31mAttributeError\u001b[0m: can't set attribute"
     ]
    }
   ],
   "source": [
    "# To achieve the above we use @propoerty\n",
    "class A:\n",
    "    def __init__(self, name):\n",
    "        self.name_ = name\n",
    "    \n",
    "    @property\n",
    "    def name(self):\n",
    "        return self.name_\n",
    "\n",
    "a = A('kushaj')\n",
    "a.name = 'something else'"
   ]
  },
  {
   "cell_type": "markdown",
   "metadata": {},
   "source": [
    "The protocols create a vocabulary. Let us define a network and we ask the question what is the length of the network. You implement that logic using `__len__`."
   ]
  },
  {
   "cell_type": "code",
   "execution_count": null,
   "metadata": {},
   "outputs": [],
   "source": [
    "class Network:\n",
    "    def __init__(self, *connections):\n",
    "        self.connections = connections\n",
    "        self.elements = {x.number: x for uv in connections\n",
    "                                     for x in uv if x is not None}\n",
    "        \n",
    "    def __len__(self):\n",
    "        return len(self.elements)\n",
    "    \n",
    "    def __getitem__(self, number):\n",
    "        return self.elements[number]"
   ]
  },
  {
   "cell_type": "markdown",
   "metadata": {},
   "source": [
    "`__hash__` method in python is intended to be used by the python interpreter. So don't use that method to implement your own hash function. Instead write a custom `hash()` method."
   ]
  },
  {
   "cell_type": "markdown",
   "metadata": {},
   "source": [
    "Let's take a simple report and we have done the circuit analysis before and after and figured out where the currents are."
   ]
  },
  {
   "cell_type": "code",
   "execution_count": null,
   "metadata": {},
   "outputs": [],
   "source": [
    "before = {'i1': 10, 'i2': 15, 'i3': 10,          'i5': 1, }\n",
    "after  = {'i1': 14, 'i2': 14,           'i4': 5, 'i5': 50,}"
   ]
  },
  {
   "cell_type": "markdown",
   "metadata": {},
   "source": [
    "Now we might want to compare what's the before and after. So we want to generate a report as follows."
   ]
  },
  {
   "cell_type": "code",
   "execution_count": null,
   "metadata": {},
   "outputs": [
    {
     "name": "stdout",
     "output_type": "stream",
     "text": [
      "        before    after      |Δ|      % Δ\n",
      "i1          10       14     4.00    40.00%\n",
      "i2          15       14     1.00     6.67%\n",
      "i5           1       50    49.00  4900.00%\n"
     ]
    }
   ],
   "source": [
    "delt = '\\N{greek capital letter delta}'\n",
    "print(f'{\"\":<5} {\"before\":>8} {\"after\":>8} {f\"|{delt}|\":>8} {f\"% {delt}\":>8}')\n",
    "for k in sorted(set(before) & set(after)):\n",
    "    bef, aft = before[k], after[k]\n",
    "    abs_diff, pct_diff = abs(aft - bef), abs(aft - bef) / bef\n",
    "    print(f'{k:<5} {bef:>8.0f} {aft:>8.0f} {abs_diff:>8.2f} {pct_diff*100:>8.2f}%')"
   ]
  },
  {
   "cell_type": "markdown",
   "metadata": {},
   "source": [
    "We can add \\*, ** to the end of the reports to show some large differences."
   ]
  },
  {
   "cell_type": "code",
   "execution_count": null,
   "metadata": {},
   "outputs": [
    {
     "name": "stdout",
     "output_type": "stream",
     "text": [
      "        before    after      |Δ|      % Δ\n",
      "i1          10       14     4.00    40.00% *\n",
      "i2          15       14     1.00     6.67% \n",
      "i5           1       50    49.00  4900.00% **\n"
     ]
    }
   ],
   "source": [
    "delt = '\\N{greek capital letter delta}'\n",
    "print(f'{\"\":<5} {\"before\":>8} {\"after\":>8} {f\"|{delt}|\":>8} {f\"% {delt}\":>8}')\n",
    "for k in sorted(set(before) & set(after)):\n",
    "    bef, aft = before[k], after[k]\n",
    "    abs_diff, pct_diff = abs(aft - bef), abs(aft - bef) / bef\n",
    "    flag = ''\n",
    "    if pct_diff > .5:\n",
    "        flag = '**'\n",
    "    elif pct_diff > .1:\n",
    "        flag = '*'\n",
    "    print(f'{k:<5} {bef:>8.0f} {aft:>8.0f} {abs_diff:>8.2f} {pct_diff*100:>8.2f}% {flag}')"
   ]
  },
  {
   "cell_type": "markdown",
   "metadata": {},
   "source": [
    "The flagging mechanism may be important is various other places so we want to make a abstraction of it. As a data scientist your first response would be to create a function."
   ]
  },
  {
   "cell_type": "code",
   "execution_count": null,
   "metadata": {},
   "outputs": [
    {
     "name": "stdout",
     "output_type": "stream",
     "text": [
      "        before    after      |Δ|      % Δ\n",
      "i1          10       14     4.00    40.00% *\n",
      "i2          15       14     1.00     6.67% \n",
      "i5           1       50    49.00  4900.00% **\n"
     ]
    }
   ],
   "source": [
    "def get_flag(pct_diff):\n",
    "    if pct_diff > .5:\n",
    "        return '**'\n",
    "    elif pct_diff > .1:\n",
    "        return '*'\n",
    "    return ''\n",
    "delt = '\\N{greek capital letter delta}'\n",
    "print(f'{\"\":<5} {\"before\":>8} {\"after\":>8} {f\"|{delt}|\":>8} {f\"% {delt}\":>8}')\n",
    "for k in sorted(set(before) & set(after)):\n",
    "    bef, aft = before[k], after[k]\n",
    "    abs_diff, pct_diff = abs(aft - bef), abs(aft - bef) / bef\n",
    "    flag = get_flag(pct_diff)\n",
    "    print(f'{k:<5} {bef:>8.0f} {aft:>8.0f} {abs_diff:>8.2f} {pct_diff*100:>8.2f}% {flag}')"
   ]
  },
  {
   "cell_type": "markdown",
   "metadata": {},
   "source": [
    "The above is a good way to go for the problem. But just for now let use consider another approach, where we create a rangedict object. "
   ]
  },
  {
   "cell_type": "code",
   "execution_count": null,
   "metadata": {},
   "outputs": [
    {
     "name": "stdout",
     "output_type": "stream",
     "text": [
      "        before    after      |Δ|      % Δ\n",
      "i1          10       14     4.00    40.00% *\n",
      "i2          15       14     1.00     6.67% \n",
      "i5           1       50    49.00  4900.00% **\n"
     ]
    }
   ],
   "source": [
    "class rangedict(dict):\n",
    "    def __missing__(self, key):\n",
    "        for (lower, upper), value in ((k, v) for k, v in self.items() if isinstance(k, tuple)):\n",
    "            if lower <= key < upper:\n",
    "                return value\n",
    "        raise KeyError('cannot find {key} in ranges')\n",
    "    \n",
    "flags = rangedict({\n",
    "    (0,            0.1,): '',\n",
    "    (0.1,          0.5,): '*',\n",
    "    (0.5, float('inf'),): '**',\n",
    "})\n",
    "\n",
    "delt = '\\N{greek capital letter delta}'\n",
    "print(f'{\"\":<5} {\"before\":>8} {\"after\":>8} {f\"|{delt}|\":>8} {f\"% {delt}\":>8}')\n",
    "for k in sorted(set(before) & set(after)):\n",
    "    bef, aft = before[k], after[k]\n",
    "    abs_diff, pct_diff = abs(aft - bef), abs(aft - bef) / bef\n",
    "    print(f'{k:<5} {bef:>8.0f} {aft:>8.0f} {abs_diff:>8.2f} {pct_diff*100:>8.2f}% {flags[pct_diff]}')"
   ]
  },
  {
   "cell_type": "markdown",
   "metadata": {},
   "source": [
    "Now we try to answer the question what is the difference between `__call__` and `__getitem__`."
   ]
  },
  {
   "cell_type": "code",
   "execution_count": null,
   "metadata": {},
   "outputs": [
    {
     "data": {
      "text/plain": [
       "(20, 20, 20)"
      ]
     },
     "execution_count": null,
     "metadata": {},
     "output_type": "execute_result"
    }
   ],
   "source": [
    "class T:\n",
    "    def __call__(self, x):    return x*2\n",
    "    def __getitem__(self, x): return x*2\n",
    "    def f(self, x):           return x*2\n",
    "    \n",
    "obj = T()\n",
    "\n",
    "obj(10), obj[10], obj.f(10)"
   ]
  },
  {
   "cell_type": "markdown",
   "metadata": {},
   "source": [
    "Now we might now want to use f() method as that adds a new function. So now we can look at the assumptions of call and getitem to see which bests suits our problem.\n",
    "\n",
    "Difference number 1 you can only pass one argument to getitem whereas to call you can pass many arguments. Also, you cannot use keyword arguments in getitem."
   ]
  },
  {
   "cell_type": "code",
   "execution_count": null,
   "metadata": {},
   "outputs": [
    {
     "data": {
      "text/plain": [
       "(30, 40, 40)"
      ]
     },
     "execution_count": null,
     "metadata": {},
     "output_type": "execute_result"
    }
   ],
   "source": [
    "class T:\n",
    "    def __call__(self, x, y, *, mode='...'): \n",
    "        return x*2 + y\n",
    "    def __getitem__(self, xy): \n",
    "        x, y = xy\n",
    "        return x*2 + y\n",
    "    def f(self, x, y):\n",
    "        return x*2 + y\n",
    "    \n",
    "obj = T()\n",
    "obj(10, 10), obj[10, 20], obj.f(10, 20)"
   ]
  },
  {
   "cell_type": "markdown",
   "metadata": {},
   "source": [
    "Why @classmethod? Consider a simple network."
   ]
  },
  {
   "cell_type": "code",
   "execution_count": null,
   "metadata": {},
   "outputs": [
    {
     "data": {
      "text/plain": [
       "<__main__.Network at 0x7fd857364990>"
      ]
     },
     "execution_count": null,
     "metadata": {},
     "output_type": "execute_result"
    }
   ],
   "source": [
    "class Network:\n",
    "    def __init__(self, *resistors):\n",
    "        self.resistors = resistors\n",
    "net = Network()\n",
    "\n",
    "net"
   ]
  },
  {
   "cell_type": "markdown",
   "metadata": {},
   "source": [
    "What if I provide a filename which is very realistic as I may provide the resistor info from a file."
   ]
  },
  {
   "cell_type": "code",
   "execution_count": null,
   "metadata": {},
   "outputs": [
    {
     "data": {
      "text/plain": [
       "<__main__.Network at 0x7fd8573fb350>"
      ]
     },
     "execution_count": null,
     "metadata": {},
     "output_type": "execute_result"
    }
   ],
   "source": [
    "class Network:\n",
    "    def __init__(self, *resistors, filename=None):\n",
    "        self.resistors = resistors\n",
    "        if filename is not None:\n",
    "            with open(filename) as f:\n",
    "                ...\n",
    "net = Network()\n",
    "\n",
    "net"
   ]
  },
  {
   "cell_type": "markdown",
   "metadata": {},
   "source": [
    "**Note**:- Don't do the above code. As it is not worth creating your own object systems. My recommendation is that init is just boilerplate and just leave it a boilerplate. Your init should almost never do anything fancier than setting attributes, checking you are constructing valid attributes, constructing derived information. So reading a file is a terrible idea because what if I have have different file extensions then I will have to create separate if conditions for each file type.\n",
    "\n",
    "So instead you should use a classmethod. A classmethod gives you a class from which you can derive whatever you want."
   ]
  },
  {
   "cell_type": "code",
   "execution_count": null,
   "metadata": {},
   "outputs": [],
   "source": [
    "class Network:\n",
    "    def __init__(self, *resistors):\n",
    "        self.resistors = resistors\n",
    "    \n",
    "    @classmethod\n",
    "    def from_file(cls, filename):\n",
    "        with open(filename) as f:\n",
    "            ...\n",
    "    \n",
    "    @classmethod\n",
    "    def from_database(cls, filename):\n",
    "        return cls(...)\n",
    "\n",
    "net = Network.from_file('network.json')"
   ]
  },
  {
   "cell_type": "markdown",
   "metadata": {},
   "source": [
    "Diving deeper into the object model. Let us look at the namedtuple example again."
   ]
  },
  {
   "cell_type": "code",
   "execution_count": null,
   "metadata": {},
   "outputs": [
    {
     "data": {
      "text/plain": [
       "Registor(number='10-123-1242', manufacturer='taiyo', resistance=-10)"
      ]
     },
     "execution_count": null,
     "metadata": {},
     "output_type": "execute_result"
    }
   ],
   "source": [
    "from collections import namedtuple\n",
    "Registor = namedtuple('Registor', 'number manufacturer resistance')\n",
    "r = Registor('10-123-1242', 'taiyo', -10)\n",
    "r"
   ]
  },
  {
   "cell_type": "markdown",
   "metadata": {},
   "source": [
    "The problem is we entered negative resistance and there is no way to check for this. So we can subclass namedtuple and add the checks there."
   ]
  },
  {
   "cell_type": "code",
   "execution_count": null,
   "metadata": {},
   "outputs": [
    {
     "ename": "ValueError",
     "evalue": "resistance must be positive",
     "output_type": "error",
     "traceback": [
      "\u001b[0;31m---------------------------------------------------------------------------\u001b[0m",
      "\u001b[0;31mValueError\u001b[0m                                Traceback (most recent call last)",
      "\u001b[0;32m<ipython-input-121-224dfcfb5ca6>\u001b[0m in \u001b[0;36m<module>\u001b[0;34m\u001b[0m\n\u001b[1;32m      5\u001b[0m         \u001b[0;32mreturn\u001b[0m \u001b[0msuper\u001b[0m\u001b[0;34m(\u001b[0m\u001b[0;34m)\u001b[0m\u001b[0;34m.\u001b[0m\u001b[0m__new__\u001b[0m\u001b[0;34m(\u001b[0m\u001b[0mcls\u001b[0m\u001b[0;34m,\u001b[0m \u001b[0mnumber\u001b[0m\u001b[0;34m,\u001b[0m \u001b[0mmanufacturer\u001b[0m\u001b[0;34m,\u001b[0m \u001b[0mresistance\u001b[0m\u001b[0;34m)\u001b[0m\u001b[0;34m\u001b[0m\u001b[0;34m\u001b[0m\u001b[0m\n\u001b[1;32m      6\u001b[0m \u001b[0;34m\u001b[0m\u001b[0m\n\u001b[0;32m----> 7\u001b[0;31m \u001b[0mr\u001b[0m \u001b[0;34m=\u001b[0m \u001b[0mRegistor\u001b[0m\u001b[0;34m(\u001b[0m\u001b[0;34m'10-123-1242'\u001b[0m\u001b[0;34m,\u001b[0m \u001b[0;34m'taiyo'\u001b[0m\u001b[0;34m,\u001b[0m \u001b[0;34m-\u001b[0m\u001b[0;36m10\u001b[0m\u001b[0;34m)\u001b[0m\u001b[0;34m\u001b[0m\u001b[0;34m\u001b[0m\u001b[0m\n\u001b[0m\u001b[1;32m      8\u001b[0m \u001b[0mr\u001b[0m\u001b[0;34m\u001b[0m\u001b[0;34m\u001b[0m\u001b[0m\n",
      "\u001b[0;32m<ipython-input-121-224dfcfb5ca6>\u001b[0m in \u001b[0;36m__new__\u001b[0;34m(cls, number, manufacturer, resistance)\u001b[0m\n\u001b[1;32m      2\u001b[0m     \u001b[0;32mdef\u001b[0m \u001b[0m__new__\u001b[0m\u001b[0;34m(\u001b[0m\u001b[0mcls\u001b[0m\u001b[0;34m,\u001b[0m \u001b[0mnumber\u001b[0m\u001b[0;34m,\u001b[0m \u001b[0mmanufacturer\u001b[0m\u001b[0;34m,\u001b[0m \u001b[0mresistance\u001b[0m\u001b[0;34m=\u001b[0m\u001b[0;36m10\u001b[0m\u001b[0;34m)\u001b[0m\u001b[0;34m:\u001b[0m\u001b[0;34m\u001b[0m\u001b[0;34m\u001b[0m\u001b[0m\n\u001b[1;32m      3\u001b[0m         \u001b[0;32mif\u001b[0m \u001b[0mresistance\u001b[0m \u001b[0;34m<\u001b[0m \u001b[0;36m0\u001b[0m\u001b[0;34m:\u001b[0m\u001b[0;34m\u001b[0m\u001b[0;34m\u001b[0m\u001b[0m\n\u001b[0;32m----> 4\u001b[0;31m             \u001b[0;32mraise\u001b[0m \u001b[0mValueError\u001b[0m\u001b[0;34m(\u001b[0m\u001b[0;34m'resistance must be positive'\u001b[0m\u001b[0;34m)\u001b[0m\u001b[0;34m\u001b[0m\u001b[0;34m\u001b[0m\u001b[0m\n\u001b[0m\u001b[1;32m      5\u001b[0m         \u001b[0;32mreturn\u001b[0m \u001b[0msuper\u001b[0m\u001b[0;34m(\u001b[0m\u001b[0;34m)\u001b[0m\u001b[0;34m.\u001b[0m\u001b[0m__new__\u001b[0m\u001b[0;34m(\u001b[0m\u001b[0mcls\u001b[0m\u001b[0;34m,\u001b[0m \u001b[0mnumber\u001b[0m\u001b[0;34m,\u001b[0m \u001b[0mmanufacturer\u001b[0m\u001b[0;34m,\u001b[0m \u001b[0mresistance\u001b[0m\u001b[0;34m)\u001b[0m\u001b[0;34m\u001b[0m\u001b[0;34m\u001b[0m\u001b[0m\n\u001b[1;32m      6\u001b[0m \u001b[0;34m\u001b[0m\u001b[0m\n",
      "\u001b[0;31mValueError\u001b[0m: resistance must be positive"
     ]
    }
   ],
   "source": [
    "class Registor(namedtuple('RegisterBase', 'number manufacturer resistance')):\n",
    "    def __new__(cls, number, manufacturer, resistance=10):\n",
    "        if resistance < 0:\n",
    "            raise ValueError('resistance must be positive')\n",
    "        return super().__new__(cls, number, manufacturer, resistance)\n",
    "    \n",
    "r = Registor('10-123-1242', 'taiyo', -10)\n",
    "r"
   ]
  },
  {
   "cell_type": "markdown",
   "metadata": {},
   "source": [
    "Now what if we don't want these to be immutable objects. Like if we ave potentiometer where the resistance can change."
   ]
  },
  {
   "cell_type": "code",
   "execution_count": null,
   "metadata": {},
   "outputs": [
    {
     "data": {
      "text/plain": [
       "2"
      ]
     },
     "execution_count": null,
     "metadata": {},
     "output_type": "execute_result"
    }
   ],
   "source": [
    "class Resistor:\n",
    "    def __init__(self, number, manufacturer, resistance):\n",
    "        if resistance < 0:\n",
    "            raise ValueError('resistance must be positive')\n",
    "        self.number, self.manufacturer, self.resistance = number, manufacturer, resistance\n",
    "        \n",
    "    def get_resistance(self):\n",
    "        return self.resistance\n",
    "    \n",
    "    def set_resistance(self, value):\n",
    "        if value < 0:\n",
    "            raise ValueError('resistance must be positive')\n",
    "        self.resistance = value\n",
    "        \n",
    "r = Resistor('10-123-1242', 'taiyo', 10)\n",
    "r.set_resistance(2)\n",
    "r.get_resistance()"
   ]
  },
  {
   "cell_type": "markdown",
   "metadata": {},
   "source": [
    "Now we have to set this getter and setter for every attribute. This is where the @property decorater comes into play."
   ]
  },
  {
   "cell_type": "code",
   "execution_count": null,
   "metadata": {},
   "outputs": [
    {
     "data": {
      "text/plain": [
       "2"
      ]
     },
     "execution_count": null,
     "metadata": {},
     "output_type": "execute_result"
    }
   ],
   "source": [
    "class Resistor:\n",
    "    def __init__(self, number, manufacturer, resistance):\n",
    "        self.number, self.manufacturer, self.resistance = number, manufacturer, resistance\n",
    "    \n",
    "    @property\n",
    "    def resistance(self):\n",
    "        return self._resistance\n",
    "    \n",
    "    @resistance.setter\n",
    "    def resistance(self, value):\n",
    "        if value < 0:\n",
    "            raise ValueError('resistance must be positive')\n",
    "        self._resistance = value\n",
    "        \n",
    "r = Resistor('10-123-1242', 'taiyo', 10)\n",
    "r.resistance = 2\n",
    "\n",
    "r.resistance"
   ]
  },
  {
   "cell_type": "markdown",
   "metadata": {},
   "source": [
    "Let us get deeper into object constructions. A class in most basic form is constructed as follows:"
   ]
  },
  {
   "cell_type": "code",
   "execution_count": null,
   "metadata": {},
   "outputs": [],
   "source": [
    "class T:\n",
    "    pass"
   ]
  },
  {
   "cell_type": "markdown",
   "metadata": {},
   "source": [
    "We know we can create an object by class T but this is actually dynamic code. This isn't C++, there isn't some bag of bits that represent this class, no actual runtime representation of this class but only some compile representation to figure out how you can translate pointer accesses into direct offset load operations. This is actually runtime code. We can check this with `dis` module in python which disassembles code."
   ]
  },
  {
   "cell_type": "code",
   "execution_count": null,
   "metadata": {},
   "outputs": [
    {
     "name": "stdout",
     "output_type": "stream",
     "text": [
      "  3           0 LOAD_GLOBAL              0 (x)\n",
      "              2 LOAD_GLOBAL              1 (y)\n",
      "              4 BINARY_ADD\n",
      "              6 RETURN_VALUE\n"
     ]
    }
   ],
   "source": [
    "from dis import dis\n",
    "def f():\n",
    "    return x + y\n",
    "dis(f)"
   ]
  },
  {
   "cell_type": "markdown",
   "metadata": {},
   "source": [
    "Now if we try to create a class inside a function we see a `LOAD_BUILD_CLASS`."
   ]
  },
  {
   "cell_type": "code",
   "execution_count": null,
   "metadata": {},
   "outputs": [
    {
     "name": "stdout",
     "output_type": "stream",
     "text": [
      "  2           0 LOAD_BUILD_CLASS\n",
      "              2 LOAD_CONST               1 (<code object T at 0x7fd29858fc00, file \"<ipython-input-3-398fb3a15e53>\", line 2>)\n",
      "              4 LOAD_CONST               2 ('T')\n",
      "              6 MAKE_FUNCTION            0\n",
      "              8 LOAD_CONST               2 ('T')\n",
      "             10 CALL_FUNCTION            2\n",
      "             12 STORE_FAST               0 (T)\n",
      "             14 LOAD_CONST               0 (None)\n",
      "             16 RETURN_VALUE\n",
      "\n",
      "Disassembly of <code object T at 0x7fd29858fc00, file \"<ipython-input-3-398fb3a15e53>\", line 2>:\n",
      "  2           0 LOAD_NAME                0 (__name__)\n",
      "              2 STORE_NAME               1 (__module__)\n",
      "              4 LOAD_CONST               0 ('f.<locals>.T')\n",
      "              6 STORE_NAME               2 (__qualname__)\n",
      "\n",
      "  3           8 LOAD_CONST               1 (None)\n",
      "             10 RETURN_VALUE\n"
     ]
    }
   ],
   "source": [
    "def f():\n",
    "    class T:\n",
    "        pass\n",
    "dis(f)"
   ]
  },
  {
   "cell_type": "markdown",
   "metadata": {},
   "source": [
    "This LOAD_BUILD_CLASS class the base mechanism that is responsible for creating classes in python. So if we write our own version of it, we can hook every class construction in the entire runtime of your program."
   ]
  },
  {
   "cell_type": "code",
   "execution_count": null,
   "metadata": {},
   "outputs": [
    {
     "name": "stdout",
     "output_type": "stream",
     "text": [
      "__build_class__((<function T at 0x7fbce82db7a0>, 'T'), {})\n"
     ]
    }
   ],
   "source": [
    "from builtins import __build_class__\n",
    "def __build_class__(*args, bc=__build_class__, **kwargs):\n",
    "    print(f'__build_class__({args!r}, {kwargs!r})')\n",
    "    return bc(*args, **kwargs)\n",
    "import builtins\n",
    "builtins.__build_class__ = __build_class__\n",
    "\n",
    "class T:\n",
    "    pass"
   ]
  },
  {
   "cell_type": "markdown",
   "metadata": {},
   "source": [
    "The above example changes the default building of the class such that whenever you build a class you print that line about it. Now this is not much useful because if now I call some library then it will print that message for every class construction in that library. This class exists if you want to change memory allocation or do some debugging.\n",
    "\n",
    "More useful is the metaclass mechanism."
   ]
  },
  {
   "cell_type": "code",
   "execution_count": null,
   "metadata": {},
   "outputs": [
    {
     "name": "stdout",
     "output_type": "stream",
     "text": [
      "M.__new__(<class '__main__.M'>, 'T', (), {'__module__': '__main__', '__qualname__': 'T'})\n",
      "M.__init__(<class '__main__.T'>, 'T', (), {'__module__': '__main__', '__qualname__': 'T'})\n"
     ]
    }
   ],
   "source": [
    "class M(type):\n",
    "    def __new__(cls, name, bases, body):\n",
    "        print(f'M.__new__({cls!r}, {name!r}, {bases!r}, {body!r})')\n",
    "        return super().__new__(cls, name, bases, body)\n",
    "    \n",
    "    def __init__(self, name, bases, body):\n",
    "        print(f'M.__init__({self!r}, {name!r}, {bases!r}, {body!r})')\n",
    "        super().__init__(name, bases, body)\n",
    "        \n",
    "class T(metaclass=M):\n",
    "    pass"
   ]
  },
  {
   "cell_type": "markdown",
   "metadata": {},
   "source": [
    "A metaclass is basically a hook into the object construction process. In other words when you construct the type in `class T(metaclass=M)` and you give it a metaclass there are two hookpoints for how that type is constructed. One is called new and other called init. There is a third called call. Now as you can see when we constructed the class T as there were hooks in the new and init, we printed that stuff out.\n",
    "\n",
    "We can do some fancy stuff here. One of the things we can do is to provide the dictionary that's used for processing the body of that class which is done by the prepare method."
   ]
  },
  {
   "cell_type": "code",
   "execution_count": null,
   "metadata": {},
   "outputs": [
    {
     "name": "stdout",
     "output_type": "stream",
     "text": [
      "M.__prepare__('T', ())\n",
      "M.__new__(<class '__main__.M'>, 'T', (), {'__module__': '__main__', '__qualname__': 'T'})\n",
      "M.__init__(<class '__main__.T'>, 'T', (), {'__module__': '__main__', '__qualname__': 'T'})\n"
     ]
    }
   ],
   "source": [
    "class M(type):\n",
    "    def __new__(cls, name, bases, body):\n",
    "        print(f'M.__new__({cls!r}, {name!r}, {bases!r}, {body!r})')\n",
    "        return super().__new__(cls, name, bases, body)\n",
    "    \n",
    "    def __init__(self, name, bases, body):\n",
    "        print(f'M.__init__({self!r}, {name!r}, {bases!r}, {body!r})')\n",
    "        super().__init__(name, bases, body)\n",
    "        \n",
    "    @staticmethod\n",
    "    def __prepare__(name, bases):\n",
    "        print(f'M.__prepare__({name!r}, {bases!r})')\n",
    "        return {}\n",
    "    \n",
    "class T(metaclass=M):\n",
    "    pass"
   ]
  },
  {
   "cell_type": "code",
   "execution_count": null,
   "metadata": {},
   "outputs": [],
   "source": []
  }
 ],
 "metadata": {
  "kernelspec": {
   "display_name": "Python 3",
   "language": "python",
   "name": "python3"
  }
 },
 "nbformat": 4,
 "nbformat_minor": 4
}
