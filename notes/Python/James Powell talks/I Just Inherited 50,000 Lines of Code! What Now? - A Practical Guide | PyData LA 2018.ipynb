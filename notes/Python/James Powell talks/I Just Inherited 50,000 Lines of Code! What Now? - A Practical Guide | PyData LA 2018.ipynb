{
 "cells": [
  {
   "cell_type": "markdown",
   "metadata": {},
   "source": [
    "# I Just Inherited 50,000 Lines of Code! What Now? - A Practical Guide | PyData LA 2018\n",
    "> Help! I just inherited 50,000 lines of Python code from someone who no longer works here. What do I do? This talk will cover some practical strategies for dealing with large Python code bases."
   ]
  },
  {
   "cell_type": "markdown",
   "metadata": {},
   "source": [
    "The scenario is this someone left in your company with 50000 lines of code and now it's your problem. What to do in that situation is the topic of this talk. Just for some time measure if someone gave you these many line of code, the amount of time you require is as follows:\n",
    "\n",
    "* 5     lines of code -> 1 hour\n",
    "* 50    lines of code -> 1 day (to rewrite it so you don't have to use those 50 lines)\n",
    "* 500   lines of code -> 1 week (read through and rewrite)\n",
    "* 5000  lines of code -> 1 month\n",
    "\n",
    "Now until this point maybe a single person might have written that code. But any order of magnitude code greater than that has to be written by many people. If not just quit what you are doing. So why not ask for help, check documentation (mailing list, wiki, or something that tells about the development process). So the problem is in the middle right around 50,000 lines of code. Because when you are dealing with 50,000 lines of code it is possible:\n",
    "\n",
    "* It is work product of one person\n",
    "* maybe done over 1~3 years\n",
    "* critical\n",
    "* lots of hidden requirements\n",
    "* it is possible that there is no documentation and tests as they know what they were doing\n",
    "* unreasonable expectations (that person might have fixed some bugs in few weeks but you have to say it will take me months to get around this code)"
   ]
  },
  {
   "cell_type": "markdown",
   "metadata": {},
   "source": [
    "1. **Find something to run and run it!**. As once you are able to run it you will be able to dismantle it much better.\n",
    "2. **Try to iteratively narrow your focus**. You may not be able to master this codebase.\n",
    "3. **Probably <20% is interesting**.\n",
    "4. **Probably >50% works**\n",
    "5. Thee can be boring code and dumb code. Boring code is static, repetitive, application specific and lots of it. \n",
    "6. There can be smart and interesting code. That is dynamic, core functionality and small bits. \n",
    "\n",
    "We cannot analyze smart code and dumb code statically because it's too complex and there is too much of it respectively. If there is a test suite then run it, as there be some cases when author did not update the tests. There might be some sample code or production code. The idea is to set a baseline: expectations, requirements, runtime context.\n",
    "\n",
    "What if the software is data-driven? You are out of luck unless you have a piece of data that exposes all of the software.\n",
    "\n",
    "How do I find the smart part? And why you have to do it dynamically?\n",
    "\n",
    "Static techniques:\n",
    "* Run `cloc` to see what the code comprises of. How much is html, python, c, fortran.\n",
    "* Take all of the code and sort it by the lines. This can give you some common lines and a couple of hints.`$ find -iname '*.py' | xargs cat | sort | uniq -c | sort -nr`\n",
    "* Take every file and find the most common words. These are good for repetitive code, not libraries.\n",
    "\n",
    "Dynamic techniques:\n",
    "* Instrumentation mechanism (run test suit)\n",
    "* `strace -e trace=open,stat,read,write python ...`. Get what files are opened, written to and this can give you some idea which configuration files are used. What modules are touched by the file, where are they available.\n",
    "* Check the environment variables they are using using `os.environ` to get the runtime context.\n",
    "* Get a histogram of which line of code gets called how many times. You can do the same thing for filename.\n",
    "* Get to know which module is most imported i.e. internal modules. If there is a spider web and a core cannot be found then run from your job.\n",
    "* Use `import objgraph; objgraph.show_refs([x], filename='output.png')`\n",
    "\n",
    "How do I write better code?\n",
    "* Make it easy to run. By writing test code and make sure it is up-to date. If not test code give them sample code.\n",
    "* It it is a data-driven application give them sample data\n",
    "* Make your code run in a very default minimalist environment possibly in some docker environment, maybe with some Ubuntu LTS, no network access, access to any shared folder. So they know what the program needs inorder to run.\n",
    "* Ideally make your code make available as a module rather than a command line only possibility. As it allows to port only pieces of the program\n",
    "* Have a flat structure of the program. As in the stack trace the deeper the trace the more difficult it is to modify. So you should aim to have a controller that calls a bunch of stuff and ideally there is a centralized hub that controls everything.\n",
    "* Write documentation. Atleast put some assertions as that can help a lot. It reduces the number of possibilities."
   ]
  },
  {
   "cell_type": "code",
   "execution_count": null,
   "metadata": {},
   "outputs": [],
   "source": []
  }
 ],
 "metadata": {
  "kernelspec": {
   "display_name": "Python 3",
   "language": "python",
   "name": "python3"
  }
 },
 "nbformat": 4,
 "nbformat_minor": 4
}
